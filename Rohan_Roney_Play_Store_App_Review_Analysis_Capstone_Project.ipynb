{
  "nbformat": 4,
  "nbformat_minor": 0,
  "metadata": {
    "kernelspec": {
      "display_name": "Python 3",
      "language": "python",
      "name": "python3"
    },
    "language_info": {
      "codemirror_mode": {
        "name": "ipython",
        "version": 3
      },
      "file_extension": ".py",
      "mimetype": "text/x-python",
      "name": "python",
      "nbconvert_exporter": "python",
      "pygments_lexer": "ipython3",
      "version": "3.6.6"
    },
    "colab": {
      "name": "Rohan Roney-Play Store App Review Analysis - Capstone Project.ipynb",
      "provenance": [],
      "collapsed_sections": [],
      "include_colab_link": true
    }
  },
  "cells": [
    {
      "cell_type": "markdown",
      "metadata": {
        "id": "view-in-github",
        "colab_type": "text"
      },
      "source": [
        "<a href=\"https://colab.research.google.com/github/rohanroney/Play-Store-App-Review-Analysis/blob/main/Rohan_Roney_Play_Store_App_Review_Analysis_Capstone_Project.ipynb\" target=\"_parent\"><img src=\"https://colab.research.google.com/assets/colab-badge.svg\" alt=\"Open In Colab\"/></a>"
      ]
    },
    {
      "cell_type": "markdown",
      "metadata": {
        "id": "Y06xIdG26kRF"
      },
      "source": [
        "## <b> The Play Store apps data has enormous potential to drive app-making businesses to success. Actionable insights can be drawn for developers to work on and capture the Android market. </b>\n",
        "\n",
        "## <b> Each app (row) has values for catergory, rating, size, and more. Another dataset contains customer reviews of the android apps.</b>\n",
        "\n",
        "## <b> Explore and analyze the data to discover key factors responsible for app engagement and success. </b>"
      ]
    },
    {
      "cell_type": "code",
      "metadata": {
        "id": "dByMsuzT8Tnw"
      },
      "source": [
        "# Import all the important libraries\n",
        "import pandas as pd\n",
        "import numpy as np\n",
        "import matplotlib.pyplot as plt"
      ],
      "execution_count": 2,
      "outputs": []
    },
    {
      "cell_type": "code",
      "metadata": {
        "colab": {
          "base_uri": "https://localhost:8080/"
        },
        "id": "ky65AdVIHr85",
        "outputId": "395139c9-079f-4344-c262-ec1a7f14f346"
      },
      "source": [
        "from google.colab import drive\n",
        "drive.mount('/content/drive')"
      ],
      "execution_count": 3,
      "outputs": [
        {
          "output_type": "stream",
          "text": [
            "Mounted at /content/drive\n"
          ],
          "name": "stdout"
        }
      ]
    },
    {
      "cell_type": "markdown",
      "metadata": {
        "id": "G0lJEBmSIzTv"
      },
      "source": [
        "## Creating dataframes for both playstore data as well as user reviews data"
      ]
    },
    {
      "cell_type": "code",
      "metadata": {
        "id": "z1kis5bsG1v2"
      },
      "source": [
        "# Reading the data from the csv files\n",
        "working_directory = '/content/drive/MyDrive/AlmaBetter/Cohort Nilgiri/Module 1/Week 4/Capstone Project 1-Play Store App Review Analysis/dat/'\n",
        "play_store_df = pd.read_csv(working_directory + 'Play Store Data.csv')\n",
        "user_reviews_df = pd.read_csv(working_directory + 'User Reviews.csv')"
      ],
      "execution_count": 5,
      "outputs": []
    },
    {
      "cell_type": "markdown",
      "metadata": {
        "id": "O8uemgHHI-D7"
      },
      "source": [
        "###Understanding the Play Store data"
      ]
    },
    {
      "cell_type": "code",
      "metadata": {
        "colab": {
          "base_uri": "https://localhost:8080/",
          "height": 323
        },
        "id": "aK5H3Te8G134",
        "outputId": "0f22aec1-7c8f-44cb-c151-f74fe37f7165"
      },
      "source": [
        "play_store_df.head()"
      ],
      "execution_count": 6,
      "outputs": [
        {
          "output_type": "execute_result",
          "data": {
            "text/html": [
              "<div>\n",
              "<style scoped>\n",
              "    .dataframe tbody tr th:only-of-type {\n",
              "        vertical-align: middle;\n",
              "    }\n",
              "\n",
              "    .dataframe tbody tr th {\n",
              "        vertical-align: top;\n",
              "    }\n",
              "\n",
              "    .dataframe thead th {\n",
              "        text-align: right;\n",
              "    }\n",
              "</style>\n",
              "<table border=\"1\" class=\"dataframe\">\n",
              "  <thead>\n",
              "    <tr style=\"text-align: right;\">\n",
              "      <th></th>\n",
              "      <th>App</th>\n",
              "      <th>Category</th>\n",
              "      <th>Rating</th>\n",
              "      <th>Reviews</th>\n",
              "      <th>Size</th>\n",
              "      <th>Installs</th>\n",
              "      <th>Type</th>\n",
              "      <th>Price</th>\n",
              "      <th>Content Rating</th>\n",
              "      <th>Genres</th>\n",
              "      <th>Last Updated</th>\n",
              "      <th>Current Ver</th>\n",
              "      <th>Android Ver</th>\n",
              "    </tr>\n",
              "  </thead>\n",
              "  <tbody>\n",
              "    <tr>\n",
              "      <th>0</th>\n",
              "      <td>Photo Editor &amp; Candy Camera &amp; Grid &amp; ScrapBook</td>\n",
              "      <td>ART_AND_DESIGN</td>\n",
              "      <td>4.1</td>\n",
              "      <td>159</td>\n",
              "      <td>19M</td>\n",
              "      <td>10,000+</td>\n",
              "      <td>Free</td>\n",
              "      <td>0</td>\n",
              "      <td>Everyone</td>\n",
              "      <td>Art &amp; Design</td>\n",
              "      <td>January 7, 2018</td>\n",
              "      <td>1.0.0</td>\n",
              "      <td>4.0.3 and up</td>\n",
              "    </tr>\n",
              "    <tr>\n",
              "      <th>1</th>\n",
              "      <td>Coloring book moana</td>\n",
              "      <td>ART_AND_DESIGN</td>\n",
              "      <td>3.9</td>\n",
              "      <td>967</td>\n",
              "      <td>14M</td>\n",
              "      <td>500,000+</td>\n",
              "      <td>Free</td>\n",
              "      <td>0</td>\n",
              "      <td>Everyone</td>\n",
              "      <td>Art &amp; Design;Pretend Play</td>\n",
              "      <td>January 15, 2018</td>\n",
              "      <td>2.0.0</td>\n",
              "      <td>4.0.3 and up</td>\n",
              "    </tr>\n",
              "    <tr>\n",
              "      <th>2</th>\n",
              "      <td>U Launcher Lite – FREE Live Cool Themes, Hide ...</td>\n",
              "      <td>ART_AND_DESIGN</td>\n",
              "      <td>4.7</td>\n",
              "      <td>87510</td>\n",
              "      <td>8.7M</td>\n",
              "      <td>5,000,000+</td>\n",
              "      <td>Free</td>\n",
              "      <td>0</td>\n",
              "      <td>Everyone</td>\n",
              "      <td>Art &amp; Design</td>\n",
              "      <td>August 1, 2018</td>\n",
              "      <td>1.2.4</td>\n",
              "      <td>4.0.3 and up</td>\n",
              "    </tr>\n",
              "    <tr>\n",
              "      <th>3</th>\n",
              "      <td>Sketch - Draw &amp; Paint</td>\n",
              "      <td>ART_AND_DESIGN</td>\n",
              "      <td>4.5</td>\n",
              "      <td>215644</td>\n",
              "      <td>25M</td>\n",
              "      <td>50,000,000+</td>\n",
              "      <td>Free</td>\n",
              "      <td>0</td>\n",
              "      <td>Teen</td>\n",
              "      <td>Art &amp; Design</td>\n",
              "      <td>June 8, 2018</td>\n",
              "      <td>Varies with device</td>\n",
              "      <td>4.2 and up</td>\n",
              "    </tr>\n",
              "    <tr>\n",
              "      <th>4</th>\n",
              "      <td>Pixel Draw - Number Art Coloring Book</td>\n",
              "      <td>ART_AND_DESIGN</td>\n",
              "      <td>4.3</td>\n",
              "      <td>967</td>\n",
              "      <td>2.8M</td>\n",
              "      <td>100,000+</td>\n",
              "      <td>Free</td>\n",
              "      <td>0</td>\n",
              "      <td>Everyone</td>\n",
              "      <td>Art &amp; Design;Creativity</td>\n",
              "      <td>June 20, 2018</td>\n",
              "      <td>1.1</td>\n",
              "      <td>4.4 and up</td>\n",
              "    </tr>\n",
              "  </tbody>\n",
              "</table>\n",
              "</div>"
            ],
            "text/plain": [
              "                                                 App  ...   Android Ver\n",
              "0     Photo Editor & Candy Camera & Grid & ScrapBook  ...  4.0.3 and up\n",
              "1                                Coloring book moana  ...  4.0.3 and up\n",
              "2  U Launcher Lite – FREE Live Cool Themes, Hide ...  ...  4.0.3 and up\n",
              "3                              Sketch - Draw & Paint  ...    4.2 and up\n",
              "4              Pixel Draw - Number Art Coloring Book  ...    4.4 and up\n",
              "\n",
              "[5 rows x 13 columns]"
            ]
          },
          "metadata": {
            "tags": []
          },
          "execution_count": 6
        }
      ]
    },
    {
      "cell_type": "code",
      "metadata": {
        "colab": {
          "base_uri": "https://localhost:8080/"
        },
        "id": "97wgJ51BJ0fJ",
        "outputId": "feb4f3d1-7847-445e-9b75-ae2207f6756d"
      },
      "source": [
        "play_store_df.shape"
      ],
      "execution_count": 8,
      "outputs": [
        {
          "output_type": "execute_result",
          "data": {
            "text/plain": [
              "(10841, 13)"
            ]
          },
          "metadata": {
            "tags": []
          },
          "execution_count": 8
        }
      ]
    },
    {
      "cell_type": "code",
      "metadata": {
        "colab": {
          "base_uri": "https://localhost:8080/"
        },
        "id": "HukOtvSXG1_c",
        "outputId": "54485507-f16a-4d69-8207-8a73de297764"
      },
      "source": [
        "play_store_df.info()"
      ],
      "execution_count": 7,
      "outputs": [
        {
          "output_type": "stream",
          "text": [
            "<class 'pandas.core.frame.DataFrame'>\n",
            "RangeIndex: 10841 entries, 0 to 10840\n",
            "Data columns (total 13 columns):\n",
            " #   Column          Non-Null Count  Dtype  \n",
            "---  ------          --------------  -----  \n",
            " 0   App             10841 non-null  object \n",
            " 1   Category        10841 non-null  object \n",
            " 2   Rating          9367 non-null   float64\n",
            " 3   Reviews         10841 non-null  object \n",
            " 4   Size            10841 non-null  object \n",
            " 5   Installs        10841 non-null  object \n",
            " 6   Type            10840 non-null  object \n",
            " 7   Price           10841 non-null  object \n",
            " 8   Content Rating  10840 non-null  object \n",
            " 9   Genres          10841 non-null  object \n",
            " 10  Last Updated    10841 non-null  object \n",
            " 11  Current Ver     10833 non-null  object \n",
            " 12  Android Ver     10838 non-null  object \n",
            "dtypes: float64(1), object(12)\n",
            "memory usage: 1.1+ MB\n"
          ],
          "name": "stdout"
        }
      ]
    },
    {
      "cell_type": "code",
      "metadata": {
        "colab": {
          "base_uri": "https://localhost:8080/",
          "height": 297
        },
        "id": "YGT0OOgHG2JL",
        "outputId": "8e30a6f1-f6f0-4bdb-c3e8-0a850e684f58"
      },
      "source": [
        "play_store_df.describe()"
      ],
      "execution_count": 9,
      "outputs": [
        {
          "output_type": "execute_result",
          "data": {
            "text/html": [
              "<div>\n",
              "<style scoped>\n",
              "    .dataframe tbody tr th:only-of-type {\n",
              "        vertical-align: middle;\n",
              "    }\n",
              "\n",
              "    .dataframe tbody tr th {\n",
              "        vertical-align: top;\n",
              "    }\n",
              "\n",
              "    .dataframe thead th {\n",
              "        text-align: right;\n",
              "    }\n",
              "</style>\n",
              "<table border=\"1\" class=\"dataframe\">\n",
              "  <thead>\n",
              "    <tr style=\"text-align: right;\">\n",
              "      <th></th>\n",
              "      <th>Rating</th>\n",
              "    </tr>\n",
              "  </thead>\n",
              "  <tbody>\n",
              "    <tr>\n",
              "      <th>count</th>\n",
              "      <td>9367.000000</td>\n",
              "    </tr>\n",
              "    <tr>\n",
              "      <th>mean</th>\n",
              "      <td>4.193338</td>\n",
              "    </tr>\n",
              "    <tr>\n",
              "      <th>std</th>\n",
              "      <td>0.537431</td>\n",
              "    </tr>\n",
              "    <tr>\n",
              "      <th>min</th>\n",
              "      <td>1.000000</td>\n",
              "    </tr>\n",
              "    <tr>\n",
              "      <th>25%</th>\n",
              "      <td>4.000000</td>\n",
              "    </tr>\n",
              "    <tr>\n",
              "      <th>50%</th>\n",
              "      <td>4.300000</td>\n",
              "    </tr>\n",
              "    <tr>\n",
              "      <th>75%</th>\n",
              "      <td>4.500000</td>\n",
              "    </tr>\n",
              "    <tr>\n",
              "      <th>max</th>\n",
              "      <td>19.000000</td>\n",
              "    </tr>\n",
              "  </tbody>\n",
              "</table>\n",
              "</div>"
            ],
            "text/plain": [
              "            Rating\n",
              "count  9367.000000\n",
              "mean      4.193338\n",
              "std       0.537431\n",
              "min       1.000000\n",
              "25%       4.000000\n",
              "50%       4.300000\n",
              "75%       4.500000\n",
              "max      19.000000"
            ]
          },
          "metadata": {
            "tags": []
          },
          "execution_count": 9
        }
      ]
    },
    {
      "cell_type": "code",
      "metadata": {
        "colab": {
          "base_uri": "https://localhost:8080/",
          "height": 114
        },
        "id": "LgLsGs3zG2Q2",
        "outputId": "982dbcfc-b5c4-4bf1-81ad-8e0106ff471b"
      },
      "source": [
        "play_store_df[play_store_df['Rating']>5]"
      ],
      "execution_count": 11,
      "outputs": [
        {
          "output_type": "execute_result",
          "data": {
            "text/html": [
              "<div>\n",
              "<style scoped>\n",
              "    .dataframe tbody tr th:only-of-type {\n",
              "        vertical-align: middle;\n",
              "    }\n",
              "\n",
              "    .dataframe tbody tr th {\n",
              "        vertical-align: top;\n",
              "    }\n",
              "\n",
              "    .dataframe thead th {\n",
              "        text-align: right;\n",
              "    }\n",
              "</style>\n",
              "<table border=\"1\" class=\"dataframe\">\n",
              "  <thead>\n",
              "    <tr style=\"text-align: right;\">\n",
              "      <th></th>\n",
              "      <th>App</th>\n",
              "      <th>Category</th>\n",
              "      <th>Rating</th>\n",
              "      <th>Reviews</th>\n",
              "      <th>Size</th>\n",
              "      <th>Installs</th>\n",
              "      <th>Type</th>\n",
              "      <th>Price</th>\n",
              "      <th>Content Rating</th>\n",
              "      <th>Genres</th>\n",
              "      <th>Last Updated</th>\n",
              "      <th>Current Ver</th>\n",
              "      <th>Android Ver</th>\n",
              "    </tr>\n",
              "  </thead>\n",
              "  <tbody>\n",
              "    <tr>\n",
              "      <th>10472</th>\n",
              "      <td>Life Made WI-Fi Touchscreen Photo Frame</td>\n",
              "      <td>1.9</td>\n",
              "      <td>19.0</td>\n",
              "      <td>3.0M</td>\n",
              "      <td>1,000+</td>\n",
              "      <td>Free</td>\n",
              "      <td>0</td>\n",
              "      <td>Everyone</td>\n",
              "      <td>NaN</td>\n",
              "      <td>February 11, 2018</td>\n",
              "      <td>1.0.19</td>\n",
              "      <td>4.0 and up</td>\n",
              "      <td>NaN</td>\n",
              "    </tr>\n",
              "  </tbody>\n",
              "</table>\n",
              "</div>"
            ],
            "text/plain": [
              "                                           App Category  ...  Current Ver Android Ver\n",
              "10472  Life Made WI-Fi Touchscreen Photo Frame      1.9  ...   4.0 and up         NaN\n",
              "\n",
              "[1 rows x 13 columns]"
            ]
          },
          "metadata": {
            "tags": []
          },
          "execution_count": 11
        }
      ]
    },
    {
      "cell_type": "code",
      "metadata": {
        "colab": {
          "base_uri": "https://localhost:8080/"
        },
        "id": "4g5wbEnMG2X_",
        "outputId": "15778e75-9f60-4666-fbbd-2643a08fcd0e"
      },
      "source": [
        "len(list(play_store_df['App'].unique()))"
      ],
      "execution_count": 26,
      "outputs": [
        {
          "output_type": "execute_result",
          "data": {
            "text/plain": [
              "9660"
            ]
          },
          "metadata": {
            "tags": []
          },
          "execution_count": 26
        }
      ]
    },
    {
      "cell_type": "markdown",
      "metadata": {
        "id": "rVohT6XBdG_N"
      },
      "source": [
        "### Remove duplicates"
      ]
    },
    {
      "cell_type": "code",
      "metadata": {
        "id": "yM9R2mj1b4r9"
      },
      "source": [
        "play_store = play_store_df.copy()"
      ],
      "execution_count": 110,
      "outputs": []
    },
    {
      "cell_type": "code",
      "metadata": {
        "id": "8kYkkN3BG2ba"
      },
      "source": [
        "play_store.drop_duplicates(subset =\"App\", keep = 'last', inplace = True) "
      ],
      "execution_count": 111,
      "outputs": []
    },
    {
      "cell_type": "code",
      "metadata": {
        "colab": {
          "base_uri": "https://localhost:8080/"
        },
        "id": "JKjXQPA7G2kq",
        "outputId": "93738679-86c0-4864-e4d0-85aed24a7a60"
      },
      "source": [
        "play_store.shape"
      ],
      "execution_count": 112,
      "outputs": [
        {
          "output_type": "execute_result",
          "data": {
            "text/plain": [
              "(9660, 13)"
            ]
          },
          "metadata": {
            "tags": []
          },
          "execution_count": 112
        }
      ]
    },
    {
      "cell_type": "code",
      "metadata": {
        "colab": {
          "base_uri": "https://localhost:8080/"
        },
        "id": "K4t14oRZG2nc",
        "outputId": "8edf9e47-7b0f-4a41-fbdb-0c3d0447ac3a"
      },
      "source": [
        "play_store.info()"
      ],
      "execution_count": 113,
      "outputs": [
        {
          "output_type": "stream",
          "text": [
            "<class 'pandas.core.frame.DataFrame'>\n",
            "Int64Index: 9660 entries, 0 to 10840\n",
            "Data columns (total 13 columns):\n",
            " #   Column          Non-Null Count  Dtype  \n",
            "---  ------          --------------  -----  \n",
            " 0   App             9660 non-null   object \n",
            " 1   Category        9660 non-null   object \n",
            " 2   Rating          8197 non-null   float64\n",
            " 3   Reviews         9660 non-null   object \n",
            " 4   Size            9660 non-null   object \n",
            " 5   Installs        9660 non-null   object \n",
            " 6   Type            9659 non-null   object \n",
            " 7   Price           9660 non-null   object \n",
            " 8   Content Rating  9659 non-null   object \n",
            " 9   Genres          9660 non-null   object \n",
            " 10  Last Updated    9660 non-null   object \n",
            " 11  Current Ver     9652 non-null   object \n",
            " 12  Android Ver     9657 non-null   object \n",
            "dtypes: float64(1), object(12)\n",
            "memory usage: 1.0+ MB\n"
          ],
          "name": "stdout"
        }
      ]
    },
    {
      "cell_type": "code",
      "metadata": {
        "colab": {
          "base_uri": "https://localhost:8080/"
        },
        "id": "_xzyynwFdnAC",
        "outputId": "846ba207-4703-435f-a0e3-89d7326b6e50"
      },
      "source": [
        "play_store['Rating'].median()"
      ],
      "execution_count": 114,
      "outputs": [
        {
          "output_type": "execute_result",
          "data": {
            "text/plain": [
              "4.3"
            ]
          },
          "metadata": {
            "tags": []
          },
          "execution_count": 114
        }
      ]
    },
    {
      "cell_type": "code",
      "metadata": {
        "colab": {
          "base_uri": "https://localhost:8080/",
          "height": 555
        },
        "id": "qyzZu65VG2uJ",
        "outputId": "a5bdded3-e9b9-41e9-c607-8d6ae5499f00"
      },
      "source": [
        "play_store[play_store['Rating'].isna()]"
      ],
      "execution_count": 115,
      "outputs": [
        {
          "output_type": "execute_result",
          "data": {
            "text/html": [
              "<div>\n",
              "<style scoped>\n",
              "    .dataframe tbody tr th:only-of-type {\n",
              "        vertical-align: middle;\n",
              "    }\n",
              "\n",
              "    .dataframe tbody tr th {\n",
              "        vertical-align: top;\n",
              "    }\n",
              "\n",
              "    .dataframe thead th {\n",
              "        text-align: right;\n",
              "    }\n",
              "</style>\n",
              "<table border=\"1\" class=\"dataframe\">\n",
              "  <thead>\n",
              "    <tr style=\"text-align: right;\">\n",
              "      <th></th>\n",
              "      <th>App</th>\n",
              "      <th>Category</th>\n",
              "      <th>Rating</th>\n",
              "      <th>Reviews</th>\n",
              "      <th>Size</th>\n",
              "      <th>Installs</th>\n",
              "      <th>Type</th>\n",
              "      <th>Price</th>\n",
              "      <th>Content Rating</th>\n",
              "      <th>Genres</th>\n",
              "      <th>Last Updated</th>\n",
              "      <th>Current Ver</th>\n",
              "      <th>Android Ver</th>\n",
              "    </tr>\n",
              "  </thead>\n",
              "  <tbody>\n",
              "    <tr>\n",
              "      <th>113</th>\n",
              "      <td>Wrinkles and rejuvenation</td>\n",
              "      <td>BEAUTY</td>\n",
              "      <td>NaN</td>\n",
              "      <td>182</td>\n",
              "      <td>5.7M</td>\n",
              "      <td>100,000+</td>\n",
              "      <td>Free</td>\n",
              "      <td>0</td>\n",
              "      <td>Everyone 10+</td>\n",
              "      <td>Beauty</td>\n",
              "      <td>September 20, 2017</td>\n",
              "      <td>8.0</td>\n",
              "      <td>3.0 and up</td>\n",
              "    </tr>\n",
              "    <tr>\n",
              "      <th>123</th>\n",
              "      <td>Manicure - nail design</td>\n",
              "      <td>BEAUTY</td>\n",
              "      <td>NaN</td>\n",
              "      <td>119</td>\n",
              "      <td>3.7M</td>\n",
              "      <td>50,000+</td>\n",
              "      <td>Free</td>\n",
              "      <td>0</td>\n",
              "      <td>Everyone</td>\n",
              "      <td>Beauty</td>\n",
              "      <td>July 23, 2018</td>\n",
              "      <td>1.3</td>\n",
              "      <td>4.1 and up</td>\n",
              "    </tr>\n",
              "    <tr>\n",
              "      <th>126</th>\n",
              "      <td>Skin Care and Natural Beauty</td>\n",
              "      <td>BEAUTY</td>\n",
              "      <td>NaN</td>\n",
              "      <td>654</td>\n",
              "      <td>7.4M</td>\n",
              "      <td>100,000+</td>\n",
              "      <td>Free</td>\n",
              "      <td>0</td>\n",
              "      <td>Teen</td>\n",
              "      <td>Beauty</td>\n",
              "      <td>July 17, 2018</td>\n",
              "      <td>1.15</td>\n",
              "      <td>4.1 and up</td>\n",
              "    </tr>\n",
              "    <tr>\n",
              "      <th>129</th>\n",
              "      <td>Secrets of beauty, youth and health</td>\n",
              "      <td>BEAUTY</td>\n",
              "      <td>NaN</td>\n",
              "      <td>77</td>\n",
              "      <td>2.9M</td>\n",
              "      <td>10,000+</td>\n",
              "      <td>Free</td>\n",
              "      <td>0</td>\n",
              "      <td>Mature 17+</td>\n",
              "      <td>Beauty</td>\n",
              "      <td>August 8, 2017</td>\n",
              "      <td>2.0</td>\n",
              "      <td>2.3 and up</td>\n",
              "    </tr>\n",
              "    <tr>\n",
              "      <th>130</th>\n",
              "      <td>Recipes and tips for losing weight</td>\n",
              "      <td>BEAUTY</td>\n",
              "      <td>NaN</td>\n",
              "      <td>35</td>\n",
              "      <td>3.1M</td>\n",
              "      <td>10,000+</td>\n",
              "      <td>Free</td>\n",
              "      <td>0</td>\n",
              "      <td>Everyone 10+</td>\n",
              "      <td>Beauty</td>\n",
              "      <td>December 11, 2017</td>\n",
              "      <td>2.0</td>\n",
              "      <td>3.0 and up</td>\n",
              "    </tr>\n",
              "    <tr>\n",
              "      <th>...</th>\n",
              "      <td>...</td>\n",
              "      <td>...</td>\n",
              "      <td>...</td>\n",
              "      <td>...</td>\n",
              "      <td>...</td>\n",
              "      <td>...</td>\n",
              "      <td>...</td>\n",
              "      <td>...</td>\n",
              "      <td>...</td>\n",
              "      <td>...</td>\n",
              "      <td>...</td>\n",
              "      <td>...</td>\n",
              "      <td>...</td>\n",
              "    </tr>\n",
              "    <tr>\n",
              "      <th>10824</th>\n",
              "      <td>Cardio-FR</td>\n",
              "      <td>MEDICAL</td>\n",
              "      <td>NaN</td>\n",
              "      <td>67</td>\n",
              "      <td>82M</td>\n",
              "      <td>10,000+</td>\n",
              "      <td>Free</td>\n",
              "      <td>0</td>\n",
              "      <td>Everyone</td>\n",
              "      <td>Medical</td>\n",
              "      <td>July 31, 2018</td>\n",
              "      <td>2.2.2</td>\n",
              "      <td>4.4 and up</td>\n",
              "    </tr>\n",
              "    <tr>\n",
              "      <th>10825</th>\n",
              "      <td>Naruto &amp; Boruto FR</td>\n",
              "      <td>SOCIAL</td>\n",
              "      <td>NaN</td>\n",
              "      <td>7</td>\n",
              "      <td>7.7M</td>\n",
              "      <td>100+</td>\n",
              "      <td>Free</td>\n",
              "      <td>0</td>\n",
              "      <td>Teen</td>\n",
              "      <td>Social</td>\n",
              "      <td>February 2, 2018</td>\n",
              "      <td>1.0</td>\n",
              "      <td>4.0 and up</td>\n",
              "    </tr>\n",
              "    <tr>\n",
              "      <th>10831</th>\n",
              "      <td>payermonstationnement.fr</td>\n",
              "      <td>MAPS_AND_NAVIGATION</td>\n",
              "      <td>NaN</td>\n",
              "      <td>38</td>\n",
              "      <td>9.8M</td>\n",
              "      <td>5,000+</td>\n",
              "      <td>Free</td>\n",
              "      <td>0</td>\n",
              "      <td>Everyone</td>\n",
              "      <td>Maps &amp; Navigation</td>\n",
              "      <td>June 13, 2018</td>\n",
              "      <td>2.0.148.0</td>\n",
              "      <td>4.0 and up</td>\n",
              "    </tr>\n",
              "    <tr>\n",
              "      <th>10835</th>\n",
              "      <td>FR Forms</td>\n",
              "      <td>BUSINESS</td>\n",
              "      <td>NaN</td>\n",
              "      <td>0</td>\n",
              "      <td>9.6M</td>\n",
              "      <td>10+</td>\n",
              "      <td>Free</td>\n",
              "      <td>0</td>\n",
              "      <td>Everyone</td>\n",
              "      <td>Business</td>\n",
              "      <td>September 29, 2016</td>\n",
              "      <td>1.1.5</td>\n",
              "      <td>4.0 and up</td>\n",
              "    </tr>\n",
              "    <tr>\n",
              "      <th>10838</th>\n",
              "      <td>Parkinson Exercices FR</td>\n",
              "      <td>MEDICAL</td>\n",
              "      <td>NaN</td>\n",
              "      <td>3</td>\n",
              "      <td>9.5M</td>\n",
              "      <td>1,000+</td>\n",
              "      <td>Free</td>\n",
              "      <td>0</td>\n",
              "      <td>Everyone</td>\n",
              "      <td>Medical</td>\n",
              "      <td>January 20, 2017</td>\n",
              "      <td>1.0</td>\n",
              "      <td>2.2 and up</td>\n",
              "    </tr>\n",
              "  </tbody>\n",
              "</table>\n",
              "<p>1463 rows × 13 columns</p>\n",
              "</div>"
            ],
            "text/plain": [
              "                                       App  ... Android Ver\n",
              "113              Wrinkles and rejuvenation  ...  3.0 and up\n",
              "123                 Manicure - nail design  ...  4.1 and up\n",
              "126           Skin Care and Natural Beauty  ...  4.1 and up\n",
              "129    Secrets of beauty, youth and health  ...  2.3 and up\n",
              "130     Recipes and tips for losing weight  ...  3.0 and up\n",
              "...                                    ...  ...         ...\n",
              "10824                            Cardio-FR  ...  4.4 and up\n",
              "10825                   Naruto & Boruto FR  ...  4.0 and up\n",
              "10831             payermonstationnement.fr  ...  4.0 and up\n",
              "10835                             FR Forms  ...  4.0 and up\n",
              "10838               Parkinson Exercices FR  ...  2.2 and up\n",
              "\n",
              "[1463 rows x 13 columns]"
            ]
          },
          "metadata": {
            "tags": []
          },
          "execution_count": 115
        }
      ]
    },
    {
      "cell_type": "code",
      "metadata": {
        "id": "zFpQFJg4G2xm"
      },
      "source": [
        "# Replace NaN values and the oulier values of Rating with the mean values\n",
        "play_store['Rating'] = play_store['Rating'].fillna(play_store['Rating'].median())\n"
      ],
      "execution_count": 116,
      "outputs": []
    },
    {
      "cell_type": "code",
      "metadata": {
        "id": "Ph8HgLeBlnng"
      },
      "source": [
        "play_store = play_store.drop(10472)"
      ],
      "execution_count": 117,
      "outputs": []
    },
    {
      "cell_type": "code",
      "metadata": {
        "colab": {
          "base_uri": "https://localhost:8080/"
        },
        "id": "6At-akEmG21r",
        "outputId": "70274c2b-5ff9-454f-eba4-b2c3053b5c0f"
      },
      "source": [
        "play_store.info()"
      ],
      "execution_count": 118,
      "outputs": [
        {
          "output_type": "stream",
          "text": [
            "<class 'pandas.core.frame.DataFrame'>\n",
            "Int64Index: 9659 entries, 0 to 10840\n",
            "Data columns (total 13 columns):\n",
            " #   Column          Non-Null Count  Dtype  \n",
            "---  ------          --------------  -----  \n",
            " 0   App             9659 non-null   object \n",
            " 1   Category        9659 non-null   object \n",
            " 2   Rating          9659 non-null   float64\n",
            " 3   Reviews         9659 non-null   object \n",
            " 4   Size            9659 non-null   object \n",
            " 5   Installs        9659 non-null   object \n",
            " 6   Type            9658 non-null   object \n",
            " 7   Price           9659 non-null   object \n",
            " 8   Content Rating  9659 non-null   object \n",
            " 9   Genres          9659 non-null   object \n",
            " 10  Last Updated    9659 non-null   object \n",
            " 11  Current Ver     9651 non-null   object \n",
            " 12  Android Ver     9657 non-null   object \n",
            "dtypes: float64(1), object(12)\n",
            "memory usage: 1.0+ MB\n"
          ],
          "name": "stdout"
        }
      ]
    },
    {
      "cell_type": "code",
      "metadata": {
        "colab": {
          "base_uri": "https://localhost:8080/"
        },
        "id": "tUW_cIfit-U9",
        "outputId": "73fea136-21fc-4610-b81d-c94879c9c0d0"
      },
      "source": [
        "list(play_store['Size'].unique())"
      ],
      "execution_count": 119,
      "outputs": [
        {
          "output_type": "execute_result",
          "data": {
            "text/plain": [
              "['19M',\n",
              " '8.7M',\n",
              " '25M',\n",
              " '2.8M',\n",
              " '5.6M',\n",
              " '29M',\n",
              " '33M',\n",
              " '3.1M',\n",
              " '28M',\n",
              " '12M',\n",
              " '20M',\n",
              " '21M',\n",
              " '37M',\n",
              " '2.7M',\n",
              " '5.5M',\n",
              " '17M',\n",
              " '39M',\n",
              " '31M',\n",
              " '14M',\n",
              " '4.2M',\n",
              " '23M',\n",
              " '6.0M',\n",
              " '6.1M',\n",
              " '4.6M',\n",
              " '9.2M',\n",
              " '5.2M',\n",
              " '11M',\n",
              " 'Varies with device',\n",
              " '9.4M',\n",
              " '15M',\n",
              " '10M',\n",
              " '1.2M',\n",
              " '24M',\n",
              " '26M',\n",
              " '8.0M',\n",
              " '7.9M',\n",
              " '56M',\n",
              " '57M',\n",
              " '35M',\n",
              " '54M',\n",
              " '201k',\n",
              " '3.6M',\n",
              " '5.7M',\n",
              " '8.6M',\n",
              " '2.4M',\n",
              " '27M',\n",
              " '2.5M',\n",
              " '7.0M',\n",
              " '16M',\n",
              " '3.4M',\n",
              " '8.9M',\n",
              " '3.9M',\n",
              " '2.9M',\n",
              " '38M',\n",
              " '32M',\n",
              " '5.4M',\n",
              " '18M',\n",
              " '1.1M',\n",
              " '2.2M',\n",
              " '4.5M',\n",
              " '9.8M',\n",
              " '52M',\n",
              " '9.0M',\n",
              " '6.7M',\n",
              " '30M',\n",
              " '2.6M',\n",
              " '7.1M',\n",
              " '3.7M',\n",
              " '22M',\n",
              " '7.4M',\n",
              " '6.4M',\n",
              " '3.2M',\n",
              " '8.2M',\n",
              " '9.9M',\n",
              " '4.9M',\n",
              " '9.5M',\n",
              " '5.0M',\n",
              " '5.9M',\n",
              " '13M',\n",
              " '73M',\n",
              " '6.8M',\n",
              " '3.5M',\n",
              " '4.0M',\n",
              " '2.3M',\n",
              " '7.2M',\n",
              " '2.1M',\n",
              " '42M',\n",
              " '7.3M',\n",
              " '9.1M',\n",
              " '55M',\n",
              " '23k',\n",
              " '6.5M',\n",
              " '1.5M',\n",
              " '7.5M',\n",
              " '46M',\n",
              " '51M',\n",
              " '48M',\n",
              " '8.5M',\n",
              " '41M',\n",
              " '8.3M',\n",
              " '4.3M',\n",
              " '4.7M',\n",
              " '3.3M',\n",
              " '40M',\n",
              " '7.8M',\n",
              " '8.8M',\n",
              " '6.6M',\n",
              " '5.1M',\n",
              " '61M',\n",
              " '8.4M',\n",
              " '118k',\n",
              " '44M',\n",
              " '695k',\n",
              " '1.6M',\n",
              " '18k',\n",
              " '53M',\n",
              " '6.2M',\n",
              " '3.0M',\n",
              " '5.8M',\n",
              " '3.8M',\n",
              " '9.6M',\n",
              " '45M',\n",
              " '63M',\n",
              " '49M',\n",
              " '4.4M',\n",
              " '70M',\n",
              " '6.9M',\n",
              " '9.3M',\n",
              " '10.0M',\n",
              " '8.1M',\n",
              " '4.8M',\n",
              " '36M',\n",
              " '77M',\n",
              " '84M',\n",
              " '97M',\n",
              " '2.0M',\n",
              " '1.9M',\n",
              " '1.8M',\n",
              " '5.3M',\n",
              " '47M',\n",
              " '556k',\n",
              " '526k',\n",
              " '7.6M',\n",
              " '76M',\n",
              " '9.7M',\n",
              " '78M',\n",
              " '72M',\n",
              " '43M',\n",
              " '7.7M',\n",
              " '6.3M',\n",
              " '334k',\n",
              " '1.4M',\n",
              " '34M',\n",
              " '93M',\n",
              " '65M',\n",
              " '100M',\n",
              " '50M',\n",
              " '68M',\n",
              " '79M',\n",
              " '64M',\n",
              " '67M',\n",
              " '94M',\n",
              " '59M',\n",
              " '60M',\n",
              " '58M',\n",
              " '232k',\n",
              " '99M',\n",
              " '624k',\n",
              " '95M',\n",
              " '8.5k',\n",
              " '41k',\n",
              " '292k',\n",
              " '11k',\n",
              " '80M',\n",
              " '1.7M',\n",
              " '69M',\n",
              " '71M',\n",
              " '62M',\n",
              " '98M',\n",
              " '85M',\n",
              " '86M',\n",
              " '82M',\n",
              " '81M',\n",
              " '96M',\n",
              " '91M',\n",
              " '83M',\n",
              " '87M',\n",
              " '66M',\n",
              " '75M',\n",
              " '92M',\n",
              " '862k',\n",
              " '899k',\n",
              " '378k',\n",
              " '266k',\n",
              " '375k',\n",
              " '74M',\n",
              " '1.3M',\n",
              " '975k',\n",
              " '980k',\n",
              " '4.1M',\n",
              " '89M',\n",
              " '88M',\n",
              " '696k',\n",
              " '544k',\n",
              " '525k',\n",
              " '920k',\n",
              " '779k',\n",
              " '853k',\n",
              " '720k',\n",
              " '713k',\n",
              " '772k',\n",
              " '318k',\n",
              " '58k',\n",
              " '241k',\n",
              " '196k',\n",
              " '857k',\n",
              " '51k',\n",
              " '953k',\n",
              " '865k',\n",
              " '251k',\n",
              " '930k',\n",
              " '540k',\n",
              " '313k',\n",
              " '746k',\n",
              " '203k',\n",
              " '26k',\n",
              " '314k',\n",
              " '79k',\n",
              " '239k',\n",
              " '371k',\n",
              " '220k',\n",
              " '730k',\n",
              " '756k',\n",
              " '91k',\n",
              " '293k',\n",
              " '17k',\n",
              " '74k',\n",
              " '14k',\n",
              " '317k',\n",
              " '78k',\n",
              " '924k',\n",
              " '902k',\n",
              " '818k',\n",
              " '81k',\n",
              " '939k',\n",
              " '169k',\n",
              " '45k',\n",
              " '475k',\n",
              " '965k',\n",
              " '90M',\n",
              " '545k',\n",
              " '61k',\n",
              " '283k',\n",
              " '655k',\n",
              " '714k',\n",
              " '93k',\n",
              " '872k',\n",
              " '121k',\n",
              " '322k',\n",
              " '1.0M',\n",
              " '976k',\n",
              " '172k',\n",
              " '238k',\n",
              " '549k',\n",
              " '206k',\n",
              " '954k',\n",
              " '444k',\n",
              " '717k',\n",
              " '210k',\n",
              " '609k',\n",
              " '308k',\n",
              " '705k',\n",
              " '306k',\n",
              " '904k',\n",
              " '473k',\n",
              " '175k',\n",
              " '350k',\n",
              " '383k',\n",
              " '454k',\n",
              " '421k',\n",
              " '70k',\n",
              " '812k',\n",
              " '442k',\n",
              " '842k',\n",
              " '417k',\n",
              " '412k',\n",
              " '459k',\n",
              " '478k',\n",
              " '335k',\n",
              " '782k',\n",
              " '721k',\n",
              " '430k',\n",
              " '429k',\n",
              " '192k',\n",
              " '200k',\n",
              " '460k',\n",
              " '728k',\n",
              " '496k',\n",
              " '816k',\n",
              " '414k',\n",
              " '506k',\n",
              " '704k',\n",
              " '887k',\n",
              " '613k',\n",
              " '243k',\n",
              " '569k',\n",
              " '778k',\n",
              " '683k',\n",
              " '592k',\n",
              " '319k',\n",
              " '186k',\n",
              " '840k',\n",
              " '647k',\n",
              " '191k',\n",
              " '373k',\n",
              " '437k',\n",
              " '598k',\n",
              " '716k',\n",
              " '585k',\n",
              " '982k',\n",
              " '222k',\n",
              " '219k',\n",
              " '55k',\n",
              " '948k',\n",
              " '323k',\n",
              " '691k',\n",
              " '511k',\n",
              " '951k',\n",
              " '963k',\n",
              " '25k',\n",
              " '554k',\n",
              " '351k',\n",
              " '27k',\n",
              " '82k',\n",
              " '208k',\n",
              " '913k',\n",
              " '514k',\n",
              " '551k',\n",
              " '29k',\n",
              " '103k',\n",
              " '898k',\n",
              " '743k',\n",
              " '116k',\n",
              " '153k',\n",
              " '209k',\n",
              " '353k',\n",
              " '499k',\n",
              " '173k',\n",
              " '597k',\n",
              " '809k',\n",
              " '122k',\n",
              " '411k',\n",
              " '400k',\n",
              " '801k',\n",
              " '787k',\n",
              " '237k',\n",
              " '50k',\n",
              " '643k',\n",
              " '986k',\n",
              " '97k',\n",
              " '516k',\n",
              " '837k',\n",
              " '780k',\n",
              " '961k',\n",
              " '269k',\n",
              " '20k',\n",
              " '498k',\n",
              " '600k',\n",
              " '749k',\n",
              " '642k',\n",
              " '881k',\n",
              " '72k',\n",
              " '656k',\n",
              " '601k',\n",
              " '221k',\n",
              " '228k',\n",
              " '108k',\n",
              " '940k',\n",
              " '176k',\n",
              " '33k',\n",
              " '663k',\n",
              " '34k',\n",
              " '942k',\n",
              " '259k',\n",
              " '164k',\n",
              " '458k',\n",
              " '245k',\n",
              " '629k',\n",
              " '28k',\n",
              " '288k',\n",
              " '775k',\n",
              " '785k',\n",
              " '636k',\n",
              " '916k',\n",
              " '994k',\n",
              " '309k',\n",
              " '485k',\n",
              " '914k',\n",
              " '903k',\n",
              " '608k',\n",
              " '500k',\n",
              " '54k',\n",
              " '562k',\n",
              " '847k',\n",
              " '957k',\n",
              " '688k',\n",
              " '811k',\n",
              " '270k',\n",
              " '48k',\n",
              " '329k',\n",
              " '523k',\n",
              " '921k',\n",
              " '874k',\n",
              " '981k',\n",
              " '784k',\n",
              " '280k',\n",
              " '24k',\n",
              " '518k',\n",
              " '754k',\n",
              " '892k',\n",
              " '154k',\n",
              " '860k',\n",
              " '364k',\n",
              " '387k',\n",
              " '626k',\n",
              " '161k',\n",
              " '879k',\n",
              " '39k',\n",
              " '970k',\n",
              " '170k',\n",
              " '141k',\n",
              " '160k',\n",
              " '144k',\n",
              " '143k',\n",
              " '190k',\n",
              " '376k',\n",
              " '193k',\n",
              " '246k',\n",
              " '73k',\n",
              " '658k',\n",
              " '992k',\n",
              " '253k',\n",
              " '420k',\n",
              " '404k',\n",
              " '470k',\n",
              " '226k',\n",
              " '240k',\n",
              " '89k',\n",
              " '234k',\n",
              " '257k',\n",
              " '861k',\n",
              " '467k',\n",
              " '157k',\n",
              " '44k',\n",
              " '676k',\n",
              " '67k',\n",
              " '552k',\n",
              " '885k',\n",
              " '1020k',\n",
              " '582k',\n",
              " '619k']"
            ]
          },
          "metadata": {
            "tags": []
          },
          "execution_count": 119
        }
      ]
    },
    {
      "cell_type": "code",
      "metadata": {
        "colab": {
          "base_uri": "https://localhost:8080/"
        },
        "id": "xaqBpURRt-hz",
        "outputId": "10b6451b-76cc-43bb-826e-835a82fdd0e8"
      },
      "source": [
        "play_store['Installs'].value_counts()"
      ],
      "execution_count": 120,
      "outputs": [
        {
          "output_type": "execute_result",
          "data": {
            "text/plain": [
              "1,000,000+        1419\n",
              "100,000+          1114\n",
              "10,000+           1031\n",
              "10,000,000+        933\n",
              "1,000+             887\n",
              "100+               709\n",
              "5,000,000+         607\n",
              "500,000+           504\n",
              "50,000+            469\n",
              "5,000+             468\n",
              "10+                385\n",
              "500+               328\n",
              "50,000,000+        204\n",
              "50+                204\n",
              "100,000,000+       189\n",
              "5+                  82\n",
              "1+                  67\n",
              "500,000,000+        24\n",
              "1,000,000,000+      20\n",
              "0+                  14\n",
              "0                    1\n",
              "Name: Installs, dtype: int64"
            ]
          },
          "metadata": {
            "tags": []
          },
          "execution_count": 120
        }
      ]
    },
    {
      "cell_type": "code",
      "metadata": {
        "id": "GAU5qJw_t-tE"
      },
      "source": [
        ""
      ],
      "execution_count": null,
      "outputs": []
    },
    {
      "cell_type": "code",
      "metadata": {
        "id": "DW-td-1gt-42"
      },
      "source": [
        ""
      ],
      "execution_count": null,
      "outputs": []
    },
    {
      "cell_type": "code",
      "metadata": {
        "id": "6kSi-HgBt_FT"
      },
      "source": [
        ""
      ],
      "execution_count": null,
      "outputs": []
    },
    {
      "cell_type": "code",
      "metadata": {
        "id": "iLWlv-2oG3q7"
      },
      "source": [
        "def convert_to_float(value):\n",
        "\n",
        "  ''' Returns evaluated value '''\n",
        "  return eval(value)\n"
      ],
      "execution_count": 81,
      "outputs": []
    },
    {
      "cell_type": "code",
      "metadata": {
        "id": "8f2pBfBcsfuH"
      },
      "source": [
        "# Changing the Reviews column to float type\n",
        "play_store['Reviews'] = play_store['Reviews'].apply(convert_to_float)\n"
      ],
      "execution_count": 121,
      "outputs": []
    },
    {
      "cell_type": "code",
      "metadata": {
        "id": "UW1FcZlwsgBD"
      },
      "source": [
        ""
      ],
      "execution_count": null,
      "outputs": []
    },
    {
      "cell_type": "code",
      "metadata": {
        "id": "qipU9AkxG3wj"
      },
      "source": [
        "def convert_size_value(value):\n",
        "\n",
        "  ''' Converting KB to MB and giving out the result'''\n",
        "\n",
        "  if (value[-1]=='M'):\n",
        "    val = value[0:-1]  \n",
        "    return eval(val)\n",
        "\n",
        "  elif (value[-1]=='k'):\n",
        "    val = value[0:-1]\n",
        "    return (eval(val))/1000\n",
        "\n",
        "  else:\n",
        "    return 0\n"
      ],
      "execution_count": 90,
      "outputs": []
    },
    {
      "cell_type": "code",
      "metadata": {
        "id": "bEy14VMtG31I"
      },
      "source": [
        "# Formatting of Size data\n",
        "play_store['Size'] = play_store['Size'].apply(convert_size_value)\n",
        "play_store.loc[play_store['Size']==0,'Size'] = play_store.loc[play_store['Size']>0,'Size'].median() \n"
      ],
      "execution_count": 122,
      "outputs": []
    },
    {
      "cell_type": "code",
      "metadata": {
        "id": "DNjBOIOH3oG_"
      },
      "source": [
        "# Formatting of Installs data\n",
        "play_store.Installs = play_store.Installs.apply(lambda x: x.strip('+'))\n",
        "play_store.Installs = play_store.Installs.apply(lambda x: x.replace(',',''))\n"
      ],
      "execution_count": 123,
      "outputs": []
    },
    {
      "cell_type": "code",
      "metadata": {
        "id": "pfWEdYRVG4D0"
      },
      "source": [
        "play_store['Installs'] = play_store['Installs'].apply(convert_to_float)\n"
      ],
      "execution_count": 125,
      "outputs": []
    },
    {
      "cell_type": "code",
      "metadata": {
        "colab": {
          "base_uri": "https://localhost:8080/"
        },
        "id": "R_T6UcGrG4Kl",
        "outputId": "053e279b-2055-4394-af77-8c176dffe087"
      },
      "source": [
        ""
      ],
      "execution_count": 124,
      "outputs": [
        {
          "output_type": "execute_result",
          "data": {
            "text/plain": [
              "['10000',\n",
              " '5000000',\n",
              " '50000000',\n",
              " '100000',\n",
              " '50000',\n",
              " '1000000',\n",
              " '10000000',\n",
              " '5000',\n",
              " '500000',\n",
              " '1000000000',\n",
              " '100000000',\n",
              " '1000',\n",
              " '50',\n",
              " '100',\n",
              " '500',\n",
              " '10',\n",
              " '1',\n",
              " '5',\n",
              " '500000000',\n",
              " '0']"
            ]
          },
          "metadata": {
            "tags": []
          },
          "execution_count": 124
        }
      ]
    },
    {
      "cell_type": "code",
      "metadata": {
        "colab": {
          "base_uri": "https://localhost:8080/",
          "height": 297
        },
        "id": "vt0-ZF0rG4P7",
        "outputId": "aa5f1686-b823-4699-b88e-1d23aeb0ca9a"
      },
      "source": [
        "play_store.describe()"
      ],
      "execution_count": 127,
      "outputs": [
        {
          "output_type": "execute_result",
          "data": {
            "text/html": [
              "<div>\n",
              "<style scoped>\n",
              "    .dataframe tbody tr th:only-of-type {\n",
              "        vertical-align: middle;\n",
              "    }\n",
              "\n",
              "    .dataframe tbody tr th {\n",
              "        vertical-align: top;\n",
              "    }\n",
              "\n",
              "    .dataframe thead th {\n",
              "        text-align: right;\n",
              "    }\n",
              "</style>\n",
              "<table border=\"1\" class=\"dataframe\">\n",
              "  <thead>\n",
              "    <tr style=\"text-align: right;\">\n",
              "      <th></th>\n",
              "      <th>Rating</th>\n",
              "      <th>Reviews</th>\n",
              "      <th>Size</th>\n",
              "      <th>Installs</th>\n",
              "    </tr>\n",
              "  </thead>\n",
              "  <tbody>\n",
              "    <tr>\n",
              "      <th>count</th>\n",
              "      <td>9659.000000</td>\n",
              "      <td>9.659000e+03</td>\n",
              "      <td>9659.000000</td>\n",
              "      <td>9.659000e+03</td>\n",
              "    </tr>\n",
              "    <tr>\n",
              "      <th>mean</th>\n",
              "      <td>4.192422</td>\n",
              "      <td>2.166512e+05</td>\n",
              "      <td>19.331161</td>\n",
              "      <td>7.794247e+06</td>\n",
              "    </tr>\n",
              "    <tr>\n",
              "      <th>std</th>\n",
              "      <td>0.496071</td>\n",
              "      <td>1.830738e+06</td>\n",
              "      <td>20.585379</td>\n",
              "      <td>5.376991e+07</td>\n",
              "    </tr>\n",
              "    <tr>\n",
              "      <th>min</th>\n",
              "      <td>1.000000</td>\n",
              "      <td>0.000000e+00</td>\n",
              "      <td>0.008500</td>\n",
              "      <td>0.000000e+00</td>\n",
              "    </tr>\n",
              "    <tr>\n",
              "      <th>25%</th>\n",
              "      <td>4.000000</td>\n",
              "      <td>2.500000e+01</td>\n",
              "      <td>5.300000</td>\n",
              "      <td>1.000000e+03</td>\n",
              "    </tr>\n",
              "    <tr>\n",
              "      <th>50%</th>\n",
              "      <td>4.300000</td>\n",
              "      <td>9.690000e+02</td>\n",
              "      <td>12.000000</td>\n",
              "      <td>1.000000e+05</td>\n",
              "    </tr>\n",
              "    <tr>\n",
              "      <th>75%</th>\n",
              "      <td>4.500000</td>\n",
              "      <td>2.940100e+04</td>\n",
              "      <td>25.000000</td>\n",
              "      <td>1.000000e+06</td>\n",
              "    </tr>\n",
              "    <tr>\n",
              "      <th>max</th>\n",
              "      <td>5.000000</td>\n",
              "      <td>7.812821e+07</td>\n",
              "      <td>100.000000</td>\n",
              "      <td>1.000000e+09</td>\n",
              "    </tr>\n",
              "  </tbody>\n",
              "</table>\n",
              "</div>"
            ],
            "text/plain": [
              "            Rating       Reviews         Size      Installs\n",
              "count  9659.000000  9.659000e+03  9659.000000  9.659000e+03\n",
              "mean      4.192422  2.166512e+05    19.331161  7.794247e+06\n",
              "std       0.496071  1.830738e+06    20.585379  5.376991e+07\n",
              "min       1.000000  0.000000e+00     0.008500  0.000000e+00\n",
              "25%       4.000000  2.500000e+01     5.300000  1.000000e+03\n",
              "50%       4.300000  9.690000e+02    12.000000  1.000000e+05\n",
              "75%       4.500000  2.940100e+04    25.000000  1.000000e+06\n",
              "max       5.000000  7.812821e+07   100.000000  1.000000e+09"
            ]
          },
          "metadata": {
            "tags": []
          },
          "execution_count": 127
        }
      ]
    },
    {
      "cell_type": "markdown",
      "metadata": {
        "id": "qp9VH_dsTXfB"
      },
      "source": [
        "#### Cleaning the Type data"
      ]
    },
    {
      "cell_type": "code",
      "metadata": {
        "colab": {
          "base_uri": "https://localhost:8080/"
        },
        "id": "CQQIr_uNG4Vh",
        "outputId": "e85f89f0-b441-44b3-ed00-cc66b35a12f1"
      },
      "source": [
        "play_store.Type.unique()"
      ],
      "execution_count": 136,
      "outputs": [
        {
          "output_type": "execute_result",
          "data": {
            "text/plain": [
              "array(['Free', 'Paid', nan], dtype=object)"
            ]
          },
          "metadata": {
            "tags": []
          },
          "execution_count": 136
        }
      ]
    },
    {
      "cell_type": "code",
      "metadata": {
        "colab": {
          "base_uri": "https://localhost:8080/",
          "height": 80
        },
        "id": "6_So4YeeG4Zg",
        "outputId": "912162b5-4f83-48a4-f015-c673a897e3db"
      },
      "source": [
        "play_store[play_store.Type.isna()]"
      ],
      "execution_count": 132,
      "outputs": [
        {
          "output_type": "execute_result",
          "data": {
            "text/html": [
              "<div>\n",
              "<style scoped>\n",
              "    .dataframe tbody tr th:only-of-type {\n",
              "        vertical-align: middle;\n",
              "    }\n",
              "\n",
              "    .dataframe tbody tr th {\n",
              "        vertical-align: top;\n",
              "    }\n",
              "\n",
              "    .dataframe thead th {\n",
              "        text-align: right;\n",
              "    }\n",
              "</style>\n",
              "<table border=\"1\" class=\"dataframe\">\n",
              "  <thead>\n",
              "    <tr style=\"text-align: right;\">\n",
              "      <th></th>\n",
              "      <th>App</th>\n",
              "      <th>Category</th>\n",
              "      <th>Rating</th>\n",
              "      <th>Reviews</th>\n",
              "      <th>Size</th>\n",
              "      <th>Installs</th>\n",
              "      <th>Type</th>\n",
              "      <th>Price</th>\n",
              "      <th>Content Rating</th>\n",
              "      <th>Genres</th>\n",
              "      <th>Last Updated</th>\n",
              "      <th>Current Ver</th>\n",
              "      <th>Android Ver</th>\n",
              "    </tr>\n",
              "  </thead>\n",
              "  <tbody>\n",
              "    <tr>\n",
              "      <th>9148</th>\n",
              "      <td>Command &amp; Conquer: Rivals</td>\n",
              "      <td>FAMILY</td>\n",
              "      <td>4.3</td>\n",
              "      <td>0</td>\n",
              "      <td>12.0</td>\n",
              "      <td>0</td>\n",
              "      <td>NaN</td>\n",
              "      <td>0</td>\n",
              "      <td>Everyone 10+</td>\n",
              "      <td>Strategy</td>\n",
              "      <td>June 28, 2018</td>\n",
              "      <td>Varies with device</td>\n",
              "      <td>Varies with device</td>\n",
              "    </tr>\n",
              "  </tbody>\n",
              "</table>\n",
              "</div>"
            ],
            "text/plain": [
              "                            App  ...         Android Ver\n",
              "9148  Command & Conquer: Rivals  ...  Varies with device\n",
              "\n",
              "[1 rows x 13 columns]"
            ]
          },
          "metadata": {
            "tags": []
          },
          "execution_count": 132
        }
      ]
    },
    {
      "cell_type": "code",
      "metadata": {
        "id": "WciNyKUmG4gE"
      },
      "source": [
        "play_store.Type =play_store.Type.fillna('Free')"
      ],
      "execution_count": 137,
      "outputs": []
    },
    {
      "cell_type": "markdown",
      "metadata": {
        "id": "4GuzW6WjTOhc"
      },
      "source": [
        "#### Cleaning the Price Data"
      ]
    },
    {
      "cell_type": "code",
      "metadata": {
        "colab": {
          "base_uri": "https://localhost:8080/"
        },
        "id": "7DqTeCAuG4mL",
        "outputId": "3c409805-6073-4e01-c2dd-1861bbb2b97d"
      },
      "source": [
        "play_store.Price.unique()"
      ],
      "execution_count": 139,
      "outputs": [
        {
          "output_type": "execute_result",
          "data": {
            "text/plain": [
              "array(['0', '$4.99', '$3.99', '$1.49', '$2.99', '$7.99', '$3.49', '$1.99',\n",
              "       '$5.99', '$6.99', '$9.99', '$7.49', '$0.99', '$1.00', '$2.49',\n",
              "       '$10.99', '$1.50', '$14.99', '$15.99', '$79.99', '$9.00', '$10.00',\n",
              "       '$16.99', '$11.99', '$29.99', '$74.99', '$5.49', '$33.99',\n",
              "       '$24.99', '$39.99', '$19.99', '$4.49', '$1.70', '$8.99', '$2.00',\n",
              "       '$3.88', '$25.99', '$399.99', '$17.99', '$400.00', '$3.02',\n",
              "       '$1.76', '$4.84', '$4.77', '$1.61', '$2.50', '$1.59', '$6.49',\n",
              "       '$1.29', '$5.00', '$13.99', '$299.99', '$379.99', '$37.99',\n",
              "       '$18.99', '$389.99', '$19.90', '$8.49', '$1.75', '$14.00', '$4.85',\n",
              "       '$46.99', '$109.99', '$3.95', '$154.99', '$3.08', '$2.59', '$4.80',\n",
              "       '$1.96', '$19.40', '$3.90', '$4.59', '$15.46', '$3.04', '$12.99',\n",
              "       '$4.29', '$2.60', '$3.28', '$4.60', '$28.99', '$2.95', '$2.90',\n",
              "       '$1.97', '$200.00', '$89.99', '$2.56', '$30.99', '$3.61',\n",
              "       '$394.99', '$1.26', '$1.20', '$1.04'], dtype=object)"
            ]
          },
          "metadata": {
            "tags": []
          },
          "execution_count": 139
        }
      ]
    },
    {
      "cell_type": "code",
      "metadata": {
        "id": "E7ZytuM-G4wi"
      },
      "source": [
        "play_store.Price = play_store.Price.apply(lambda x: x.strip('$'))"
      ],
      "execution_count": 140,
      "outputs": []
    },
    {
      "cell_type": "code",
      "metadata": {
        "id": "9bgAepA5G43w"
      },
      "source": [
        "play_store['Price'] = play_store['Price'].apply(convert_to_float)\n"
      ],
      "execution_count": 143,
      "outputs": []
    },
    {
      "cell_type": "code",
      "metadata": {
        "colab": {
          "base_uri": "https://localhost:8080/",
          "height": 306
        },
        "id": "-f3nPxXIG48L",
        "outputId": "fe75c197-34c6-4d36-e093-16bb892ecd04"
      },
      "source": [
        "play_store.head()"
      ],
      "execution_count": 144,
      "outputs": [
        {
          "output_type": "execute_result",
          "data": {
            "text/html": [
              "<div>\n",
              "<style scoped>\n",
              "    .dataframe tbody tr th:only-of-type {\n",
              "        vertical-align: middle;\n",
              "    }\n",
              "\n",
              "    .dataframe tbody tr th {\n",
              "        vertical-align: top;\n",
              "    }\n",
              "\n",
              "    .dataframe thead th {\n",
              "        text-align: right;\n",
              "    }\n",
              "</style>\n",
              "<table border=\"1\" class=\"dataframe\">\n",
              "  <thead>\n",
              "    <tr style=\"text-align: right;\">\n",
              "      <th></th>\n",
              "      <th>App</th>\n",
              "      <th>Category</th>\n",
              "      <th>Rating</th>\n",
              "      <th>Reviews</th>\n",
              "      <th>Size</th>\n",
              "      <th>Installs</th>\n",
              "      <th>Type</th>\n",
              "      <th>Price</th>\n",
              "      <th>Content Rating</th>\n",
              "      <th>Genres</th>\n",
              "      <th>Last Updated</th>\n",
              "      <th>Current Ver</th>\n",
              "      <th>Android Ver</th>\n",
              "    </tr>\n",
              "  </thead>\n",
              "  <tbody>\n",
              "    <tr>\n",
              "      <th>0</th>\n",
              "      <td>Photo Editor &amp; Candy Camera &amp; Grid &amp; ScrapBook</td>\n",
              "      <td>ART_AND_DESIGN</td>\n",
              "      <td>4.1</td>\n",
              "      <td>159</td>\n",
              "      <td>19.0</td>\n",
              "      <td>10000</td>\n",
              "      <td>Free</td>\n",
              "      <td>0.0</td>\n",
              "      <td>Everyone</td>\n",
              "      <td>Art &amp; Design</td>\n",
              "      <td>January 7, 2018</td>\n",
              "      <td>1.0.0</td>\n",
              "      <td>4.0.3 and up</td>\n",
              "    </tr>\n",
              "    <tr>\n",
              "      <th>2</th>\n",
              "      <td>U Launcher Lite – FREE Live Cool Themes, Hide ...</td>\n",
              "      <td>ART_AND_DESIGN</td>\n",
              "      <td>4.7</td>\n",
              "      <td>87510</td>\n",
              "      <td>8.7</td>\n",
              "      <td>5000000</td>\n",
              "      <td>Free</td>\n",
              "      <td>0.0</td>\n",
              "      <td>Everyone</td>\n",
              "      <td>Art &amp; Design</td>\n",
              "      <td>August 1, 2018</td>\n",
              "      <td>1.2.4</td>\n",
              "      <td>4.0.3 and up</td>\n",
              "    </tr>\n",
              "    <tr>\n",
              "      <th>3</th>\n",
              "      <td>Sketch - Draw &amp; Paint</td>\n",
              "      <td>ART_AND_DESIGN</td>\n",
              "      <td>4.5</td>\n",
              "      <td>215644</td>\n",
              "      <td>25.0</td>\n",
              "      <td>50000000</td>\n",
              "      <td>Free</td>\n",
              "      <td>0.0</td>\n",
              "      <td>Teen</td>\n",
              "      <td>Art &amp; Design</td>\n",
              "      <td>June 8, 2018</td>\n",
              "      <td>Varies with device</td>\n",
              "      <td>4.2 and up</td>\n",
              "    </tr>\n",
              "    <tr>\n",
              "      <th>4</th>\n",
              "      <td>Pixel Draw - Number Art Coloring Book</td>\n",
              "      <td>ART_AND_DESIGN</td>\n",
              "      <td>4.3</td>\n",
              "      <td>967</td>\n",
              "      <td>2.8</td>\n",
              "      <td>100000</td>\n",
              "      <td>Free</td>\n",
              "      <td>0.0</td>\n",
              "      <td>Everyone</td>\n",
              "      <td>Art &amp; Design;Creativity</td>\n",
              "      <td>June 20, 2018</td>\n",
              "      <td>1.1</td>\n",
              "      <td>4.4 and up</td>\n",
              "    </tr>\n",
              "    <tr>\n",
              "      <th>5</th>\n",
              "      <td>Paper flowers instructions</td>\n",
              "      <td>ART_AND_DESIGN</td>\n",
              "      <td>4.4</td>\n",
              "      <td>167</td>\n",
              "      <td>5.6</td>\n",
              "      <td>50000</td>\n",
              "      <td>Free</td>\n",
              "      <td>0.0</td>\n",
              "      <td>Everyone</td>\n",
              "      <td>Art &amp; Design</td>\n",
              "      <td>March 26, 2017</td>\n",
              "      <td>1.0</td>\n",
              "      <td>2.3 and up</td>\n",
              "    </tr>\n",
              "  </tbody>\n",
              "</table>\n",
              "</div>"
            ],
            "text/plain": [
              "                                                 App  ...   Android Ver\n",
              "0     Photo Editor & Candy Camera & Grid & ScrapBook  ...  4.0.3 and up\n",
              "2  U Launcher Lite – FREE Live Cool Themes, Hide ...  ...  4.0.3 and up\n",
              "3                              Sketch - Draw & Paint  ...    4.2 and up\n",
              "4              Pixel Draw - Number Art Coloring Book  ...    4.4 and up\n",
              "5                         Paper flowers instructions  ...    2.3 and up\n",
              "\n",
              "[5 rows x 13 columns]"
            ]
          },
          "metadata": {
            "tags": []
          },
          "execution_count": 144
        }
      ]
    },
    {
      "cell_type": "code",
      "metadata": {
        "colab": {
          "base_uri": "https://localhost:8080/",
          "height": 297
        },
        "id": "xXohilakG5FF",
        "outputId": "b199c127-4b18-46ac-fc84-5993f766e91e"
      },
      "source": [
        "play_store.describe()"
      ],
      "execution_count": 146,
      "outputs": [
        {
          "output_type": "execute_result",
          "data": {
            "text/html": [
              "<div>\n",
              "<style scoped>\n",
              "    .dataframe tbody tr th:only-of-type {\n",
              "        vertical-align: middle;\n",
              "    }\n",
              "\n",
              "    .dataframe tbody tr th {\n",
              "        vertical-align: top;\n",
              "    }\n",
              "\n",
              "    .dataframe thead th {\n",
              "        text-align: right;\n",
              "    }\n",
              "</style>\n",
              "<table border=\"1\" class=\"dataframe\">\n",
              "  <thead>\n",
              "    <tr style=\"text-align: right;\">\n",
              "      <th></th>\n",
              "      <th>Rating</th>\n",
              "      <th>Reviews</th>\n",
              "      <th>Size</th>\n",
              "      <th>Installs</th>\n",
              "      <th>Price</th>\n",
              "    </tr>\n",
              "  </thead>\n",
              "  <tbody>\n",
              "    <tr>\n",
              "      <th>count</th>\n",
              "      <td>9659.000000</td>\n",
              "      <td>9.659000e+03</td>\n",
              "      <td>9659.000000</td>\n",
              "      <td>9.659000e+03</td>\n",
              "      <td>9659.000000</td>\n",
              "    </tr>\n",
              "    <tr>\n",
              "      <th>mean</th>\n",
              "      <td>4.192422</td>\n",
              "      <td>2.166512e+05</td>\n",
              "      <td>19.331161</td>\n",
              "      <td>7.794247e+06</td>\n",
              "      <td>1.097231</td>\n",
              "    </tr>\n",
              "    <tr>\n",
              "      <th>std</th>\n",
              "      <td>0.496071</td>\n",
              "      <td>1.830738e+06</td>\n",
              "      <td>20.585379</td>\n",
              "      <td>5.376991e+07</td>\n",
              "      <td>16.851618</td>\n",
              "    </tr>\n",
              "    <tr>\n",
              "      <th>min</th>\n",
              "      <td>1.000000</td>\n",
              "      <td>0.000000e+00</td>\n",
              "      <td>0.008500</td>\n",
              "      <td>0.000000e+00</td>\n",
              "      <td>0.000000</td>\n",
              "    </tr>\n",
              "    <tr>\n",
              "      <th>25%</th>\n",
              "      <td>4.000000</td>\n",
              "      <td>2.500000e+01</td>\n",
              "      <td>5.300000</td>\n",
              "      <td>1.000000e+03</td>\n",
              "      <td>0.000000</td>\n",
              "    </tr>\n",
              "    <tr>\n",
              "      <th>50%</th>\n",
              "      <td>4.300000</td>\n",
              "      <td>9.690000e+02</td>\n",
              "      <td>12.000000</td>\n",
              "      <td>1.000000e+05</td>\n",
              "      <td>0.000000</td>\n",
              "    </tr>\n",
              "    <tr>\n",
              "      <th>75%</th>\n",
              "      <td>4.500000</td>\n",
              "      <td>2.940100e+04</td>\n",
              "      <td>25.000000</td>\n",
              "      <td>1.000000e+06</td>\n",
              "      <td>0.000000</td>\n",
              "    </tr>\n",
              "    <tr>\n",
              "      <th>max</th>\n",
              "      <td>5.000000</td>\n",
              "      <td>7.812821e+07</td>\n",
              "      <td>100.000000</td>\n",
              "      <td>1.000000e+09</td>\n",
              "      <td>400.000000</td>\n",
              "    </tr>\n",
              "  </tbody>\n",
              "</table>\n",
              "</div>"
            ],
            "text/plain": [
              "            Rating       Reviews         Size      Installs        Price\n",
              "count  9659.000000  9.659000e+03  9659.000000  9.659000e+03  9659.000000\n",
              "mean      4.192422  2.166512e+05    19.331161  7.794247e+06     1.097231\n",
              "std       0.496071  1.830738e+06    20.585379  5.376991e+07    16.851618\n",
              "min       1.000000  0.000000e+00     0.008500  0.000000e+00     0.000000\n",
              "25%       4.000000  2.500000e+01     5.300000  1.000000e+03     0.000000\n",
              "50%       4.300000  9.690000e+02    12.000000  1.000000e+05     0.000000\n",
              "75%       4.500000  2.940100e+04    25.000000  1.000000e+06     0.000000\n",
              "max       5.000000  7.812821e+07   100.000000  1.000000e+09   400.000000"
            ]
          },
          "metadata": {
            "tags": []
          },
          "execution_count": 146
        }
      ]
    },
    {
      "cell_type": "markdown",
      "metadata": {
        "id": "2XXULS2ITGDO"
      },
      "source": [
        "### Information based on Category"
      ]
    },
    {
      "cell_type": "code",
      "metadata": {
        "id": "09XxjzMhG5I-"
      },
      "source": [
        "Category_df = play_store.groupby('Category').agg({'App':\"count\",'Rating': \"mean\",'Reviews':\"sum\",'Installs':\"sum\",'Size':\"median\"}).sort_values(by=['App','Rating','Reviews','Installs','Size'],ascending = [False,False,False,False,False]).rename(columns ={'App':'Num_Apps','Rating':'Avg. Ratings','Reviews':'Total_reviews','Installs':'Total_installs','Size':'Avg_Size(MB)'})"
      ],
      "execution_count": 149,
      "outputs": []
    },
    {
      "cell_type": "code",
      "metadata": {
        "colab": {
          "base_uri": "https://localhost:8080/",
          "height": 1000
        },
        "id": "KVYJM1E3G6KX",
        "outputId": "78424a43-fff1-4611-e0cd-7b1b10807841"
      },
      "source": [
        "Category_df"
      ],
      "execution_count": 150,
      "outputs": [
        {
          "output_type": "execute_result",
          "data": {
            "text/html": [
              "<div>\n",
              "<style scoped>\n",
              "    .dataframe tbody tr th:only-of-type {\n",
              "        vertical-align: middle;\n",
              "    }\n",
              "\n",
              "    .dataframe tbody tr th {\n",
              "        vertical-align: top;\n",
              "    }\n",
              "\n",
              "    .dataframe thead th {\n",
              "        text-align: right;\n",
              "    }\n",
              "</style>\n",
              "<table border=\"1\" class=\"dataframe\">\n",
              "  <thead>\n",
              "    <tr style=\"text-align: right;\">\n",
              "      <th></th>\n",
              "      <th>Num_Apps</th>\n",
              "      <th>Avg. Ratings</th>\n",
              "      <th>Total_reviews</th>\n",
              "      <th>Total_installs</th>\n",
              "      <th>Avg_Size(MB)</th>\n",
              "    </tr>\n",
              "    <tr>\n",
              "      <th>Category</th>\n",
              "      <th></th>\n",
              "      <th></th>\n",
              "      <th></th>\n",
              "      <th></th>\n",
              "      <th></th>\n",
              "    </tr>\n",
              "  </thead>\n",
              "  <tbody>\n",
              "    <tr>\n",
              "      <th>FAMILY</th>\n",
              "      <td>1906</td>\n",
              "      <td>4.200367</td>\n",
              "      <td>345758056</td>\n",
              "      <td>8870642505</td>\n",
              "      <td>17.00</td>\n",
              "    </tr>\n",
              "    <tr>\n",
              "      <th>GAME</th>\n",
              "      <td>926</td>\n",
              "      <td>4.243305</td>\n",
              "      <td>425239248</td>\n",
              "      <td>10897924415</td>\n",
              "      <td>34.00</td>\n",
              "    </tr>\n",
              "    <tr>\n",
              "      <th>TOOLS</th>\n",
              "      <td>829</td>\n",
              "      <td>4.074427</td>\n",
              "      <td>229433729</td>\n",
              "      <td>8102771915</td>\n",
              "      <td>5.20</td>\n",
              "    </tr>\n",
              "    <tr>\n",
              "      <th>BUSINESS</th>\n",
              "      <td>419</td>\n",
              "      <td>4.172792</td>\n",
              "      <td>9702179</td>\n",
              "      <td>692164865</td>\n",
              "      <td>10.00</td>\n",
              "    </tr>\n",
              "    <tr>\n",
              "      <th>MEDICAL</th>\n",
              "      <td>396</td>\n",
              "      <td>4.204040</td>\n",
              "      <td>1287083</td>\n",
              "      <td>39203077</td>\n",
              "      <td>12.50</td>\n",
              "    </tr>\n",
              "    <tr>\n",
              "      <th>PERSONALIZATION</th>\n",
              "      <td>376</td>\n",
              "      <td>4.325532</td>\n",
              "      <td>53532177</td>\n",
              "      <td>1532494782</td>\n",
              "      <td>7.70</td>\n",
              "    </tr>\n",
              "    <tr>\n",
              "      <th>PRODUCTIVITY</th>\n",
              "      <td>374</td>\n",
              "      <td>4.206150</td>\n",
              "      <td>55570346</td>\n",
              "      <td>5788091369</td>\n",
              "      <td>11.00</td>\n",
              "    </tr>\n",
              "    <tr>\n",
              "      <th>LIFESTYLE</th>\n",
              "      <td>369</td>\n",
              "      <td>4.131436</td>\n",
              "      <td>11832055</td>\n",
              "      <td>503823539</td>\n",
              "      <td>12.00</td>\n",
              "    </tr>\n",
              "    <tr>\n",
              "      <th>FINANCE</th>\n",
              "      <td>345</td>\n",
              "      <td>4.138551</td>\n",
              "      <td>12662872</td>\n",
              "      <td>455348734</td>\n",
              "      <td>12.00</td>\n",
              "    </tr>\n",
              "    <tr>\n",
              "      <th>SPORTS</th>\n",
              "      <td>327</td>\n",
              "      <td>4.234862</td>\n",
              "      <td>59406934</td>\n",
              "      <td>1296474498</td>\n",
              "      <td>14.00</td>\n",
              "    </tr>\n",
              "    <tr>\n",
              "      <th>COMMUNICATION</th>\n",
              "      <td>316</td>\n",
              "      <td>4.154747</td>\n",
              "      <td>285824817</td>\n",
              "      <td>11039276251</td>\n",
              "      <td>12.00</td>\n",
              "    </tr>\n",
              "    <tr>\n",
              "      <th>HEALTH_AND_FITNESS</th>\n",
              "      <td>287</td>\n",
              "      <td>4.250871</td>\n",
              "      <td>21039814</td>\n",
              "      <td>1134022512</td>\n",
              "      <td>12.00</td>\n",
              "    </tr>\n",
              "    <tr>\n",
              "      <th>PHOTOGRAPHY</th>\n",
              "      <td>281</td>\n",
              "      <td>4.165125</td>\n",
              "      <td>105556805</td>\n",
              "      <td>4658147655</td>\n",
              "      <td>12.00</td>\n",
              "    </tr>\n",
              "    <tr>\n",
              "      <th>NEWS_AND_MAGAZINES</th>\n",
              "      <td>254</td>\n",
              "      <td>4.156693</td>\n",
              "      <td>23120896</td>\n",
              "      <td>2369217760</td>\n",
              "      <td>12.00</td>\n",
              "    </tr>\n",
              "    <tr>\n",
              "      <th>SOCIAL</th>\n",
              "      <td>239</td>\n",
              "      <td>4.255230</td>\n",
              "      <td>227802363</td>\n",
              "      <td>5487867902</td>\n",
              "      <td>11.00</td>\n",
              "    </tr>\n",
              "    <tr>\n",
              "      <th>BOOKS_AND_REFERENCE</th>\n",
              "      <td>222</td>\n",
              "      <td>4.334234</td>\n",
              "      <td>16722873</td>\n",
              "      <td>1665969576</td>\n",
              "      <td>8.75</td>\n",
              "    </tr>\n",
              "    <tr>\n",
              "      <th>TRAVEL_AND_LOCAL</th>\n",
              "      <td>219</td>\n",
              "      <td>4.103196</td>\n",
              "      <td>26817033</td>\n",
              "      <td>2894887146</td>\n",
              "      <td>13.00</td>\n",
              "    </tr>\n",
              "    <tr>\n",
              "      <th>SHOPPING</th>\n",
              "      <td>202</td>\n",
              "      <td>4.238119</td>\n",
              "      <td>44524852</td>\n",
              "      <td>1400348785</td>\n",
              "      <td>12.00</td>\n",
              "    </tr>\n",
              "    <tr>\n",
              "      <th>DATING</th>\n",
              "      <td>170</td>\n",
              "      <td>4.050000</td>\n",
              "      <td>3623840</td>\n",
              "      <td>140925107</td>\n",
              "      <td>12.00</td>\n",
              "    </tr>\n",
              "    <tr>\n",
              "      <th>VIDEO_PLAYERS</th>\n",
              "      <td>163</td>\n",
              "      <td>4.066871</td>\n",
              "      <td>67324804</td>\n",
              "      <td>3917002720</td>\n",
              "      <td>12.00</td>\n",
              "    </tr>\n",
              "    <tr>\n",
              "      <th>MAPS_AND_NAVIGATION</th>\n",
              "      <td>131</td>\n",
              "      <td>4.062595</td>\n",
              "      <td>17720178</td>\n",
              "      <td>503281890</td>\n",
              "      <td>12.00</td>\n",
              "    </tr>\n",
              "    <tr>\n",
              "      <th>FOOD_AND_DRINK</th>\n",
              "      <td>112</td>\n",
              "      <td>4.191964</td>\n",
              "      <td>6325986</td>\n",
              "      <td>211798751</td>\n",
              "      <td>13.00</td>\n",
              "    </tr>\n",
              "    <tr>\n",
              "      <th>EDUCATION</th>\n",
              "      <td>102</td>\n",
              "      <td>4.350980</td>\n",
              "      <td>5583607</td>\n",
              "      <td>176951000</td>\n",
              "      <td>12.00</td>\n",
              "    </tr>\n",
              "    <tr>\n",
              "      <th>AUTO_AND_VEHICLES</th>\n",
              "      <td>85</td>\n",
              "      <td>4.205882</td>\n",
              "      <td>1163666</td>\n",
              "      <td>53130211</td>\n",
              "      <td>12.00</td>\n",
              "    </tr>\n",
              "    <tr>\n",
              "      <th>LIBRARIES_AND_DEMO</th>\n",
              "      <td>84</td>\n",
              "      <td>4.207143</td>\n",
              "      <td>906846</td>\n",
              "      <td>52995910</td>\n",
              "      <td>3.55</td>\n",
              "    </tr>\n",
              "    <tr>\n",
              "      <th>WEATHER</th>\n",
              "      <td>79</td>\n",
              "      <td>4.248101</td>\n",
              "      <td>12294246</td>\n",
              "      <td>361100520</td>\n",
              "      <td>12.00</td>\n",
              "    </tr>\n",
              "    <tr>\n",
              "      <th>ENTERTAINMENT</th>\n",
              "      <td>79</td>\n",
              "      <td>4.111392</td>\n",
              "      <td>14658985</td>\n",
              "      <td>708660000</td>\n",
              "      <td>12.00</td>\n",
              "    </tr>\n",
              "    <tr>\n",
              "      <th>HOUSE_AND_HOME</th>\n",
              "      <td>73</td>\n",
              "      <td>4.167123</td>\n",
              "      <td>1929789</td>\n",
              "      <td>97202461</td>\n",
              "      <td>12.00</td>\n",
              "    </tr>\n",
              "    <tr>\n",
              "      <th>EVENTS</th>\n",
              "      <td>64</td>\n",
              "      <td>4.395313</td>\n",
              "      <td>161018</td>\n",
              "      <td>15973161</td>\n",
              "      <td>11.00</td>\n",
              "    </tr>\n",
              "    <tr>\n",
              "      <th>ART_AND_DESIGN</th>\n",
              "      <td>61</td>\n",
              "      <td>4.357377</td>\n",
              "      <td>1410046</td>\n",
              "      <td>113238100</td>\n",
              "      <td>9.20</td>\n",
              "    </tr>\n",
              "    <tr>\n",
              "      <th>PARENTING</th>\n",
              "      <td>60</td>\n",
              "      <td>4.300000</td>\n",
              "      <td>958331</td>\n",
              "      <td>31521110</td>\n",
              "      <td>12.00</td>\n",
              "    </tr>\n",
              "    <tr>\n",
              "      <th>COMICS</th>\n",
              "      <td>56</td>\n",
              "      <td>4.185714</td>\n",
              "      <td>2342399</td>\n",
              "      <td>44981150</td>\n",
              "      <td>12.00</td>\n",
              "    </tr>\n",
              "    <tr>\n",
              "      <th>BEAUTY</th>\n",
              "      <td>53</td>\n",
              "      <td>4.283019</td>\n",
              "      <td>396240</td>\n",
              "      <td>27197050</td>\n",
              "      <td>12.00</td>\n",
              "    </tr>\n",
              "  </tbody>\n",
              "</table>\n",
              "</div>"
            ],
            "text/plain": [
              "                     Num_Apps  Avg. Ratings  ...  Total_installs  Avg_Size(MB)\n",
              "Category                                     ...                              \n",
              "FAMILY                   1906      4.200367  ...      8870642505         17.00\n",
              "GAME                      926      4.243305  ...     10897924415         34.00\n",
              "TOOLS                     829      4.074427  ...      8102771915          5.20\n",
              "BUSINESS                  419      4.172792  ...       692164865         10.00\n",
              "MEDICAL                   396      4.204040  ...        39203077         12.50\n",
              "PERSONALIZATION           376      4.325532  ...      1532494782          7.70\n",
              "PRODUCTIVITY              374      4.206150  ...      5788091369         11.00\n",
              "LIFESTYLE                 369      4.131436  ...       503823539         12.00\n",
              "FINANCE                   345      4.138551  ...       455348734         12.00\n",
              "SPORTS                    327      4.234862  ...      1296474498         14.00\n",
              "COMMUNICATION             316      4.154747  ...     11039276251         12.00\n",
              "HEALTH_AND_FITNESS        287      4.250871  ...      1134022512         12.00\n",
              "PHOTOGRAPHY               281      4.165125  ...      4658147655         12.00\n",
              "NEWS_AND_MAGAZINES        254      4.156693  ...      2369217760         12.00\n",
              "SOCIAL                    239      4.255230  ...      5487867902         11.00\n",
              "BOOKS_AND_REFERENCE       222      4.334234  ...      1665969576          8.75\n",
              "TRAVEL_AND_LOCAL          219      4.103196  ...      2894887146         13.00\n",
              "SHOPPING                  202      4.238119  ...      1400348785         12.00\n",
              "DATING                    170      4.050000  ...       140925107         12.00\n",
              "VIDEO_PLAYERS             163      4.066871  ...      3917002720         12.00\n",
              "MAPS_AND_NAVIGATION       131      4.062595  ...       503281890         12.00\n",
              "FOOD_AND_DRINK            112      4.191964  ...       211798751         13.00\n",
              "EDUCATION                 102      4.350980  ...       176951000         12.00\n",
              "AUTO_AND_VEHICLES          85      4.205882  ...        53130211         12.00\n",
              "LIBRARIES_AND_DEMO         84      4.207143  ...        52995910          3.55\n",
              "WEATHER                    79      4.248101  ...       361100520         12.00\n",
              "ENTERTAINMENT              79      4.111392  ...       708660000         12.00\n",
              "HOUSE_AND_HOME             73      4.167123  ...        97202461         12.00\n",
              "EVENTS                     64      4.395313  ...        15973161         11.00\n",
              "ART_AND_DESIGN             61      4.357377  ...       113238100          9.20\n",
              "PARENTING                  60      4.300000  ...        31521110         12.00\n",
              "COMICS                     56      4.185714  ...        44981150         12.00\n",
              "BEAUTY                     53      4.283019  ...        27197050         12.00\n",
              "\n",
              "[33 rows x 5 columns]"
            ]
          },
          "metadata": {
            "tags": []
          },
          "execution_count": 150
        }
      ]
    },
    {
      "cell_type": "markdown",
      "metadata": {
        "id": "BLxcyrr2S6T6"
      },
      "source": [
        "### Checking categorization based on free/paid apps"
      ]
    },
    {
      "cell_type": "code",
      "metadata": {
        "id": "mUydEcCnG6gR"
      },
      "source": [
        "type_of_app_df = play_store.groupby('Type').agg({'App':\"count\",'Rating': \"mean\",'Reviews':\"median\",'Installs':\"mean\",'Size':\"median\"}).sort_values(by=['App','Rating','Reviews','Installs','Size'],ascending = [False,False,False,False,False]).rename(columns ={'App':'Num_Apps','Rating':'Avg. Ratings','Reviews':'Median_reviews','Installs':'Avg_installs','Size':'Avg_Size(MB)'})"
      ],
      "execution_count": 157,
      "outputs": []
    },
    {
      "cell_type": "code",
      "metadata": {
        "colab": {
          "base_uri": "https://localhost:8080/",
          "height": 142
        },
        "id": "h226NFA0G6zY",
        "outputId": "e589f87e-eb39-4d93-de2f-5a3d8c352cc8"
      },
      "source": [
        "type_of_app_df"
      ],
      "execution_count": 158,
      "outputs": [
        {
          "output_type": "execute_result",
          "data": {
            "text/html": [
              "<div>\n",
              "<style scoped>\n",
              "    .dataframe tbody tr th:only-of-type {\n",
              "        vertical-align: middle;\n",
              "    }\n",
              "\n",
              "    .dataframe tbody tr th {\n",
              "        vertical-align: top;\n",
              "    }\n",
              "\n",
              "    .dataframe thead th {\n",
              "        text-align: right;\n",
              "    }\n",
              "</style>\n",
              "<table border=\"1\" class=\"dataframe\">\n",
              "  <thead>\n",
              "    <tr style=\"text-align: right;\">\n",
              "      <th></th>\n",
              "      <th>Num_Apps</th>\n",
              "      <th>Avg. Ratings</th>\n",
              "      <th>Median_reviews</th>\n",
              "      <th>Avg_installs</th>\n",
              "      <th>Avg_Size(MB)</th>\n",
              "    </tr>\n",
              "    <tr>\n",
              "      <th>Type</th>\n",
              "      <th></th>\n",
              "      <th></th>\n",
              "      <th></th>\n",
              "      <th></th>\n",
              "      <th></th>\n",
              "    </tr>\n",
              "  </thead>\n",
              "  <tbody>\n",
              "    <tr>\n",
              "      <th>Free</th>\n",
              "      <td>8905</td>\n",
              "      <td>4.185873</td>\n",
              "      <td>1369.0</td>\n",
              "      <td>8.447757e+06</td>\n",
              "      <td>12.0</td>\n",
              "    </tr>\n",
              "    <tr>\n",
              "      <th>Paid</th>\n",
              "      <td>754</td>\n",
              "      <td>4.269761</td>\n",
              "      <td>88.5</td>\n",
              "      <td>7.607929e+04</td>\n",
              "      <td>12.0</td>\n",
              "    </tr>\n",
              "  </tbody>\n",
              "</table>\n",
              "</div>"
            ],
            "text/plain": [
              "      Num_Apps  Avg. Ratings  Median_reviews  Avg_installs  Avg_Size(MB)\n",
              "Type                                                                    \n",
              "Free      8905      4.185873          1369.0  8.447757e+06          12.0\n",
              "Paid       754      4.269761            88.5  7.607929e+04          12.0"
            ]
          },
          "metadata": {
            "tags": []
          },
          "execution_count": 158
        }
      ]
    },
    {
      "cell_type": "markdown",
      "metadata": {
        "id": "ek3jlyYkQErt"
      },
      "source": [
        "#### Top 5 Apps based on Ratings"
      ]
    },
    {
      "cell_type": "code",
      "metadata": {
        "colab": {
          "base_uri": "https://localhost:8080/",
          "height": 204
        },
        "id": "8oFMHF6CG64X",
        "outputId": "9468373b-9048-4d0a-f2fe-2fc42c9eebd3"
      },
      "source": [
        "play_store[['App','Category','Rating']].sort_values(by=['Rating'], ascending = False).head(5)"
      ],
      "execution_count": 173,
      "outputs": [
        {
          "output_type": "execute_result",
          "data": {
            "text/html": [
              "<div>\n",
              "<style scoped>\n",
              "    .dataframe tbody tr th:only-of-type {\n",
              "        vertical-align: middle;\n",
              "    }\n",
              "\n",
              "    .dataframe tbody tr th {\n",
              "        vertical-align: top;\n",
              "    }\n",
              "\n",
              "    .dataframe thead th {\n",
              "        text-align: right;\n",
              "    }\n",
              "</style>\n",
              "<table border=\"1\" class=\"dataframe\">\n",
              "  <thead>\n",
              "    <tr style=\"text-align: right;\">\n",
              "      <th></th>\n",
              "      <th>App</th>\n",
              "      <th>Category</th>\n",
              "      <th>Rating</th>\n",
              "    </tr>\n",
              "  </thead>\n",
              "  <tbody>\n",
              "    <tr>\n",
              "      <th>7405</th>\n",
              "      <td>Nur təfsiri 1-ci cild</td>\n",
              "      <td>LIBRARIES_AND_DEMO</td>\n",
              "      <td>5.0</td>\n",
              "    </tr>\n",
              "    <tr>\n",
              "      <th>7321</th>\n",
              "      <td>CG Jobs</td>\n",
              "      <td>FAMILY</td>\n",
              "      <td>5.0</td>\n",
              "    </tr>\n",
              "    <tr>\n",
              "      <th>9427</th>\n",
              "      <td>ei Calc</td>\n",
              "      <td>TOOLS</td>\n",
              "      <td>5.0</td>\n",
              "    </tr>\n",
              "    <tr>\n",
              "      <th>5776</th>\n",
              "      <td>Food-Aw - Order Food Online in Aruba</td>\n",
              "      <td>FOOD_AND_DRINK</td>\n",
              "      <td>5.0</td>\n",
              "    </tr>\n",
              "    <tr>\n",
              "      <th>7320</th>\n",
              "      <td>CG - Chemistry free</td>\n",
              "      <td>FAMILY</td>\n",
              "      <td>5.0</td>\n",
              "    </tr>\n",
              "  </tbody>\n",
              "</table>\n",
              "</div>"
            ],
            "text/plain": [
              "                                       App            Category  Rating\n",
              "7405                 Nur təfsiri 1-ci cild  LIBRARIES_AND_DEMO     5.0\n",
              "7321                               CG Jobs              FAMILY     5.0\n",
              "9427                               ei Calc               TOOLS     5.0\n",
              "5776  Food-Aw - Order Food Online in Aruba      FOOD_AND_DRINK     5.0\n",
              "7320                   CG - Chemistry free              FAMILY     5.0"
            ]
          },
          "metadata": {
            "tags": []
          },
          "execution_count": 173
        }
      ]
    },
    {
      "cell_type": "markdown",
      "metadata": {
        "id": "ptwQVNt8QFwH"
      },
      "source": [
        "#### Top 5 Apps based on Reviews"
      ]
    },
    {
      "cell_type": "code",
      "metadata": {
        "colab": {
          "base_uri": "https://localhost:8080/",
          "height": 204
        },
        "id": "6G64mGMRG69P",
        "outputId": "6383fe2a-cf2d-4fea-bd4c-73e2a3017e15"
      },
      "source": [
        "play_store[['App','Category','Reviews']].sort_values(by=['Reviews'], ascending = False).head(5)"
      ],
      "execution_count": 174,
      "outputs": [
        {
          "output_type": "execute_result",
          "data": {
            "text/html": [
              "<div>\n",
              "<style scoped>\n",
              "    .dataframe tbody tr th:only-of-type {\n",
              "        vertical-align: middle;\n",
              "    }\n",
              "\n",
              "    .dataframe tbody tr th {\n",
              "        vertical-align: top;\n",
              "    }\n",
              "\n",
              "    .dataframe thead th {\n",
              "        text-align: right;\n",
              "    }\n",
              "</style>\n",
              "<table border=\"1\" class=\"dataframe\">\n",
              "  <thead>\n",
              "    <tr style=\"text-align: right;\">\n",
              "      <th></th>\n",
              "      <th>App</th>\n",
              "      <th>Category</th>\n",
              "      <th>Reviews</th>\n",
              "    </tr>\n",
              "  </thead>\n",
              "  <tbody>\n",
              "    <tr>\n",
              "      <th>3943</th>\n",
              "      <td>Facebook</td>\n",
              "      <td>SOCIAL</td>\n",
              "      <td>78128208</td>\n",
              "    </tr>\n",
              "    <tr>\n",
              "      <th>3904</th>\n",
              "      <td>WhatsApp Messenger</td>\n",
              "      <td>COMMUNICATION</td>\n",
              "      <td>69109672</td>\n",
              "    </tr>\n",
              "    <tr>\n",
              "      <th>3909</th>\n",
              "      <td>Instagram</td>\n",
              "      <td>SOCIAL</td>\n",
              "      <td>66509917</td>\n",
              "    </tr>\n",
              "    <tr>\n",
              "      <th>4104</th>\n",
              "      <td>Messenger – Text and Video Chat for Free</td>\n",
              "      <td>COMMUNICATION</td>\n",
              "      <td>56642847</td>\n",
              "    </tr>\n",
              "    <tr>\n",
              "      <th>3986</th>\n",
              "      <td>Clash of Clans</td>\n",
              "      <td>FAMILY</td>\n",
              "      <td>44881447</td>\n",
              "    </tr>\n",
              "  </tbody>\n",
              "</table>\n",
              "</div>"
            ],
            "text/plain": [
              "                                           App       Category   Reviews\n",
              "3943                                  Facebook         SOCIAL  78128208\n",
              "3904                        WhatsApp Messenger  COMMUNICATION  69109672\n",
              "3909                                 Instagram         SOCIAL  66509917\n",
              "4104  Messenger – Text and Video Chat for Free  COMMUNICATION  56642847\n",
              "3986                            Clash of Clans         FAMILY  44881447"
            ]
          },
          "metadata": {
            "tags": []
          },
          "execution_count": 174
        }
      ]
    },
    {
      "cell_type": "markdown",
      "metadata": {
        "id": "zcvrNgriQINu"
      },
      "source": [
        "#### Top 5 Apps based on Installations Done"
      ]
    },
    {
      "cell_type": "code",
      "metadata": {
        "colab": {
          "base_uri": "https://localhost:8080/",
          "height": 204
        },
        "id": "IV5luZ9xG7DH",
        "outputId": "52835757-2d3f-41c6-9966-5783a6030a4a"
      },
      "source": [
        "play_store[['App','Category','Installs']].sort_values(by=['Installs'], ascending = False).head(5)"
      ],
      "execution_count": 175,
      "outputs": [
        {
          "output_type": "execute_result",
          "data": {
            "text/html": [
              "<div>\n",
              "<style scoped>\n",
              "    .dataframe tbody tr th:only-of-type {\n",
              "        vertical-align: middle;\n",
              "    }\n",
              "\n",
              "    .dataframe tbody tr th {\n",
              "        vertical-align: top;\n",
              "    }\n",
              "\n",
              "    .dataframe thead th {\n",
              "        text-align: right;\n",
              "    }\n",
              "</style>\n",
              "<table border=\"1\" class=\"dataframe\">\n",
              "  <thead>\n",
              "    <tr style=\"text-align: right;\">\n",
              "      <th></th>\n",
              "      <th>App</th>\n",
              "      <th>Category</th>\n",
              "      <th>Installs</th>\n",
              "    </tr>\n",
              "  </thead>\n",
              "  <tbody>\n",
              "    <tr>\n",
              "      <th>4153</th>\n",
              "      <td>Hangouts</td>\n",
              "      <td>COMMUNICATION</td>\n",
              "      <td>1000000000</td>\n",
              "    </tr>\n",
              "    <tr>\n",
              "      <th>9844</th>\n",
              "      <td>Google News</td>\n",
              "      <td>NEWS_AND_MAGAZINES</td>\n",
              "      <td>1000000000</td>\n",
              "    </tr>\n",
              "    <tr>\n",
              "      <th>4104</th>\n",
              "      <td>Messenger – Text and Video Chat for Free</td>\n",
              "      <td>COMMUNICATION</td>\n",
              "      <td>1000000000</td>\n",
              "    </tr>\n",
              "    <tr>\n",
              "      <th>4234</th>\n",
              "      <td>Skype - free IM &amp; video calls</td>\n",
              "      <td>COMMUNICATION</td>\n",
              "      <td>1000000000</td>\n",
              "    </tr>\n",
              "    <tr>\n",
              "      <th>3928</th>\n",
              "      <td>YouTube</td>\n",
              "      <td>VIDEO_PLAYERS</td>\n",
              "      <td>1000000000</td>\n",
              "    </tr>\n",
              "  </tbody>\n",
              "</table>\n",
              "</div>"
            ],
            "text/plain": [
              "                                           App            Category    Installs\n",
              "4153                                  Hangouts       COMMUNICATION  1000000000\n",
              "9844                               Google News  NEWS_AND_MAGAZINES  1000000000\n",
              "4104  Messenger – Text and Video Chat for Free       COMMUNICATION  1000000000\n",
              "4234             Skype - free IM & video calls       COMMUNICATION  1000000000\n",
              "3928                                   YouTube       VIDEO_PLAYERS  1000000000"
            ]
          },
          "metadata": {
            "tags": []
          },
          "execution_count": 175
        }
      ]
    },
    {
      "cell_type": "code",
      "metadata": {
        "id": "M5jst7fPG7KI"
      },
      "source": [
        ""
      ],
      "execution_count": null,
      "outputs": []
    },
    {
      "cell_type": "code",
      "metadata": {
        "id": "U-3TEmwnG7OY"
      },
      "source": [
        ""
      ],
      "execution_count": null,
      "outputs": []
    },
    {
      "cell_type": "code",
      "metadata": {
        "id": "Lx8aqqyzG7Uw"
      },
      "source": [
        ""
      ],
      "execution_count": null,
      "outputs": []
    },
    {
      "cell_type": "code",
      "metadata": {
        "id": "PaXOIFi1G7W1"
      },
      "source": [
        ""
      ],
      "execution_count": null,
      "outputs": []
    },
    {
      "cell_type": "code",
      "metadata": {
        "id": "lLt1mjjJG7eZ"
      },
      "source": [
        ""
      ],
      "execution_count": null,
      "outputs": []
    },
    {
      "cell_type": "code",
      "metadata": {
        "id": "_59l4VH-G7kq"
      },
      "source": [
        ""
      ],
      "execution_count": null,
      "outputs": []
    },
    {
      "cell_type": "code",
      "metadata": {
        "id": "jJAhKdv7G7-x"
      },
      "source": [
        ""
      ],
      "execution_count": null,
      "outputs": []
    },
    {
      "cell_type": "code",
      "metadata": {
        "id": "pDxKzqxsG8DW"
      },
      "source": [
        ""
      ],
      "execution_count": null,
      "outputs": []
    },
    {
      "cell_type": "code",
      "metadata": {
        "id": "mtBIXXGGG8Ic"
      },
      "source": [
        ""
      ],
      "execution_count": null,
      "outputs": []
    },
    {
      "cell_type": "code",
      "metadata": {
        "id": "30HZYgRuG8OI"
      },
      "source": [
        ""
      ],
      "execution_count": null,
      "outputs": []
    },
    {
      "cell_type": "code",
      "metadata": {
        "id": "0_CEm7TRG8Vt"
      },
      "source": [
        ""
      ],
      "execution_count": null,
      "outputs": []
    },
    {
      "cell_type": "code",
      "metadata": {
        "id": "rtQ1mm-BG8a9"
      },
      "source": [
        ""
      ],
      "execution_count": null,
      "outputs": []
    },
    {
      "cell_type": "code",
      "metadata": {
        "id": "vEff-FKnG8id"
      },
      "source": [
        ""
      ],
      "execution_count": null,
      "outputs": []
    },
    {
      "cell_type": "code",
      "metadata": {
        "id": "zBSlyIXFG8lg"
      },
      "source": [
        ""
      ],
      "execution_count": null,
      "outputs": []
    },
    {
      "cell_type": "code",
      "metadata": {
        "id": "FgAkTUImG8t1"
      },
      "source": [
        ""
      ],
      "execution_count": null,
      "outputs": []
    },
    {
      "cell_type": "code",
      "metadata": {
        "id": "DHvHCcURG8xC"
      },
      "source": [
        ""
      ],
      "execution_count": null,
      "outputs": []
    },
    {
      "cell_type": "code",
      "metadata": {
        "id": "5pvI0t8TG83N"
      },
      "source": [
        ""
      ],
      "execution_count": null,
      "outputs": []
    }
  ]
}
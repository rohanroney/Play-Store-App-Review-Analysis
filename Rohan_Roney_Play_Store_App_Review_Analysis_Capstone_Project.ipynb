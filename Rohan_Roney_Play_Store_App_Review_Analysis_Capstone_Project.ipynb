{
  "nbformat": 4,
  "nbformat_minor": 0,
  "metadata": {
    "kernelspec": {
      "display_name": "Python 3",
      "language": "python",
      "name": "python3"
    },
    "language_info": {
      "codemirror_mode": {
        "name": "ipython",
        "version": 3
      },
      "file_extension": ".py",
      "mimetype": "text/x-python",
      "name": "python",
      "nbconvert_exporter": "python",
      "pygments_lexer": "ipython3",
      "version": "3.6.6"
    },
    "colab": {
      "name": "Rohan Roney-Play Store App Review Analysis - Capstone Project.ipynb",
      "provenance": [],
      "collapsed_sections": [],
      "include_colab_link": true
    }
  },
  "cells": [
    {
      "cell_type": "markdown",
      "metadata": {
        "id": "view-in-github",
        "colab_type": "text"
      },
      "source": [
        "<a href=\"https://colab.research.google.com/github/rohanroney/Play-Store-App-Review-Analysis/blob/main/Rohan_Roney_Play_Store_App_Review_Analysis_Capstone_Project.ipynb\" target=\"_parent\"><img src=\"https://colab.research.google.com/assets/colab-badge.svg\" alt=\"Open In Colab\"/></a>"
      ]
    },
    {
      "cell_type": "markdown",
      "metadata": {
        "id": "Y06xIdG26kRF"
      },
      "source": [
        "## <b> The Play Store apps data has enormous potential to drive app-making businesses to success. Actionable insights can be drawn for developers to work on and capture the Android market. </b>\n",
        "\n",
        "## <b> Each app (row) has values for catergory, rating, size, and more. Another dataset contains customer reviews of the android apps.</b>\n",
        "\n",
        "## <b> Explore and analyze the data to discover key factors responsible for app engagement and success. </b>"
      ]
    },
    {
      "cell_type": "code",
      "metadata": {
        "id": "dByMsuzT8Tnw"
      },
      "source": [
        "# Import all the important libraries\n",
        "import pandas as pd\n",
        "import numpy as np\n",
        "import matplotlib.pyplot as plt"
      ],
      "execution_count": 2,
      "outputs": []
    },
    {
      "cell_type": "code",
      "metadata": {
        "colab": {
          "base_uri": "https://localhost:8080/"
        },
        "id": "ky65AdVIHr85",
        "outputId": "e244d44c-24b1-425f-c1fd-c94723a27eb0"
      },
      "source": [
        "from google.colab import drive\n",
        "drive.mount('/content/drive')"
      ],
      "execution_count": 3,
      "outputs": [
        {
          "output_type": "stream",
          "text": [
            "Mounted at /content/drive\n"
          ],
          "name": "stdout"
        }
      ]
    },
    {
      "cell_type": "markdown",
      "metadata": {
        "id": "G0lJEBmSIzTv"
      },
      "source": [
        "## Creating dataframes for both playstore data as well as user reviews data"
      ]
    },
    {
      "cell_type": "code",
      "metadata": {
        "id": "z1kis5bsG1v2"
      },
      "source": [
        "# Reading the data from the csv files\n",
        "working_directory = '/content/drive/MyDrive/AlmaBetter/Cohort Nilgiri/Module 1/Week 4/Capstone Project 1-Play Store App Review Analysis/dat/'\n",
        "play_store_df = pd.read_csv(working_directory + 'Play Store Data.csv')\n",
        "user_reviews_df = pd.read_csv(working_directory + 'User Reviews.csv')"
      ],
      "execution_count": 4,
      "outputs": []
    },
    {
      "cell_type": "markdown",
      "metadata": {
        "id": "O8uemgHHI-D7"
      },
      "source": [
        "###Understanding the Play Store data"
      ]
    },
    {
      "cell_type": "code",
      "metadata": {
        "colab": {
          "base_uri": "https://localhost:8080/",
          "height": 323
        },
        "id": "aK5H3Te8G134",
        "outputId": "e7357faf-4d27-4971-c3d4-6cb28f315532"
      },
      "source": [
        "play_store_df.head()"
      ],
      "execution_count": 124,
      "outputs": [
        {
          "output_type": "execute_result",
          "data": {
            "text/html": [
              "<div>\n",
              "<style scoped>\n",
              "    .dataframe tbody tr th:only-of-type {\n",
              "        vertical-align: middle;\n",
              "    }\n",
              "\n",
              "    .dataframe tbody tr th {\n",
              "        vertical-align: top;\n",
              "    }\n",
              "\n",
              "    .dataframe thead th {\n",
              "        text-align: right;\n",
              "    }\n",
              "</style>\n",
              "<table border=\"1\" class=\"dataframe\">\n",
              "  <thead>\n",
              "    <tr style=\"text-align: right;\">\n",
              "      <th></th>\n",
              "      <th>App</th>\n",
              "      <th>Category</th>\n",
              "      <th>Rating</th>\n",
              "      <th>Reviews</th>\n",
              "      <th>Size</th>\n",
              "      <th>Installs</th>\n",
              "      <th>Type</th>\n",
              "      <th>Price</th>\n",
              "      <th>Content Rating</th>\n",
              "      <th>Genres</th>\n",
              "      <th>Last Updated</th>\n",
              "      <th>Current Ver</th>\n",
              "      <th>Android Ver</th>\n",
              "    </tr>\n",
              "  </thead>\n",
              "  <tbody>\n",
              "    <tr>\n",
              "      <th>0</th>\n",
              "      <td>Photo Editor &amp; Candy Camera &amp; Grid &amp; ScrapBook</td>\n",
              "      <td>ART_AND_DESIGN</td>\n",
              "      <td>4.1</td>\n",
              "      <td>159</td>\n",
              "      <td>19M</td>\n",
              "      <td>10,000+</td>\n",
              "      <td>Free</td>\n",
              "      <td>0</td>\n",
              "      <td>Everyone</td>\n",
              "      <td>Art &amp; Design</td>\n",
              "      <td>January 7, 2018</td>\n",
              "      <td>1.0.0</td>\n",
              "      <td>4.0.3 and up</td>\n",
              "    </tr>\n",
              "    <tr>\n",
              "      <th>1</th>\n",
              "      <td>Coloring book moana</td>\n",
              "      <td>ART_AND_DESIGN</td>\n",
              "      <td>3.9</td>\n",
              "      <td>967</td>\n",
              "      <td>14M</td>\n",
              "      <td>500,000+</td>\n",
              "      <td>Free</td>\n",
              "      <td>0</td>\n",
              "      <td>Everyone</td>\n",
              "      <td>Art &amp; Design;Pretend Play</td>\n",
              "      <td>January 15, 2018</td>\n",
              "      <td>2.0.0</td>\n",
              "      <td>4.0.3 and up</td>\n",
              "    </tr>\n",
              "    <tr>\n",
              "      <th>2</th>\n",
              "      <td>U Launcher Lite – FREE Live Cool Themes, Hide ...</td>\n",
              "      <td>ART_AND_DESIGN</td>\n",
              "      <td>4.7</td>\n",
              "      <td>87510</td>\n",
              "      <td>8.7M</td>\n",
              "      <td>5,000,000+</td>\n",
              "      <td>Free</td>\n",
              "      <td>0</td>\n",
              "      <td>Everyone</td>\n",
              "      <td>Art &amp; Design</td>\n",
              "      <td>August 1, 2018</td>\n",
              "      <td>1.2.4</td>\n",
              "      <td>4.0.3 and up</td>\n",
              "    </tr>\n",
              "    <tr>\n",
              "      <th>3</th>\n",
              "      <td>Sketch - Draw &amp; Paint</td>\n",
              "      <td>ART_AND_DESIGN</td>\n",
              "      <td>4.5</td>\n",
              "      <td>215644</td>\n",
              "      <td>25M</td>\n",
              "      <td>50,000,000+</td>\n",
              "      <td>Free</td>\n",
              "      <td>0</td>\n",
              "      <td>Teen</td>\n",
              "      <td>Art &amp; Design</td>\n",
              "      <td>June 8, 2018</td>\n",
              "      <td>Varies with device</td>\n",
              "      <td>4.2 and up</td>\n",
              "    </tr>\n",
              "    <tr>\n",
              "      <th>4</th>\n",
              "      <td>Pixel Draw - Number Art Coloring Book</td>\n",
              "      <td>ART_AND_DESIGN</td>\n",
              "      <td>4.3</td>\n",
              "      <td>967</td>\n",
              "      <td>2.8M</td>\n",
              "      <td>100,000+</td>\n",
              "      <td>Free</td>\n",
              "      <td>0</td>\n",
              "      <td>Everyone</td>\n",
              "      <td>Art &amp; Design;Creativity</td>\n",
              "      <td>June 20, 2018</td>\n",
              "      <td>1.1</td>\n",
              "      <td>4.4 and up</td>\n",
              "    </tr>\n",
              "  </tbody>\n",
              "</table>\n",
              "</div>"
            ],
            "text/plain": [
              "                                                 App  ...   Android Ver\n",
              "0     Photo Editor & Candy Camera & Grid & ScrapBook  ...  4.0.3 and up\n",
              "1                                Coloring book moana  ...  4.0.3 and up\n",
              "2  U Launcher Lite – FREE Live Cool Themes, Hide ...  ...  4.0.3 and up\n",
              "3                              Sketch - Draw & Paint  ...    4.2 and up\n",
              "4              Pixel Draw - Number Art Coloring Book  ...    4.4 and up\n",
              "\n",
              "[5 rows x 13 columns]"
            ]
          },
          "metadata": {
            "tags": []
          },
          "execution_count": 124
        }
      ]
    },
    {
      "cell_type": "code",
      "metadata": {
        "colab": {
          "base_uri": "https://localhost:8080/",
          "height": 657
        },
        "id": "TnwHugBoU60p",
        "outputId": "dc563bdf-69b2-412c-f436-211bdbf29b1d"
      },
      "source": [
        "play_store_df[(play_store_df['Category'] == \"NEWS_AND_MAGAZINES\") ]\n"
      ],
      "execution_count": 149,
      "outputs": [
        {
          "output_type": "execute_result",
          "data": {
            "text/html": [
              "<div>\n",
              "<style scoped>\n",
              "    .dataframe tbody tr th:only-of-type {\n",
              "        vertical-align: middle;\n",
              "    }\n",
              "\n",
              "    .dataframe tbody tr th {\n",
              "        vertical-align: top;\n",
              "    }\n",
              "\n",
              "    .dataframe thead th {\n",
              "        text-align: right;\n",
              "    }\n",
              "</style>\n",
              "<table border=\"1\" class=\"dataframe\">\n",
              "  <thead>\n",
              "    <tr style=\"text-align: right;\">\n",
              "      <th></th>\n",
              "      <th>App</th>\n",
              "      <th>Category</th>\n",
              "      <th>Rating</th>\n",
              "      <th>Reviews</th>\n",
              "      <th>Size</th>\n",
              "      <th>Installs</th>\n",
              "      <th>Type</th>\n",
              "      <th>Price</th>\n",
              "      <th>Content Rating</th>\n",
              "      <th>Genres</th>\n",
              "      <th>Last Updated</th>\n",
              "      <th>Current Ver</th>\n",
              "      <th>Android Ver</th>\n",
              "    </tr>\n",
              "  </thead>\n",
              "  <tbody>\n",
              "    <tr>\n",
              "      <th>3715</th>\n",
              "      <td>Fox News – Breaking News, Live Video &amp; News Al...</td>\n",
              "      <td>NEWS_AND_MAGAZINES</td>\n",
              "      <td>4.5</td>\n",
              "      <td>249919</td>\n",
              "      <td>Varies with device</td>\n",
              "      <td>10,000,000+</td>\n",
              "      <td>Free</td>\n",
              "      <td>0</td>\n",
              "      <td>Everyone 10+</td>\n",
              "      <td>News &amp; Magazines</td>\n",
              "      <td>July 30, 2018</td>\n",
              "      <td>Varies with device</td>\n",
              "      <td>Varies with device</td>\n",
              "    </tr>\n",
              "    <tr>\n",
              "      <th>3716</th>\n",
              "      <td>NEW - Read Newspaper, News 24h</td>\n",
              "      <td>NEWS_AND_MAGAZINES</td>\n",
              "      <td>4.4</td>\n",
              "      <td>158196</td>\n",
              "      <td>Varies with device</td>\n",
              "      <td>10,000,000+</td>\n",
              "      <td>Free</td>\n",
              "      <td>0</td>\n",
              "      <td>Everyone</td>\n",
              "      <td>News &amp; Magazines</td>\n",
              "      <td>July 27, 2018</td>\n",
              "      <td>Varies with device</td>\n",
              "      <td>Varies with device</td>\n",
              "    </tr>\n",
              "    <tr>\n",
              "      <th>3717</th>\n",
              "      <td>BaBe + - Indonesian News</td>\n",
              "      <td>NEWS_AND_MAGAZINES</td>\n",
              "      <td>4.3</td>\n",
              "      <td>42624</td>\n",
              "      <td>16M</td>\n",
              "      <td>1,000,000+</td>\n",
              "      <td>Free</td>\n",
              "      <td>0</td>\n",
              "      <td>Everyone 10+</td>\n",
              "      <td>News &amp; Magazines</td>\n",
              "      <td>August 1, 2018</td>\n",
              "      <td>6.6.4</td>\n",
              "      <td>4.0 and up</td>\n",
              "    </tr>\n",
              "    <tr>\n",
              "      <th>3718</th>\n",
              "      <td>daily News</td>\n",
              "      <td>NEWS_AND_MAGAZINES</td>\n",
              "      <td>4.5</td>\n",
              "      <td>26411</td>\n",
              "      <td>26M</td>\n",
              "      <td>1,000,000+</td>\n",
              "      <td>Free</td>\n",
              "      <td>0</td>\n",
              "      <td>Everyone</td>\n",
              "      <td>News &amp; Magazines</td>\n",
              "      <td>March 26, 2018</td>\n",
              "      <td>2.3.2</td>\n",
              "      <td>4.1 and up</td>\n",
              "    </tr>\n",
              "    <tr>\n",
              "      <th>3719</th>\n",
              "      <td>BBC News</td>\n",
              "      <td>NEWS_AND_MAGAZINES</td>\n",
              "      <td>4.3</td>\n",
              "      <td>296781</td>\n",
              "      <td>Varies with device</td>\n",
              "      <td>10,000,000+</td>\n",
              "      <td>Free</td>\n",
              "      <td>0</td>\n",
              "      <td>Everyone 10+</td>\n",
              "      <td>News &amp; Magazines</td>\n",
              "      <td>July 24, 2018</td>\n",
              "      <td>Varies with device</td>\n",
              "      <td>Varies with device</td>\n",
              "    </tr>\n",
              "    <tr>\n",
              "      <th>...</th>\n",
              "      <td>...</td>\n",
              "      <td>...</td>\n",
              "      <td>...</td>\n",
              "      <td>...</td>\n",
              "      <td>...</td>\n",
              "      <td>...</td>\n",
              "      <td>...</td>\n",
              "      <td>...</td>\n",
              "      <td>...</td>\n",
              "      <td>...</td>\n",
              "      <td>...</td>\n",
              "      <td>...</td>\n",
              "      <td>...</td>\n",
              "    </tr>\n",
              "    <tr>\n",
              "      <th>10646</th>\n",
              "      <td>Podcast App: Free &amp; Offline Podcasts by Player FM</td>\n",
              "      <td>NEWS_AND_MAGAZINES</td>\n",
              "      <td>4.6</td>\n",
              "      <td>66407</td>\n",
              "      <td>19M</td>\n",
              "      <td>1,000,000+</td>\n",
              "      <td>Free</td>\n",
              "      <td>0</td>\n",
              "      <td>Teen</td>\n",
              "      <td>News &amp; Magazines</td>\n",
              "      <td>July 25, 2018</td>\n",
              "      <td>4.1.0.72</td>\n",
              "      <td>4.0 and up</td>\n",
              "    </tr>\n",
              "    <tr>\n",
              "      <th>10680</th>\n",
              "      <td>Fresh News</td>\n",
              "      <td>NEWS_AND_MAGAZINES</td>\n",
              "      <td>4.4</td>\n",
              "      <td>2207</td>\n",
              "      <td>9.8M</td>\n",
              "      <td>100,000+</td>\n",
              "      <td>Free</td>\n",
              "      <td>0</td>\n",
              "      <td>Everyone</td>\n",
              "      <td>News &amp; Magazines</td>\n",
              "      <td>July 26, 2018</td>\n",
              "      <td>41.0</td>\n",
              "      <td>4.1 and up</td>\n",
              "    </tr>\n",
              "    <tr>\n",
              "      <th>10762</th>\n",
              "      <td>The FP Shield</td>\n",
              "      <td>NEWS_AND_MAGAZINES</td>\n",
              "      <td>NaN</td>\n",
              "      <td>0</td>\n",
              "      <td>11M</td>\n",
              "      <td>10+</td>\n",
              "      <td>Free</td>\n",
              "      <td>0</td>\n",
              "      <td>Everyone</td>\n",
              "      <td>News &amp; Magazines</td>\n",
              "      <td>February 1, 2018</td>\n",
              "      <td>1.1.0</td>\n",
              "      <td>4.4 and up</td>\n",
              "    </tr>\n",
              "    <tr>\n",
              "      <th>10774</th>\n",
              "      <td>Miss FQ</td>\n",
              "      <td>NEWS_AND_MAGAZINES</td>\n",
              "      <td>NaN</td>\n",
              "      <td>0</td>\n",
              "      <td>36M</td>\n",
              "      <td>10+</td>\n",
              "      <td>Free</td>\n",
              "      <td>0</td>\n",
              "      <td>Everyone</td>\n",
              "      <td>News &amp; Magazines</td>\n",
              "      <td>April 5, 2018</td>\n",
              "      <td>3.8</td>\n",
              "      <td>4.4 and up</td>\n",
              "    </tr>\n",
              "    <tr>\n",
              "      <th>10830</th>\n",
              "      <td>News Minecraft.fr</td>\n",
              "      <td>NEWS_AND_MAGAZINES</td>\n",
              "      <td>3.8</td>\n",
              "      <td>881</td>\n",
              "      <td>2.3M</td>\n",
              "      <td>100,000+</td>\n",
              "      <td>Free</td>\n",
              "      <td>0</td>\n",
              "      <td>Everyone</td>\n",
              "      <td>News &amp; Magazines</td>\n",
              "      <td>January 20, 2014</td>\n",
              "      <td>1.5</td>\n",
              "      <td>1.6 and up</td>\n",
              "    </tr>\n",
              "  </tbody>\n",
              "</table>\n",
              "<p>283 rows × 13 columns</p>\n",
              "</div>"
            ],
            "text/plain": [
              "                                                     App  ...         Android Ver\n",
              "3715   Fox News – Breaking News, Live Video & News Al...  ...  Varies with device\n",
              "3716                      NEW - Read Newspaper, News 24h  ...  Varies with device\n",
              "3717                            BaBe + - Indonesian News  ...          4.0 and up\n",
              "3718                                          daily News  ...          4.1 and up\n",
              "3719                                            BBC News  ...  Varies with device\n",
              "...                                                  ...  ...                 ...\n",
              "10646  Podcast App: Free & Offline Podcasts by Player FM  ...          4.0 and up\n",
              "10680                                         Fresh News  ...          4.1 and up\n",
              "10762                                      The FP Shield  ...          4.4 and up\n",
              "10774                                            Miss FQ  ...          4.4 and up\n",
              "10830                                  News Minecraft.fr  ...          1.6 and up\n",
              "\n",
              "[283 rows x 13 columns]"
            ]
          },
          "metadata": {
            "tags": []
          },
          "execution_count": 149
        }
      ]
    },
    {
      "cell_type": "code",
      "metadata": {
        "colab": {
          "base_uri": "https://localhost:8080/"
        },
        "id": "97wgJ51BJ0fJ",
        "outputId": "3bcad1eb-529f-46e7-8440-1163d48598d6"
      },
      "source": [
        "play_store_df"
      ],
      "execution_count": 6,
      "outputs": [
        {
          "output_type": "execute_result",
          "data": {
            "text/plain": [
              "(10841, 13)"
            ]
          },
          "metadata": {
            "tags": []
          },
          "execution_count": 6
        }
      ]
    },
    {
      "cell_type": "code",
      "metadata": {
        "colab": {
          "base_uri": "https://localhost:8080/"
        },
        "id": "HukOtvSXG1_c",
        "outputId": "b55c05d7-d80f-41e0-9aa3-a23f19512432"
      },
      "source": [
        "play_store_df.info()"
      ],
      "execution_count": 7,
      "outputs": [
        {
          "output_type": "stream",
          "text": [
            "<class 'pandas.core.frame.DataFrame'>\n",
            "RangeIndex: 10841 entries, 0 to 10840\n",
            "Data columns (total 13 columns):\n",
            " #   Column          Non-Null Count  Dtype  \n",
            "---  ------          --------------  -----  \n",
            " 0   App             10841 non-null  object \n",
            " 1   Category        10841 non-null  object \n",
            " 2   Rating          9367 non-null   float64\n",
            " 3   Reviews         10841 non-null  object \n",
            " 4   Size            10841 non-null  object \n",
            " 5   Installs        10841 non-null  object \n",
            " 6   Type            10840 non-null  object \n",
            " 7   Price           10841 non-null  object \n",
            " 8   Content Rating  10840 non-null  object \n",
            " 9   Genres          10841 non-null  object \n",
            " 10  Last Updated    10841 non-null  object \n",
            " 11  Current Ver     10833 non-null  object \n",
            " 12  Android Ver     10838 non-null  object \n",
            "dtypes: float64(1), object(12)\n",
            "memory usage: 1.1+ MB\n"
          ],
          "name": "stdout"
        }
      ]
    },
    {
      "cell_type": "code",
      "metadata": {
        "colab": {
          "base_uri": "https://localhost:8080/",
          "height": 297
        },
        "id": "YGT0OOgHG2JL",
        "outputId": "f7b74e1e-face-4adc-fea4-b4b31b70302c"
      },
      "source": [
        "play_store_df.describe()"
      ],
      "execution_count": 8,
      "outputs": [
        {
          "output_type": "execute_result",
          "data": {
            "text/html": [
              "<div>\n",
              "<style scoped>\n",
              "    .dataframe tbody tr th:only-of-type {\n",
              "        vertical-align: middle;\n",
              "    }\n",
              "\n",
              "    .dataframe tbody tr th {\n",
              "        vertical-align: top;\n",
              "    }\n",
              "\n",
              "    .dataframe thead th {\n",
              "        text-align: right;\n",
              "    }\n",
              "</style>\n",
              "<table border=\"1\" class=\"dataframe\">\n",
              "  <thead>\n",
              "    <tr style=\"text-align: right;\">\n",
              "      <th></th>\n",
              "      <th>Rating</th>\n",
              "    </tr>\n",
              "  </thead>\n",
              "  <tbody>\n",
              "    <tr>\n",
              "      <th>count</th>\n",
              "      <td>9367.000000</td>\n",
              "    </tr>\n",
              "    <tr>\n",
              "      <th>mean</th>\n",
              "      <td>4.193338</td>\n",
              "    </tr>\n",
              "    <tr>\n",
              "      <th>std</th>\n",
              "      <td>0.537431</td>\n",
              "    </tr>\n",
              "    <tr>\n",
              "      <th>min</th>\n",
              "      <td>1.000000</td>\n",
              "    </tr>\n",
              "    <tr>\n",
              "      <th>25%</th>\n",
              "      <td>4.000000</td>\n",
              "    </tr>\n",
              "    <tr>\n",
              "      <th>50%</th>\n",
              "      <td>4.300000</td>\n",
              "    </tr>\n",
              "    <tr>\n",
              "      <th>75%</th>\n",
              "      <td>4.500000</td>\n",
              "    </tr>\n",
              "    <tr>\n",
              "      <th>max</th>\n",
              "      <td>19.000000</td>\n",
              "    </tr>\n",
              "  </tbody>\n",
              "</table>\n",
              "</div>"
            ],
            "text/plain": [
              "            Rating\n",
              "count  9367.000000\n",
              "mean      4.193338\n",
              "std       0.537431\n",
              "min       1.000000\n",
              "25%       4.000000\n",
              "50%       4.300000\n",
              "75%       4.500000\n",
              "max      19.000000"
            ]
          },
          "metadata": {
            "tags": []
          },
          "execution_count": 8
        }
      ]
    },
    {
      "cell_type": "code",
      "metadata": {
        "colab": {
          "base_uri": "https://localhost:8080/",
          "height": 114
        },
        "id": "LgLsGs3zG2Q2",
        "outputId": "93df6e97-ee91-48ee-a919-22159186c3c6"
      },
      "source": [
        "play_store_df[play_store_df['Rating']>5]"
      ],
      "execution_count": 9,
      "outputs": [
        {
          "output_type": "execute_result",
          "data": {
            "text/html": [
              "<div>\n",
              "<style scoped>\n",
              "    .dataframe tbody tr th:only-of-type {\n",
              "        vertical-align: middle;\n",
              "    }\n",
              "\n",
              "    .dataframe tbody tr th {\n",
              "        vertical-align: top;\n",
              "    }\n",
              "\n",
              "    .dataframe thead th {\n",
              "        text-align: right;\n",
              "    }\n",
              "</style>\n",
              "<table border=\"1\" class=\"dataframe\">\n",
              "  <thead>\n",
              "    <tr style=\"text-align: right;\">\n",
              "      <th></th>\n",
              "      <th>App</th>\n",
              "      <th>Category</th>\n",
              "      <th>Rating</th>\n",
              "      <th>Reviews</th>\n",
              "      <th>Size</th>\n",
              "      <th>Installs</th>\n",
              "      <th>Type</th>\n",
              "      <th>Price</th>\n",
              "      <th>Content Rating</th>\n",
              "      <th>Genres</th>\n",
              "      <th>Last Updated</th>\n",
              "      <th>Current Ver</th>\n",
              "      <th>Android Ver</th>\n",
              "    </tr>\n",
              "  </thead>\n",
              "  <tbody>\n",
              "    <tr>\n",
              "      <th>10472</th>\n",
              "      <td>Life Made WI-Fi Touchscreen Photo Frame</td>\n",
              "      <td>1.9</td>\n",
              "      <td>19.0</td>\n",
              "      <td>3.0M</td>\n",
              "      <td>1,000+</td>\n",
              "      <td>Free</td>\n",
              "      <td>0</td>\n",
              "      <td>Everyone</td>\n",
              "      <td>NaN</td>\n",
              "      <td>February 11, 2018</td>\n",
              "      <td>1.0.19</td>\n",
              "      <td>4.0 and up</td>\n",
              "      <td>NaN</td>\n",
              "    </tr>\n",
              "  </tbody>\n",
              "</table>\n",
              "</div>"
            ],
            "text/plain": [
              "                                           App Category  ...  Current Ver Android Ver\n",
              "10472  Life Made WI-Fi Touchscreen Photo Frame      1.9  ...   4.0 and up         NaN\n",
              "\n",
              "[1 rows x 13 columns]"
            ]
          },
          "metadata": {
            "tags": []
          },
          "execution_count": 9
        }
      ]
    },
    {
      "cell_type": "code",
      "metadata": {
        "colab": {
          "base_uri": "https://localhost:8080/"
        },
        "id": "4g5wbEnMG2X_",
        "outputId": "e16b4c18-c406-4bb0-cbed-a151d21a1aef"
      },
      "source": [
        "len(list(play_store_df['App'].unique()))"
      ],
      "execution_count": 10,
      "outputs": [
        {
          "output_type": "execute_result",
          "data": {
            "text/plain": [
              "9660"
            ]
          },
          "metadata": {
            "tags": []
          },
          "execution_count": 10
        }
      ]
    },
    {
      "cell_type": "markdown",
      "metadata": {
        "id": "rVohT6XBdG_N"
      },
      "source": [
        "### Remove duplicates"
      ]
    },
    {
      "cell_type": "code",
      "metadata": {
        "id": "yM9R2mj1b4r9"
      },
      "source": [
        "play_store = play_store_df.copy()"
      ],
      "execution_count": 11,
      "outputs": []
    },
    {
      "cell_type": "code",
      "metadata": {
        "id": "8kYkkN3BG2ba"
      },
      "source": [
        "play_store.drop_duplicates(subset =\"App\", keep = 'last', inplace = True) "
      ],
      "execution_count": 12,
      "outputs": []
    },
    {
      "cell_type": "code",
      "metadata": {
        "colab": {
          "base_uri": "https://localhost:8080/"
        },
        "id": "JKjXQPA7G2kq",
        "outputId": "1253c46b-5178-4494-bc97-5c84acc65dd5"
      },
      "source": [
        "play_store.shape"
      ],
      "execution_count": 13,
      "outputs": [
        {
          "output_type": "execute_result",
          "data": {
            "text/plain": [
              "(9660, 13)"
            ]
          },
          "metadata": {
            "tags": []
          },
          "execution_count": 13
        }
      ]
    },
    {
      "cell_type": "code",
      "metadata": {
        "colab": {
          "base_uri": "https://localhost:8080/"
        },
        "id": "K4t14oRZG2nc",
        "outputId": "e18b2612-634f-4591-b93e-9c41f7e9ec48"
      },
      "source": [
        "play_store.info()"
      ],
      "execution_count": 14,
      "outputs": [
        {
          "output_type": "stream",
          "text": [
            "<class 'pandas.core.frame.DataFrame'>\n",
            "Int64Index: 9660 entries, 0 to 10840\n",
            "Data columns (total 13 columns):\n",
            " #   Column          Non-Null Count  Dtype  \n",
            "---  ------          --------------  -----  \n",
            " 0   App             9660 non-null   object \n",
            " 1   Category        9660 non-null   object \n",
            " 2   Rating          8197 non-null   float64\n",
            " 3   Reviews         9660 non-null   object \n",
            " 4   Size            9660 non-null   object \n",
            " 5   Installs        9660 non-null   object \n",
            " 6   Type            9659 non-null   object \n",
            " 7   Price           9660 non-null   object \n",
            " 8   Content Rating  9659 non-null   object \n",
            " 9   Genres          9660 non-null   object \n",
            " 10  Last Updated    9660 non-null   object \n",
            " 11  Current Ver     9652 non-null   object \n",
            " 12  Android Ver     9657 non-null   object \n",
            "dtypes: float64(1), object(12)\n",
            "memory usage: 1.0+ MB\n"
          ],
          "name": "stdout"
        }
      ]
    },
    {
      "cell_type": "code",
      "metadata": {
        "colab": {
          "base_uri": "https://localhost:8080/"
        },
        "id": "_xzyynwFdnAC",
        "outputId": "c1154dd6-cc0f-48d5-d954-3f7f9077c98c"
      },
      "source": [
        "play_store['Rating'].median()"
      ],
      "execution_count": 15,
      "outputs": [
        {
          "output_type": "execute_result",
          "data": {
            "text/plain": [
              "4.3"
            ]
          },
          "metadata": {
            "tags": []
          },
          "execution_count": 15
        }
      ]
    },
    {
      "cell_type": "code",
      "metadata": {
        "colab": {
          "base_uri": "https://localhost:8080/",
          "height": 555
        },
        "id": "qyzZu65VG2uJ",
        "outputId": "f5dc63fa-4ba8-4159-bb9e-97ef2808ca10"
      },
      "source": [
        "play_store[play_store['Rating'].isna()]"
      ],
      "execution_count": 16,
      "outputs": [
        {
          "output_type": "execute_result",
          "data": {
            "text/html": [
              "<div>\n",
              "<style scoped>\n",
              "    .dataframe tbody tr th:only-of-type {\n",
              "        vertical-align: middle;\n",
              "    }\n",
              "\n",
              "    .dataframe tbody tr th {\n",
              "        vertical-align: top;\n",
              "    }\n",
              "\n",
              "    .dataframe thead th {\n",
              "        text-align: right;\n",
              "    }\n",
              "</style>\n",
              "<table border=\"1\" class=\"dataframe\">\n",
              "  <thead>\n",
              "    <tr style=\"text-align: right;\">\n",
              "      <th></th>\n",
              "      <th>App</th>\n",
              "      <th>Category</th>\n",
              "      <th>Rating</th>\n",
              "      <th>Reviews</th>\n",
              "      <th>Size</th>\n",
              "      <th>Installs</th>\n",
              "      <th>Type</th>\n",
              "      <th>Price</th>\n",
              "      <th>Content Rating</th>\n",
              "      <th>Genres</th>\n",
              "      <th>Last Updated</th>\n",
              "      <th>Current Ver</th>\n",
              "      <th>Android Ver</th>\n",
              "    </tr>\n",
              "  </thead>\n",
              "  <tbody>\n",
              "    <tr>\n",
              "      <th>113</th>\n",
              "      <td>Wrinkles and rejuvenation</td>\n",
              "      <td>BEAUTY</td>\n",
              "      <td>NaN</td>\n",
              "      <td>182</td>\n",
              "      <td>5.7M</td>\n",
              "      <td>100,000+</td>\n",
              "      <td>Free</td>\n",
              "      <td>0</td>\n",
              "      <td>Everyone 10+</td>\n",
              "      <td>Beauty</td>\n",
              "      <td>September 20, 2017</td>\n",
              "      <td>8.0</td>\n",
              "      <td>3.0 and up</td>\n",
              "    </tr>\n",
              "    <tr>\n",
              "      <th>123</th>\n",
              "      <td>Manicure - nail design</td>\n",
              "      <td>BEAUTY</td>\n",
              "      <td>NaN</td>\n",
              "      <td>119</td>\n",
              "      <td>3.7M</td>\n",
              "      <td>50,000+</td>\n",
              "      <td>Free</td>\n",
              "      <td>0</td>\n",
              "      <td>Everyone</td>\n",
              "      <td>Beauty</td>\n",
              "      <td>July 23, 2018</td>\n",
              "      <td>1.3</td>\n",
              "      <td>4.1 and up</td>\n",
              "    </tr>\n",
              "    <tr>\n",
              "      <th>126</th>\n",
              "      <td>Skin Care and Natural Beauty</td>\n",
              "      <td>BEAUTY</td>\n",
              "      <td>NaN</td>\n",
              "      <td>654</td>\n",
              "      <td>7.4M</td>\n",
              "      <td>100,000+</td>\n",
              "      <td>Free</td>\n",
              "      <td>0</td>\n",
              "      <td>Teen</td>\n",
              "      <td>Beauty</td>\n",
              "      <td>July 17, 2018</td>\n",
              "      <td>1.15</td>\n",
              "      <td>4.1 and up</td>\n",
              "    </tr>\n",
              "    <tr>\n",
              "      <th>129</th>\n",
              "      <td>Secrets of beauty, youth and health</td>\n",
              "      <td>BEAUTY</td>\n",
              "      <td>NaN</td>\n",
              "      <td>77</td>\n",
              "      <td>2.9M</td>\n",
              "      <td>10,000+</td>\n",
              "      <td>Free</td>\n",
              "      <td>0</td>\n",
              "      <td>Mature 17+</td>\n",
              "      <td>Beauty</td>\n",
              "      <td>August 8, 2017</td>\n",
              "      <td>2.0</td>\n",
              "      <td>2.3 and up</td>\n",
              "    </tr>\n",
              "    <tr>\n",
              "      <th>130</th>\n",
              "      <td>Recipes and tips for losing weight</td>\n",
              "      <td>BEAUTY</td>\n",
              "      <td>NaN</td>\n",
              "      <td>35</td>\n",
              "      <td>3.1M</td>\n",
              "      <td>10,000+</td>\n",
              "      <td>Free</td>\n",
              "      <td>0</td>\n",
              "      <td>Everyone 10+</td>\n",
              "      <td>Beauty</td>\n",
              "      <td>December 11, 2017</td>\n",
              "      <td>2.0</td>\n",
              "      <td>3.0 and up</td>\n",
              "    </tr>\n",
              "    <tr>\n",
              "      <th>...</th>\n",
              "      <td>...</td>\n",
              "      <td>...</td>\n",
              "      <td>...</td>\n",
              "      <td>...</td>\n",
              "      <td>...</td>\n",
              "      <td>...</td>\n",
              "      <td>...</td>\n",
              "      <td>...</td>\n",
              "      <td>...</td>\n",
              "      <td>...</td>\n",
              "      <td>...</td>\n",
              "      <td>...</td>\n",
              "      <td>...</td>\n",
              "    </tr>\n",
              "    <tr>\n",
              "      <th>10824</th>\n",
              "      <td>Cardio-FR</td>\n",
              "      <td>MEDICAL</td>\n",
              "      <td>NaN</td>\n",
              "      <td>67</td>\n",
              "      <td>82M</td>\n",
              "      <td>10,000+</td>\n",
              "      <td>Free</td>\n",
              "      <td>0</td>\n",
              "      <td>Everyone</td>\n",
              "      <td>Medical</td>\n",
              "      <td>July 31, 2018</td>\n",
              "      <td>2.2.2</td>\n",
              "      <td>4.4 and up</td>\n",
              "    </tr>\n",
              "    <tr>\n",
              "      <th>10825</th>\n",
              "      <td>Naruto &amp; Boruto FR</td>\n",
              "      <td>SOCIAL</td>\n",
              "      <td>NaN</td>\n",
              "      <td>7</td>\n",
              "      <td>7.7M</td>\n",
              "      <td>100+</td>\n",
              "      <td>Free</td>\n",
              "      <td>0</td>\n",
              "      <td>Teen</td>\n",
              "      <td>Social</td>\n",
              "      <td>February 2, 2018</td>\n",
              "      <td>1.0</td>\n",
              "      <td>4.0 and up</td>\n",
              "    </tr>\n",
              "    <tr>\n",
              "      <th>10831</th>\n",
              "      <td>payermonstationnement.fr</td>\n",
              "      <td>MAPS_AND_NAVIGATION</td>\n",
              "      <td>NaN</td>\n",
              "      <td>38</td>\n",
              "      <td>9.8M</td>\n",
              "      <td>5,000+</td>\n",
              "      <td>Free</td>\n",
              "      <td>0</td>\n",
              "      <td>Everyone</td>\n",
              "      <td>Maps &amp; Navigation</td>\n",
              "      <td>June 13, 2018</td>\n",
              "      <td>2.0.148.0</td>\n",
              "      <td>4.0 and up</td>\n",
              "    </tr>\n",
              "    <tr>\n",
              "      <th>10835</th>\n",
              "      <td>FR Forms</td>\n",
              "      <td>BUSINESS</td>\n",
              "      <td>NaN</td>\n",
              "      <td>0</td>\n",
              "      <td>9.6M</td>\n",
              "      <td>10+</td>\n",
              "      <td>Free</td>\n",
              "      <td>0</td>\n",
              "      <td>Everyone</td>\n",
              "      <td>Business</td>\n",
              "      <td>September 29, 2016</td>\n",
              "      <td>1.1.5</td>\n",
              "      <td>4.0 and up</td>\n",
              "    </tr>\n",
              "    <tr>\n",
              "      <th>10838</th>\n",
              "      <td>Parkinson Exercices FR</td>\n",
              "      <td>MEDICAL</td>\n",
              "      <td>NaN</td>\n",
              "      <td>3</td>\n",
              "      <td>9.5M</td>\n",
              "      <td>1,000+</td>\n",
              "      <td>Free</td>\n",
              "      <td>0</td>\n",
              "      <td>Everyone</td>\n",
              "      <td>Medical</td>\n",
              "      <td>January 20, 2017</td>\n",
              "      <td>1.0</td>\n",
              "      <td>2.2 and up</td>\n",
              "    </tr>\n",
              "  </tbody>\n",
              "</table>\n",
              "<p>1463 rows × 13 columns</p>\n",
              "</div>"
            ],
            "text/plain": [
              "                                       App  ... Android Ver\n",
              "113              Wrinkles and rejuvenation  ...  3.0 and up\n",
              "123                 Manicure - nail design  ...  4.1 and up\n",
              "126           Skin Care and Natural Beauty  ...  4.1 and up\n",
              "129    Secrets of beauty, youth and health  ...  2.3 and up\n",
              "130     Recipes and tips for losing weight  ...  3.0 and up\n",
              "...                                    ...  ...         ...\n",
              "10824                            Cardio-FR  ...  4.4 and up\n",
              "10825                   Naruto & Boruto FR  ...  4.0 and up\n",
              "10831             payermonstationnement.fr  ...  4.0 and up\n",
              "10835                             FR Forms  ...  4.0 and up\n",
              "10838               Parkinson Exercices FR  ...  2.2 and up\n",
              "\n",
              "[1463 rows x 13 columns]"
            ]
          },
          "metadata": {
            "tags": []
          },
          "execution_count": 16
        }
      ]
    },
    {
      "cell_type": "code",
      "metadata": {
        "id": "zFpQFJg4G2xm"
      },
      "source": [
        "# Replace NaN values and the oulier values of Rating with the mean values\n",
        "play_store['Rating'] = play_store['Rating'].fillna(play_store['Rating'].median())\n"
      ],
      "execution_count": 17,
      "outputs": []
    },
    {
      "cell_type": "code",
      "metadata": {
        "id": "Ph8HgLeBlnng"
      },
      "source": [
        "play_store = play_store.drop(10472)"
      ],
      "execution_count": 18,
      "outputs": []
    },
    {
      "cell_type": "code",
      "metadata": {
        "colab": {
          "base_uri": "https://localhost:8080/"
        },
        "id": "6At-akEmG21r",
        "outputId": "c6289150-f638-4695-e634-b6d9cd4db582"
      },
      "source": [
        "play_store.info()"
      ],
      "execution_count": 19,
      "outputs": [
        {
          "output_type": "stream",
          "text": [
            "<class 'pandas.core.frame.DataFrame'>\n",
            "Int64Index: 9659 entries, 0 to 10840\n",
            "Data columns (total 13 columns):\n",
            " #   Column          Non-Null Count  Dtype  \n",
            "---  ------          --------------  -----  \n",
            " 0   App             9659 non-null   object \n",
            " 1   Category        9659 non-null   object \n",
            " 2   Rating          9659 non-null   float64\n",
            " 3   Reviews         9659 non-null   object \n",
            " 4   Size            9659 non-null   object \n",
            " 5   Installs        9659 non-null   object \n",
            " 6   Type            9658 non-null   object \n",
            " 7   Price           9659 non-null   object \n",
            " 8   Content Rating  9659 non-null   object \n",
            " 9   Genres          9659 non-null   object \n",
            " 10  Last Updated    9659 non-null   object \n",
            " 11  Current Ver     9651 non-null   object \n",
            " 12  Android Ver     9657 non-null   object \n",
            "dtypes: float64(1), object(12)\n",
            "memory usage: 1.0+ MB\n"
          ],
          "name": "stdout"
        }
      ]
    },
    {
      "cell_type": "code",
      "metadata": {
        "colab": {
          "base_uri": "https://localhost:8080/"
        },
        "id": "tUW_cIfit-U9",
        "outputId": "8e1018f6-ff11-44f5-916e-ee98c49bb293"
      },
      "source": [
        "list(play_store['Size'].unique())"
      ],
      "execution_count": 20,
      "outputs": [
        {
          "output_type": "execute_result",
          "data": {
            "text/plain": [
              "['19M',\n",
              " '8.7M',\n",
              " '25M',\n",
              " '2.8M',\n",
              " '5.6M',\n",
              " '29M',\n",
              " '33M',\n",
              " '3.1M',\n",
              " '28M',\n",
              " '12M',\n",
              " '20M',\n",
              " '21M',\n",
              " '37M',\n",
              " '2.7M',\n",
              " '5.5M',\n",
              " '17M',\n",
              " '39M',\n",
              " '31M',\n",
              " '14M',\n",
              " '4.2M',\n",
              " '23M',\n",
              " '6.0M',\n",
              " '6.1M',\n",
              " '4.6M',\n",
              " '9.2M',\n",
              " '5.2M',\n",
              " '11M',\n",
              " 'Varies with device',\n",
              " '9.4M',\n",
              " '15M',\n",
              " '10M',\n",
              " '1.2M',\n",
              " '24M',\n",
              " '26M',\n",
              " '8.0M',\n",
              " '7.9M',\n",
              " '56M',\n",
              " '57M',\n",
              " '35M',\n",
              " '54M',\n",
              " '201k',\n",
              " '3.6M',\n",
              " '5.7M',\n",
              " '8.6M',\n",
              " '2.4M',\n",
              " '27M',\n",
              " '2.5M',\n",
              " '7.0M',\n",
              " '16M',\n",
              " '3.4M',\n",
              " '8.9M',\n",
              " '3.9M',\n",
              " '2.9M',\n",
              " '38M',\n",
              " '32M',\n",
              " '5.4M',\n",
              " '18M',\n",
              " '1.1M',\n",
              " '2.2M',\n",
              " '4.5M',\n",
              " '9.8M',\n",
              " '52M',\n",
              " '9.0M',\n",
              " '6.7M',\n",
              " '30M',\n",
              " '2.6M',\n",
              " '7.1M',\n",
              " '3.7M',\n",
              " '22M',\n",
              " '7.4M',\n",
              " '6.4M',\n",
              " '3.2M',\n",
              " '8.2M',\n",
              " '9.9M',\n",
              " '4.9M',\n",
              " '9.5M',\n",
              " '5.0M',\n",
              " '5.9M',\n",
              " '13M',\n",
              " '73M',\n",
              " '6.8M',\n",
              " '3.5M',\n",
              " '4.0M',\n",
              " '2.3M',\n",
              " '7.2M',\n",
              " '2.1M',\n",
              " '42M',\n",
              " '7.3M',\n",
              " '9.1M',\n",
              " '55M',\n",
              " '23k',\n",
              " '6.5M',\n",
              " '1.5M',\n",
              " '7.5M',\n",
              " '46M',\n",
              " '51M',\n",
              " '48M',\n",
              " '8.5M',\n",
              " '41M',\n",
              " '8.3M',\n",
              " '4.3M',\n",
              " '4.7M',\n",
              " '3.3M',\n",
              " '40M',\n",
              " '7.8M',\n",
              " '8.8M',\n",
              " '6.6M',\n",
              " '5.1M',\n",
              " '61M',\n",
              " '8.4M',\n",
              " '118k',\n",
              " '44M',\n",
              " '695k',\n",
              " '1.6M',\n",
              " '18k',\n",
              " '53M',\n",
              " '6.2M',\n",
              " '3.0M',\n",
              " '5.8M',\n",
              " '3.8M',\n",
              " '9.6M',\n",
              " '45M',\n",
              " '63M',\n",
              " '49M',\n",
              " '4.4M',\n",
              " '70M',\n",
              " '6.9M',\n",
              " '9.3M',\n",
              " '10.0M',\n",
              " '8.1M',\n",
              " '4.8M',\n",
              " '36M',\n",
              " '77M',\n",
              " '84M',\n",
              " '97M',\n",
              " '2.0M',\n",
              " '1.9M',\n",
              " '1.8M',\n",
              " '5.3M',\n",
              " '47M',\n",
              " '556k',\n",
              " '526k',\n",
              " '7.6M',\n",
              " '76M',\n",
              " '9.7M',\n",
              " '78M',\n",
              " '72M',\n",
              " '43M',\n",
              " '7.7M',\n",
              " '6.3M',\n",
              " '334k',\n",
              " '1.4M',\n",
              " '34M',\n",
              " '93M',\n",
              " '65M',\n",
              " '100M',\n",
              " '50M',\n",
              " '68M',\n",
              " '79M',\n",
              " '64M',\n",
              " '67M',\n",
              " '94M',\n",
              " '59M',\n",
              " '60M',\n",
              " '58M',\n",
              " '232k',\n",
              " '99M',\n",
              " '624k',\n",
              " '95M',\n",
              " '8.5k',\n",
              " '41k',\n",
              " '292k',\n",
              " '11k',\n",
              " '80M',\n",
              " '1.7M',\n",
              " '69M',\n",
              " '71M',\n",
              " '62M',\n",
              " '98M',\n",
              " '85M',\n",
              " '86M',\n",
              " '82M',\n",
              " '81M',\n",
              " '96M',\n",
              " '91M',\n",
              " '83M',\n",
              " '87M',\n",
              " '66M',\n",
              " '75M',\n",
              " '92M',\n",
              " '862k',\n",
              " '899k',\n",
              " '378k',\n",
              " '266k',\n",
              " '375k',\n",
              " '74M',\n",
              " '1.3M',\n",
              " '975k',\n",
              " '980k',\n",
              " '4.1M',\n",
              " '89M',\n",
              " '88M',\n",
              " '696k',\n",
              " '544k',\n",
              " '525k',\n",
              " '920k',\n",
              " '779k',\n",
              " '853k',\n",
              " '720k',\n",
              " '713k',\n",
              " '772k',\n",
              " '318k',\n",
              " '58k',\n",
              " '241k',\n",
              " '196k',\n",
              " '857k',\n",
              " '51k',\n",
              " '953k',\n",
              " '865k',\n",
              " '251k',\n",
              " '930k',\n",
              " '540k',\n",
              " '313k',\n",
              " '746k',\n",
              " '203k',\n",
              " '26k',\n",
              " '314k',\n",
              " '79k',\n",
              " '239k',\n",
              " '371k',\n",
              " '220k',\n",
              " '730k',\n",
              " '756k',\n",
              " '91k',\n",
              " '293k',\n",
              " '17k',\n",
              " '74k',\n",
              " '14k',\n",
              " '317k',\n",
              " '78k',\n",
              " '924k',\n",
              " '902k',\n",
              " '818k',\n",
              " '81k',\n",
              " '939k',\n",
              " '169k',\n",
              " '45k',\n",
              " '475k',\n",
              " '965k',\n",
              " '90M',\n",
              " '545k',\n",
              " '61k',\n",
              " '283k',\n",
              " '655k',\n",
              " '714k',\n",
              " '93k',\n",
              " '872k',\n",
              " '121k',\n",
              " '322k',\n",
              " '1.0M',\n",
              " '976k',\n",
              " '172k',\n",
              " '238k',\n",
              " '549k',\n",
              " '206k',\n",
              " '954k',\n",
              " '444k',\n",
              " '717k',\n",
              " '210k',\n",
              " '609k',\n",
              " '308k',\n",
              " '705k',\n",
              " '306k',\n",
              " '904k',\n",
              " '473k',\n",
              " '175k',\n",
              " '350k',\n",
              " '383k',\n",
              " '454k',\n",
              " '421k',\n",
              " '70k',\n",
              " '812k',\n",
              " '442k',\n",
              " '842k',\n",
              " '417k',\n",
              " '412k',\n",
              " '459k',\n",
              " '478k',\n",
              " '335k',\n",
              " '782k',\n",
              " '721k',\n",
              " '430k',\n",
              " '429k',\n",
              " '192k',\n",
              " '200k',\n",
              " '460k',\n",
              " '728k',\n",
              " '496k',\n",
              " '816k',\n",
              " '414k',\n",
              " '506k',\n",
              " '704k',\n",
              " '887k',\n",
              " '613k',\n",
              " '243k',\n",
              " '569k',\n",
              " '778k',\n",
              " '683k',\n",
              " '592k',\n",
              " '319k',\n",
              " '186k',\n",
              " '840k',\n",
              " '647k',\n",
              " '191k',\n",
              " '373k',\n",
              " '437k',\n",
              " '598k',\n",
              " '716k',\n",
              " '585k',\n",
              " '982k',\n",
              " '222k',\n",
              " '219k',\n",
              " '55k',\n",
              " '948k',\n",
              " '323k',\n",
              " '691k',\n",
              " '511k',\n",
              " '951k',\n",
              " '963k',\n",
              " '25k',\n",
              " '554k',\n",
              " '351k',\n",
              " '27k',\n",
              " '82k',\n",
              " '208k',\n",
              " '913k',\n",
              " '514k',\n",
              " '551k',\n",
              " '29k',\n",
              " '103k',\n",
              " '898k',\n",
              " '743k',\n",
              " '116k',\n",
              " '153k',\n",
              " '209k',\n",
              " '353k',\n",
              " '499k',\n",
              " '173k',\n",
              " '597k',\n",
              " '809k',\n",
              " '122k',\n",
              " '411k',\n",
              " '400k',\n",
              " '801k',\n",
              " '787k',\n",
              " '237k',\n",
              " '50k',\n",
              " '643k',\n",
              " '986k',\n",
              " '97k',\n",
              " '516k',\n",
              " '837k',\n",
              " '780k',\n",
              " '961k',\n",
              " '269k',\n",
              " '20k',\n",
              " '498k',\n",
              " '600k',\n",
              " '749k',\n",
              " '642k',\n",
              " '881k',\n",
              " '72k',\n",
              " '656k',\n",
              " '601k',\n",
              " '221k',\n",
              " '228k',\n",
              " '108k',\n",
              " '940k',\n",
              " '176k',\n",
              " '33k',\n",
              " '663k',\n",
              " '34k',\n",
              " '942k',\n",
              " '259k',\n",
              " '164k',\n",
              " '458k',\n",
              " '245k',\n",
              " '629k',\n",
              " '28k',\n",
              " '288k',\n",
              " '775k',\n",
              " '785k',\n",
              " '636k',\n",
              " '916k',\n",
              " '994k',\n",
              " '309k',\n",
              " '485k',\n",
              " '914k',\n",
              " '903k',\n",
              " '608k',\n",
              " '500k',\n",
              " '54k',\n",
              " '562k',\n",
              " '847k',\n",
              " '957k',\n",
              " '688k',\n",
              " '811k',\n",
              " '270k',\n",
              " '48k',\n",
              " '329k',\n",
              " '523k',\n",
              " '921k',\n",
              " '874k',\n",
              " '981k',\n",
              " '784k',\n",
              " '280k',\n",
              " '24k',\n",
              " '518k',\n",
              " '754k',\n",
              " '892k',\n",
              " '154k',\n",
              " '860k',\n",
              " '364k',\n",
              " '387k',\n",
              " '626k',\n",
              " '161k',\n",
              " '879k',\n",
              " '39k',\n",
              " '970k',\n",
              " '170k',\n",
              " '141k',\n",
              " '160k',\n",
              " '144k',\n",
              " '143k',\n",
              " '190k',\n",
              " '376k',\n",
              " '193k',\n",
              " '246k',\n",
              " '73k',\n",
              " '658k',\n",
              " '992k',\n",
              " '253k',\n",
              " '420k',\n",
              " '404k',\n",
              " '470k',\n",
              " '226k',\n",
              " '240k',\n",
              " '89k',\n",
              " '234k',\n",
              " '257k',\n",
              " '861k',\n",
              " '467k',\n",
              " '157k',\n",
              " '44k',\n",
              " '676k',\n",
              " '67k',\n",
              " '552k',\n",
              " '885k',\n",
              " '1020k',\n",
              " '582k',\n",
              " '619k']"
            ]
          },
          "metadata": {
            "tags": []
          },
          "execution_count": 20
        }
      ]
    },
    {
      "cell_type": "code",
      "metadata": {
        "colab": {
          "base_uri": "https://localhost:8080/"
        },
        "id": "xaqBpURRt-hz",
        "outputId": "9e74a4d9-104b-4240-cbea-eca7120e26b2"
      },
      "source": [
        "play_store['Installs'].value_counts()"
      ],
      "execution_count": 21,
      "outputs": [
        {
          "output_type": "execute_result",
          "data": {
            "text/plain": [
              "1,000,000+        1419\n",
              "100,000+          1114\n",
              "10,000+           1031\n",
              "10,000,000+        933\n",
              "1,000+             887\n",
              "100+               709\n",
              "5,000,000+         607\n",
              "500,000+           504\n",
              "50,000+            469\n",
              "5,000+             468\n",
              "10+                385\n",
              "500+               328\n",
              "50,000,000+        204\n",
              "50+                204\n",
              "100,000,000+       189\n",
              "5+                  82\n",
              "1+                  67\n",
              "500,000,000+        24\n",
              "1,000,000,000+      20\n",
              "0+                  14\n",
              "0                    1\n",
              "Name: Installs, dtype: int64"
            ]
          },
          "metadata": {
            "tags": []
          },
          "execution_count": 21
        }
      ]
    },
    {
      "cell_type": "code",
      "metadata": {
        "id": "GAU5qJw_t-tE"
      },
      "source": [
        ""
      ],
      "execution_count": 21,
      "outputs": []
    },
    {
      "cell_type": "code",
      "metadata": {
        "id": "DW-td-1gt-42"
      },
      "source": [
        ""
      ],
      "execution_count": 21,
      "outputs": []
    },
    {
      "cell_type": "code",
      "metadata": {
        "id": "6kSi-HgBt_FT"
      },
      "source": [
        ""
      ],
      "execution_count": 21,
      "outputs": []
    },
    {
      "cell_type": "code",
      "metadata": {
        "id": "iLWlv-2oG3q7"
      },
      "source": [
        "def convert_to_float(value):\n",
        "\n",
        "  ''' Returns evaluated value '''\n",
        "  return eval(value)\n"
      ],
      "execution_count": 22,
      "outputs": []
    },
    {
      "cell_type": "code",
      "metadata": {
        "id": "8f2pBfBcsfuH"
      },
      "source": [
        "# Changing the Reviews column to float type\n",
        "play_store['Reviews'] = play_store['Reviews'].apply(convert_to_float)\n"
      ],
      "execution_count": 23,
      "outputs": []
    },
    {
      "cell_type": "code",
      "metadata": {
        "id": "UW1FcZlwsgBD"
      },
      "source": [
        ""
      ],
      "execution_count": 23,
      "outputs": []
    },
    {
      "cell_type": "code",
      "metadata": {
        "id": "qipU9AkxG3wj"
      },
      "source": [
        "def convert_size_value(value):\n",
        "\n",
        "  ''' Converting KB to MB and giving out the result'''\n",
        "\n",
        "  if (value[-1]=='M'):\n",
        "    val = value[0:-1]  \n",
        "    return eval(val)\n",
        "\n",
        "  elif (value[-1]=='k'):\n",
        "    val = value[0:-1]\n",
        "    return (eval(val))/1000\n",
        "\n",
        "  else:\n",
        "    return 0\n"
      ],
      "execution_count": 24,
      "outputs": []
    },
    {
      "cell_type": "code",
      "metadata": {
        "id": "bEy14VMtG31I"
      },
      "source": [
        "# Formatting of Size data\n",
        "play_store['Size'] = play_store['Size'].apply(convert_size_value)\n",
        "play_store.loc[play_store['Size']==0,'Size'] = play_store.loc[play_store['Size']>0,'Size'].median() \n"
      ],
      "execution_count": 25,
      "outputs": []
    },
    {
      "cell_type": "code",
      "metadata": {
        "id": "DNjBOIOH3oG_"
      },
      "source": [
        "# Formatting of Installs data\n",
        "play_store.Installs = play_store.Installs.apply(lambda x: x.strip('+'))\n",
        "play_store.Installs = play_store.Installs.apply(lambda x: x.replace(',',''))\n"
      ],
      "execution_count": 26,
      "outputs": []
    },
    {
      "cell_type": "code",
      "metadata": {
        "id": "pfWEdYRVG4D0"
      },
      "source": [
        "play_store['Installs'] = play_store['Installs'].apply(convert_to_float)\n"
      ],
      "execution_count": 27,
      "outputs": []
    },
    {
      "cell_type": "code",
      "metadata": {
        "colab": {
          "base_uri": "https://localhost:8080/"
        },
        "id": "R_T6UcGrG4Kl",
        "outputId": "bd2e6d10-67d3-4153-8f26-0b098bc468a3"
      },
      "source": [
        "play_store['Installs'].value_counts()"
      ],
      "execution_count": 28,
      "outputs": [
        {
          "output_type": "execute_result",
          "data": {
            "text/plain": [
              "1000000       1419\n",
              "100000        1114\n",
              "10000         1031\n",
              "10000000       933\n",
              "1000           887\n",
              "100            709\n",
              "5000000        607\n",
              "500000         504\n",
              "50000          469\n",
              "5000           468\n",
              "10             385\n",
              "500            328\n",
              "50000000       204\n",
              "50             204\n",
              "100000000      189\n",
              "5               82\n",
              "1               67\n",
              "500000000       24\n",
              "1000000000      20\n",
              "0               15\n",
              "Name: Installs, dtype: int64"
            ]
          },
          "metadata": {
            "tags": []
          },
          "execution_count": 28
        }
      ]
    },
    {
      "cell_type": "code",
      "metadata": {
        "colab": {
          "base_uri": "https://localhost:8080/",
          "height": 297
        },
        "id": "vt0-ZF0rG4P7",
        "outputId": "9e49e10d-ca8b-4f56-8389-4c1e6c6bbabc"
      },
      "source": [
        "play_store.describe()"
      ],
      "execution_count": 29,
      "outputs": [
        {
          "output_type": "execute_result",
          "data": {
            "text/html": [
              "<div>\n",
              "<style scoped>\n",
              "    .dataframe tbody tr th:only-of-type {\n",
              "        vertical-align: middle;\n",
              "    }\n",
              "\n",
              "    .dataframe tbody tr th {\n",
              "        vertical-align: top;\n",
              "    }\n",
              "\n",
              "    .dataframe thead th {\n",
              "        text-align: right;\n",
              "    }\n",
              "</style>\n",
              "<table border=\"1\" class=\"dataframe\">\n",
              "  <thead>\n",
              "    <tr style=\"text-align: right;\">\n",
              "      <th></th>\n",
              "      <th>Rating</th>\n",
              "      <th>Reviews</th>\n",
              "      <th>Size</th>\n",
              "      <th>Installs</th>\n",
              "    </tr>\n",
              "  </thead>\n",
              "  <tbody>\n",
              "    <tr>\n",
              "      <th>count</th>\n",
              "      <td>9659.000000</td>\n",
              "      <td>9.659000e+03</td>\n",
              "      <td>9659.000000</td>\n",
              "      <td>9.659000e+03</td>\n",
              "    </tr>\n",
              "    <tr>\n",
              "      <th>mean</th>\n",
              "      <td>4.192422</td>\n",
              "      <td>2.166512e+05</td>\n",
              "      <td>19.331161</td>\n",
              "      <td>7.794247e+06</td>\n",
              "    </tr>\n",
              "    <tr>\n",
              "      <th>std</th>\n",
              "      <td>0.496071</td>\n",
              "      <td>1.830738e+06</td>\n",
              "      <td>20.585379</td>\n",
              "      <td>5.376991e+07</td>\n",
              "    </tr>\n",
              "    <tr>\n",
              "      <th>min</th>\n",
              "      <td>1.000000</td>\n",
              "      <td>0.000000e+00</td>\n",
              "      <td>0.008500</td>\n",
              "      <td>0.000000e+00</td>\n",
              "    </tr>\n",
              "    <tr>\n",
              "      <th>25%</th>\n",
              "      <td>4.000000</td>\n",
              "      <td>2.500000e+01</td>\n",
              "      <td>5.300000</td>\n",
              "      <td>1.000000e+03</td>\n",
              "    </tr>\n",
              "    <tr>\n",
              "      <th>50%</th>\n",
              "      <td>4.300000</td>\n",
              "      <td>9.690000e+02</td>\n",
              "      <td>12.000000</td>\n",
              "      <td>1.000000e+05</td>\n",
              "    </tr>\n",
              "    <tr>\n",
              "      <th>75%</th>\n",
              "      <td>4.500000</td>\n",
              "      <td>2.940100e+04</td>\n",
              "      <td>25.000000</td>\n",
              "      <td>1.000000e+06</td>\n",
              "    </tr>\n",
              "    <tr>\n",
              "      <th>max</th>\n",
              "      <td>5.000000</td>\n",
              "      <td>7.812821e+07</td>\n",
              "      <td>100.000000</td>\n",
              "      <td>1.000000e+09</td>\n",
              "    </tr>\n",
              "  </tbody>\n",
              "</table>\n",
              "</div>"
            ],
            "text/plain": [
              "            Rating       Reviews         Size      Installs\n",
              "count  9659.000000  9.659000e+03  9659.000000  9.659000e+03\n",
              "mean      4.192422  2.166512e+05    19.331161  7.794247e+06\n",
              "std       0.496071  1.830738e+06    20.585379  5.376991e+07\n",
              "min       1.000000  0.000000e+00     0.008500  0.000000e+00\n",
              "25%       4.000000  2.500000e+01     5.300000  1.000000e+03\n",
              "50%       4.300000  9.690000e+02    12.000000  1.000000e+05\n",
              "75%       4.500000  2.940100e+04    25.000000  1.000000e+06\n",
              "max       5.000000  7.812821e+07   100.000000  1.000000e+09"
            ]
          },
          "metadata": {
            "tags": []
          },
          "execution_count": 29
        }
      ]
    },
    {
      "cell_type": "markdown",
      "metadata": {
        "id": "qp9VH_dsTXfB"
      },
      "source": [
        "#### Cleaning the Type data"
      ]
    },
    {
      "cell_type": "code",
      "metadata": {
        "colab": {
          "base_uri": "https://localhost:8080/"
        },
        "id": "CQQIr_uNG4Vh",
        "outputId": "730cfd98-f341-4604-b2ce-d8e6a7fdc755"
      },
      "source": [
        "play_store.Type.unique()"
      ],
      "execution_count": 30,
      "outputs": [
        {
          "output_type": "execute_result",
          "data": {
            "text/plain": [
              "array(['Free', 'Paid', nan], dtype=object)"
            ]
          },
          "metadata": {
            "tags": []
          },
          "execution_count": 30
        }
      ]
    },
    {
      "cell_type": "code",
      "metadata": {
        "colab": {
          "base_uri": "https://localhost:8080/",
          "height": 80
        },
        "id": "6_So4YeeG4Zg",
        "outputId": "8daf97c0-e593-43c2-a986-9caf3618c2f3"
      },
      "source": [
        "play_store[play_store.Type.isna()]"
      ],
      "execution_count": 31,
      "outputs": [
        {
          "output_type": "execute_result",
          "data": {
            "text/html": [
              "<div>\n",
              "<style scoped>\n",
              "    .dataframe tbody tr th:only-of-type {\n",
              "        vertical-align: middle;\n",
              "    }\n",
              "\n",
              "    .dataframe tbody tr th {\n",
              "        vertical-align: top;\n",
              "    }\n",
              "\n",
              "    .dataframe thead th {\n",
              "        text-align: right;\n",
              "    }\n",
              "</style>\n",
              "<table border=\"1\" class=\"dataframe\">\n",
              "  <thead>\n",
              "    <tr style=\"text-align: right;\">\n",
              "      <th></th>\n",
              "      <th>App</th>\n",
              "      <th>Category</th>\n",
              "      <th>Rating</th>\n",
              "      <th>Reviews</th>\n",
              "      <th>Size</th>\n",
              "      <th>Installs</th>\n",
              "      <th>Type</th>\n",
              "      <th>Price</th>\n",
              "      <th>Content Rating</th>\n",
              "      <th>Genres</th>\n",
              "      <th>Last Updated</th>\n",
              "      <th>Current Ver</th>\n",
              "      <th>Android Ver</th>\n",
              "    </tr>\n",
              "  </thead>\n",
              "  <tbody>\n",
              "    <tr>\n",
              "      <th>9148</th>\n",
              "      <td>Command &amp; Conquer: Rivals</td>\n",
              "      <td>FAMILY</td>\n",
              "      <td>4.3</td>\n",
              "      <td>0</td>\n",
              "      <td>12.0</td>\n",
              "      <td>0</td>\n",
              "      <td>NaN</td>\n",
              "      <td>0</td>\n",
              "      <td>Everyone 10+</td>\n",
              "      <td>Strategy</td>\n",
              "      <td>June 28, 2018</td>\n",
              "      <td>Varies with device</td>\n",
              "      <td>Varies with device</td>\n",
              "    </tr>\n",
              "  </tbody>\n",
              "</table>\n",
              "</div>"
            ],
            "text/plain": [
              "                            App  ...         Android Ver\n",
              "9148  Command & Conquer: Rivals  ...  Varies with device\n",
              "\n",
              "[1 rows x 13 columns]"
            ]
          },
          "metadata": {
            "tags": []
          },
          "execution_count": 31
        }
      ]
    },
    {
      "cell_type": "code",
      "metadata": {
        "id": "WciNyKUmG4gE"
      },
      "source": [
        "play_store.Type =play_store.Type.fillna('Free')"
      ],
      "execution_count": 32,
      "outputs": []
    },
    {
      "cell_type": "markdown",
      "metadata": {
        "id": "4GuzW6WjTOhc"
      },
      "source": [
        "#### Cleaning the Price Data"
      ]
    },
    {
      "cell_type": "code",
      "metadata": {
        "colab": {
          "base_uri": "https://localhost:8080/"
        },
        "id": "7DqTeCAuG4mL",
        "outputId": "48b45325-a60b-4e69-b261-07eed30065ca"
      },
      "source": [
        "play_store.Price.unique()"
      ],
      "execution_count": 33,
      "outputs": [
        {
          "output_type": "execute_result",
          "data": {
            "text/plain": [
              "array(['0', '$4.99', '$3.99', '$1.49', '$2.99', '$7.99', '$3.49', '$1.99',\n",
              "       '$5.99', '$6.99', '$9.99', '$7.49', '$0.99', '$1.00', '$2.49',\n",
              "       '$10.99', '$1.50', '$14.99', '$15.99', '$79.99', '$9.00', '$10.00',\n",
              "       '$16.99', '$11.99', '$29.99', '$74.99', '$5.49', '$33.99',\n",
              "       '$24.99', '$39.99', '$19.99', '$4.49', '$1.70', '$8.99', '$2.00',\n",
              "       '$3.88', '$25.99', '$399.99', '$17.99', '$400.00', '$3.02',\n",
              "       '$1.76', '$4.84', '$4.77', '$1.61', '$2.50', '$1.59', '$6.49',\n",
              "       '$1.29', '$5.00', '$13.99', '$299.99', '$379.99', '$37.99',\n",
              "       '$18.99', '$389.99', '$19.90', '$8.49', '$1.75', '$14.00', '$4.85',\n",
              "       '$46.99', '$109.99', '$3.95', '$154.99', '$3.08', '$2.59', '$4.80',\n",
              "       '$1.96', '$19.40', '$3.90', '$4.59', '$15.46', '$3.04', '$12.99',\n",
              "       '$4.29', '$2.60', '$3.28', '$4.60', '$28.99', '$2.95', '$2.90',\n",
              "       '$1.97', '$200.00', '$89.99', '$2.56', '$30.99', '$3.61',\n",
              "       '$394.99', '$1.26', '$1.20', '$1.04'], dtype=object)"
            ]
          },
          "metadata": {
            "tags": []
          },
          "execution_count": 33
        }
      ]
    },
    {
      "cell_type": "code",
      "metadata": {
        "id": "E7ZytuM-G4wi"
      },
      "source": [
        "play_store.Price = play_store.Price.apply(lambda x: x.strip('$'))"
      ],
      "execution_count": 34,
      "outputs": []
    },
    {
      "cell_type": "code",
      "metadata": {
        "id": "9bgAepA5G43w"
      },
      "source": [
        "play_store['Price'] = play_store['Price'].apply(convert_to_float)\n"
      ],
      "execution_count": 35,
      "outputs": []
    },
    {
      "cell_type": "code",
      "metadata": {
        "colab": {
          "base_uri": "https://localhost:8080/",
          "height": 306
        },
        "id": "-f3nPxXIG48L",
        "outputId": "af2df595-5a14-4766-f084-f946f46036b8"
      },
      "source": [
        "play_store.head()"
      ],
      "execution_count": 36,
      "outputs": [
        {
          "output_type": "execute_result",
          "data": {
            "text/html": [
              "<div>\n",
              "<style scoped>\n",
              "    .dataframe tbody tr th:only-of-type {\n",
              "        vertical-align: middle;\n",
              "    }\n",
              "\n",
              "    .dataframe tbody tr th {\n",
              "        vertical-align: top;\n",
              "    }\n",
              "\n",
              "    .dataframe thead th {\n",
              "        text-align: right;\n",
              "    }\n",
              "</style>\n",
              "<table border=\"1\" class=\"dataframe\">\n",
              "  <thead>\n",
              "    <tr style=\"text-align: right;\">\n",
              "      <th></th>\n",
              "      <th>App</th>\n",
              "      <th>Category</th>\n",
              "      <th>Rating</th>\n",
              "      <th>Reviews</th>\n",
              "      <th>Size</th>\n",
              "      <th>Installs</th>\n",
              "      <th>Type</th>\n",
              "      <th>Price</th>\n",
              "      <th>Content Rating</th>\n",
              "      <th>Genres</th>\n",
              "      <th>Last Updated</th>\n",
              "      <th>Current Ver</th>\n",
              "      <th>Android Ver</th>\n",
              "    </tr>\n",
              "  </thead>\n",
              "  <tbody>\n",
              "    <tr>\n",
              "      <th>0</th>\n",
              "      <td>Photo Editor &amp; Candy Camera &amp; Grid &amp; ScrapBook</td>\n",
              "      <td>ART_AND_DESIGN</td>\n",
              "      <td>4.1</td>\n",
              "      <td>159</td>\n",
              "      <td>19.0</td>\n",
              "      <td>10000</td>\n",
              "      <td>Free</td>\n",
              "      <td>0.0</td>\n",
              "      <td>Everyone</td>\n",
              "      <td>Art &amp; Design</td>\n",
              "      <td>January 7, 2018</td>\n",
              "      <td>1.0.0</td>\n",
              "      <td>4.0.3 and up</td>\n",
              "    </tr>\n",
              "    <tr>\n",
              "      <th>2</th>\n",
              "      <td>U Launcher Lite – FREE Live Cool Themes, Hide ...</td>\n",
              "      <td>ART_AND_DESIGN</td>\n",
              "      <td>4.7</td>\n",
              "      <td>87510</td>\n",
              "      <td>8.7</td>\n",
              "      <td>5000000</td>\n",
              "      <td>Free</td>\n",
              "      <td>0.0</td>\n",
              "      <td>Everyone</td>\n",
              "      <td>Art &amp; Design</td>\n",
              "      <td>August 1, 2018</td>\n",
              "      <td>1.2.4</td>\n",
              "      <td>4.0.3 and up</td>\n",
              "    </tr>\n",
              "    <tr>\n",
              "      <th>3</th>\n",
              "      <td>Sketch - Draw &amp; Paint</td>\n",
              "      <td>ART_AND_DESIGN</td>\n",
              "      <td>4.5</td>\n",
              "      <td>215644</td>\n",
              "      <td>25.0</td>\n",
              "      <td>50000000</td>\n",
              "      <td>Free</td>\n",
              "      <td>0.0</td>\n",
              "      <td>Teen</td>\n",
              "      <td>Art &amp; Design</td>\n",
              "      <td>June 8, 2018</td>\n",
              "      <td>Varies with device</td>\n",
              "      <td>4.2 and up</td>\n",
              "    </tr>\n",
              "    <tr>\n",
              "      <th>4</th>\n",
              "      <td>Pixel Draw - Number Art Coloring Book</td>\n",
              "      <td>ART_AND_DESIGN</td>\n",
              "      <td>4.3</td>\n",
              "      <td>967</td>\n",
              "      <td>2.8</td>\n",
              "      <td>100000</td>\n",
              "      <td>Free</td>\n",
              "      <td>0.0</td>\n",
              "      <td>Everyone</td>\n",
              "      <td>Art &amp; Design;Creativity</td>\n",
              "      <td>June 20, 2018</td>\n",
              "      <td>1.1</td>\n",
              "      <td>4.4 and up</td>\n",
              "    </tr>\n",
              "    <tr>\n",
              "      <th>5</th>\n",
              "      <td>Paper flowers instructions</td>\n",
              "      <td>ART_AND_DESIGN</td>\n",
              "      <td>4.4</td>\n",
              "      <td>167</td>\n",
              "      <td>5.6</td>\n",
              "      <td>50000</td>\n",
              "      <td>Free</td>\n",
              "      <td>0.0</td>\n",
              "      <td>Everyone</td>\n",
              "      <td>Art &amp; Design</td>\n",
              "      <td>March 26, 2017</td>\n",
              "      <td>1.0</td>\n",
              "      <td>2.3 and up</td>\n",
              "    </tr>\n",
              "  </tbody>\n",
              "</table>\n",
              "</div>"
            ],
            "text/plain": [
              "                                                 App  ...   Android Ver\n",
              "0     Photo Editor & Candy Camera & Grid & ScrapBook  ...  4.0.3 and up\n",
              "2  U Launcher Lite – FREE Live Cool Themes, Hide ...  ...  4.0.3 and up\n",
              "3                              Sketch - Draw & Paint  ...    4.2 and up\n",
              "4              Pixel Draw - Number Art Coloring Book  ...    4.4 and up\n",
              "5                         Paper flowers instructions  ...    2.3 and up\n",
              "\n",
              "[5 rows x 13 columns]"
            ]
          },
          "metadata": {
            "tags": []
          },
          "execution_count": 36
        }
      ]
    },
    {
      "cell_type": "code",
      "metadata": {
        "colab": {
          "base_uri": "https://localhost:8080/",
          "height": 297
        },
        "id": "xXohilakG5FF",
        "outputId": "f248806c-116e-4f16-a47d-86536a89a789"
      },
      "source": [
        "play_store.describe()"
      ],
      "execution_count": 37,
      "outputs": [
        {
          "output_type": "execute_result",
          "data": {
            "text/html": [
              "<div>\n",
              "<style scoped>\n",
              "    .dataframe tbody tr th:only-of-type {\n",
              "        vertical-align: middle;\n",
              "    }\n",
              "\n",
              "    .dataframe tbody tr th {\n",
              "        vertical-align: top;\n",
              "    }\n",
              "\n",
              "    .dataframe thead th {\n",
              "        text-align: right;\n",
              "    }\n",
              "</style>\n",
              "<table border=\"1\" class=\"dataframe\">\n",
              "  <thead>\n",
              "    <tr style=\"text-align: right;\">\n",
              "      <th></th>\n",
              "      <th>Rating</th>\n",
              "      <th>Reviews</th>\n",
              "      <th>Size</th>\n",
              "      <th>Installs</th>\n",
              "      <th>Price</th>\n",
              "    </tr>\n",
              "  </thead>\n",
              "  <tbody>\n",
              "    <tr>\n",
              "      <th>count</th>\n",
              "      <td>9659.000000</td>\n",
              "      <td>9.659000e+03</td>\n",
              "      <td>9659.000000</td>\n",
              "      <td>9.659000e+03</td>\n",
              "      <td>9659.000000</td>\n",
              "    </tr>\n",
              "    <tr>\n",
              "      <th>mean</th>\n",
              "      <td>4.192422</td>\n",
              "      <td>2.166512e+05</td>\n",
              "      <td>19.331161</td>\n",
              "      <td>7.794247e+06</td>\n",
              "      <td>1.097231</td>\n",
              "    </tr>\n",
              "    <tr>\n",
              "      <th>std</th>\n",
              "      <td>0.496071</td>\n",
              "      <td>1.830738e+06</td>\n",
              "      <td>20.585379</td>\n",
              "      <td>5.376991e+07</td>\n",
              "      <td>16.851618</td>\n",
              "    </tr>\n",
              "    <tr>\n",
              "      <th>min</th>\n",
              "      <td>1.000000</td>\n",
              "      <td>0.000000e+00</td>\n",
              "      <td>0.008500</td>\n",
              "      <td>0.000000e+00</td>\n",
              "      <td>0.000000</td>\n",
              "    </tr>\n",
              "    <tr>\n",
              "      <th>25%</th>\n",
              "      <td>4.000000</td>\n",
              "      <td>2.500000e+01</td>\n",
              "      <td>5.300000</td>\n",
              "      <td>1.000000e+03</td>\n",
              "      <td>0.000000</td>\n",
              "    </tr>\n",
              "    <tr>\n",
              "      <th>50%</th>\n",
              "      <td>4.300000</td>\n",
              "      <td>9.690000e+02</td>\n",
              "      <td>12.000000</td>\n",
              "      <td>1.000000e+05</td>\n",
              "      <td>0.000000</td>\n",
              "    </tr>\n",
              "    <tr>\n",
              "      <th>75%</th>\n",
              "      <td>4.500000</td>\n",
              "      <td>2.940100e+04</td>\n",
              "      <td>25.000000</td>\n",
              "      <td>1.000000e+06</td>\n",
              "      <td>0.000000</td>\n",
              "    </tr>\n",
              "    <tr>\n",
              "      <th>max</th>\n",
              "      <td>5.000000</td>\n",
              "      <td>7.812821e+07</td>\n",
              "      <td>100.000000</td>\n",
              "      <td>1.000000e+09</td>\n",
              "      <td>400.000000</td>\n",
              "    </tr>\n",
              "  </tbody>\n",
              "</table>\n",
              "</div>"
            ],
            "text/plain": [
              "            Rating       Reviews         Size      Installs        Price\n",
              "count  9659.000000  9.659000e+03  9659.000000  9.659000e+03  9659.000000\n",
              "mean      4.192422  2.166512e+05    19.331161  7.794247e+06     1.097231\n",
              "std       0.496071  1.830738e+06    20.585379  5.376991e+07    16.851618\n",
              "min       1.000000  0.000000e+00     0.008500  0.000000e+00     0.000000\n",
              "25%       4.000000  2.500000e+01     5.300000  1.000000e+03     0.000000\n",
              "50%       4.300000  9.690000e+02    12.000000  1.000000e+05     0.000000\n",
              "75%       4.500000  2.940100e+04    25.000000  1.000000e+06     0.000000\n",
              "max       5.000000  7.812821e+07   100.000000  1.000000e+09   400.000000"
            ]
          },
          "metadata": {
            "tags": []
          },
          "execution_count": 37
        }
      ]
    },
    {
      "cell_type": "markdown",
      "metadata": {
        "id": "2XXULS2ITGDO"
      },
      "source": [
        "### Information based on Category"
      ]
    },
    {
      "cell_type": "code",
      "metadata": {
        "id": "09XxjzMhG5I-"
      },
      "source": [
        "Category_df = play_store.groupby('Category').agg({'App':\"count\",'Rating': \"mean\",'Reviews':\"sum\",'Installs':\"sum\",'Size':\"median\",\"Price\":\"mean\"}).sort_values(by=['Installs','Rating','Reviews','Size','App'],ascending = [False,False,False,False,False]).rename(columns ={'App':'Num_Apps','Rating':'Avg. Ratings','Reviews':'Total_reviews','Installs':'Total_installs','Size':'Avg_Size(MB)'})"
      ],
      "execution_count": 38,
      "outputs": []
    },
    {
      "cell_type": "code",
      "metadata": {
        "colab": {
          "base_uri": "https://localhost:8080/",
          "height": 1000
        },
        "id": "KVYJM1E3G6KX",
        "outputId": "7ec27f3b-3885-43e0-f5e9-384d0ea6210e"
      },
      "source": [
        "Category_df"
      ],
      "execution_count": 39,
      "outputs": [
        {
          "output_type": "execute_result",
          "data": {
            "text/html": [
              "<div>\n",
              "<style scoped>\n",
              "    .dataframe tbody tr th:only-of-type {\n",
              "        vertical-align: middle;\n",
              "    }\n",
              "\n",
              "    .dataframe tbody tr th {\n",
              "        vertical-align: top;\n",
              "    }\n",
              "\n",
              "    .dataframe thead th {\n",
              "        text-align: right;\n",
              "    }\n",
              "</style>\n",
              "<table border=\"1\" class=\"dataframe\">\n",
              "  <thead>\n",
              "    <tr style=\"text-align: right;\">\n",
              "      <th></th>\n",
              "      <th>Num_Apps</th>\n",
              "      <th>Avg. Ratings</th>\n",
              "      <th>Total_reviews</th>\n",
              "      <th>Total_installs</th>\n",
              "      <th>Avg_Size(MB)</th>\n",
              "      <th>Price</th>\n",
              "    </tr>\n",
              "    <tr>\n",
              "      <th>Category</th>\n",
              "      <th></th>\n",
              "      <th></th>\n",
              "      <th></th>\n",
              "      <th></th>\n",
              "      <th></th>\n",
              "      <th></th>\n",
              "    </tr>\n",
              "  </thead>\n",
              "  <tbody>\n",
              "    <tr>\n",
              "      <th>COMMUNICATION</th>\n",
              "      <td>316</td>\n",
              "      <td>4.154747</td>\n",
              "      <td>285824817</td>\n",
              "      <td>11039276251</td>\n",
              "      <td>12.00</td>\n",
              "      <td>0.263101</td>\n",
              "    </tr>\n",
              "    <tr>\n",
              "      <th>GAME</th>\n",
              "      <td>926</td>\n",
              "      <td>4.243305</td>\n",
              "      <td>425239248</td>\n",
              "      <td>10897924415</td>\n",
              "      <td>34.00</td>\n",
              "      <td>0.307030</td>\n",
              "    </tr>\n",
              "    <tr>\n",
              "      <th>FAMILY</th>\n",
              "      <td>1906</td>\n",
              "      <td>4.200367</td>\n",
              "      <td>345758056</td>\n",
              "      <td>8870642505</td>\n",
              "      <td>17.00</td>\n",
              "      <td>1.264344</td>\n",
              "    </tr>\n",
              "    <tr>\n",
              "      <th>TOOLS</th>\n",
              "      <td>829</td>\n",
              "      <td>4.074427</td>\n",
              "      <td>229433729</td>\n",
              "      <td>8102771915</td>\n",
              "      <td>5.20</td>\n",
              "      <td>0.322376</td>\n",
              "    </tr>\n",
              "    <tr>\n",
              "      <th>PRODUCTIVITY</th>\n",
              "      <td>374</td>\n",
              "      <td>4.206150</td>\n",
              "      <td>55570346</td>\n",
              "      <td>5788091369</td>\n",
              "      <td>11.00</td>\n",
              "      <td>0.670936</td>\n",
              "    </tr>\n",
              "    <tr>\n",
              "      <th>SOCIAL</th>\n",
              "      <td>239</td>\n",
              "      <td>4.255230</td>\n",
              "      <td>227802363</td>\n",
              "      <td>5487867902</td>\n",
              "      <td>11.00</td>\n",
              "      <td>0.066820</td>\n",
              "    </tr>\n",
              "    <tr>\n",
              "      <th>PHOTOGRAPHY</th>\n",
              "      <td>281</td>\n",
              "      <td>4.165125</td>\n",
              "      <td>105556805</td>\n",
              "      <td>4658147655</td>\n",
              "      <td>12.00</td>\n",
              "      <td>0.420925</td>\n",
              "    </tr>\n",
              "    <tr>\n",
              "      <th>VIDEO_PLAYERS</th>\n",
              "      <td>163</td>\n",
              "      <td>4.066871</td>\n",
              "      <td>67324804</td>\n",
              "      <td>3917002720</td>\n",
              "      <td>12.00</td>\n",
              "      <td>0.064172</td>\n",
              "    </tr>\n",
              "    <tr>\n",
              "      <th>TRAVEL_AND_LOCAL</th>\n",
              "      <td>219</td>\n",
              "      <td>4.103196</td>\n",
              "      <td>26817033</td>\n",
              "      <td>2894887146</td>\n",
              "      <td>13.00</td>\n",
              "      <td>0.228082</td>\n",
              "    </tr>\n",
              "    <tr>\n",
              "      <th>NEWS_AND_MAGAZINES</th>\n",
              "      <td>254</td>\n",
              "      <td>4.156693</td>\n",
              "      <td>23120896</td>\n",
              "      <td>2369217760</td>\n",
              "      <td>12.00</td>\n",
              "      <td>0.015669</td>\n",
              "    </tr>\n",
              "    <tr>\n",
              "      <th>BOOKS_AND_REFERENCE</th>\n",
              "      <td>222</td>\n",
              "      <td>4.334234</td>\n",
              "      <td>16722873</td>\n",
              "      <td>1665969576</td>\n",
              "      <td>8.75</td>\n",
              "      <td>0.539505</td>\n",
              "    </tr>\n",
              "    <tr>\n",
              "      <th>PERSONALIZATION</th>\n",
              "      <td>376</td>\n",
              "      <td>4.325532</td>\n",
              "      <td>53532177</td>\n",
              "      <td>1532494782</td>\n",
              "      <td>7.70</td>\n",
              "      <td>0.400213</td>\n",
              "    </tr>\n",
              "    <tr>\n",
              "      <th>SHOPPING</th>\n",
              "      <td>202</td>\n",
              "      <td>4.238119</td>\n",
              "      <td>44524852</td>\n",
              "      <td>1400348785</td>\n",
              "      <td>12.00</td>\n",
              "      <td>0.027129</td>\n",
              "    </tr>\n",
              "    <tr>\n",
              "      <th>SPORTS</th>\n",
              "      <td>327</td>\n",
              "      <td>4.234862</td>\n",
              "      <td>59406934</td>\n",
              "      <td>1296474498</td>\n",
              "      <td>14.00</td>\n",
              "      <td>0.305810</td>\n",
              "    </tr>\n",
              "    <tr>\n",
              "      <th>HEALTH_AND_FITNESS</th>\n",
              "      <td>287</td>\n",
              "      <td>4.250871</td>\n",
              "      <td>21039814</td>\n",
              "      <td>1134022512</td>\n",
              "      <td>12.00</td>\n",
              "      <td>0.224216</td>\n",
              "    </tr>\n",
              "    <tr>\n",
              "      <th>ENTERTAINMENT</th>\n",
              "      <td>79</td>\n",
              "      <td>4.111392</td>\n",
              "      <td>14658985</td>\n",
              "      <td>708660000</td>\n",
              "      <td>12.00</td>\n",
              "      <td>0.101013</td>\n",
              "    </tr>\n",
              "    <tr>\n",
              "      <th>BUSINESS</th>\n",
              "      <td>419</td>\n",
              "      <td>4.172792</td>\n",
              "      <td>9702179</td>\n",
              "      <td>692164865</td>\n",
              "      <td>10.00</td>\n",
              "      <td>0.418353</td>\n",
              "    </tr>\n",
              "    <tr>\n",
              "      <th>LIFESTYLE</th>\n",
              "      <td>369</td>\n",
              "      <td>4.131436</td>\n",
              "      <td>11832055</td>\n",
              "      <td>503823539</td>\n",
              "      <td>12.00</td>\n",
              "      <td>6.398022</td>\n",
              "    </tr>\n",
              "    <tr>\n",
              "      <th>MAPS_AND_NAVIGATION</th>\n",
              "      <td>131</td>\n",
              "      <td>4.062595</td>\n",
              "      <td>17720178</td>\n",
              "      <td>503281890</td>\n",
              "      <td>12.00</td>\n",
              "      <td>0.205725</td>\n",
              "    </tr>\n",
              "    <tr>\n",
              "      <th>FINANCE</th>\n",
              "      <td>345</td>\n",
              "      <td>4.138551</td>\n",
              "      <td>12662872</td>\n",
              "      <td>455348734</td>\n",
              "      <td>12.00</td>\n",
              "      <td>8.408203</td>\n",
              "    </tr>\n",
              "    <tr>\n",
              "      <th>WEATHER</th>\n",
              "      <td>79</td>\n",
              "      <td>4.248101</td>\n",
              "      <td>12294246</td>\n",
              "      <td>361100520</td>\n",
              "      <td>12.00</td>\n",
              "      <td>0.410380</td>\n",
              "    </tr>\n",
              "    <tr>\n",
              "      <th>FOOD_AND_DRINK</th>\n",
              "      <td>112</td>\n",
              "      <td>4.191964</td>\n",
              "      <td>6325986</td>\n",
              "      <td>211798751</td>\n",
              "      <td>13.00</td>\n",
              "      <td>0.075714</td>\n",
              "    </tr>\n",
              "    <tr>\n",
              "      <th>EDUCATION</th>\n",
              "      <td>102</td>\n",
              "      <td>4.350980</td>\n",
              "      <td>5583607</td>\n",
              "      <td>176951000</td>\n",
              "      <td>12.00</td>\n",
              "      <td>0.078235</td>\n",
              "    </tr>\n",
              "    <tr>\n",
              "      <th>DATING</th>\n",
              "      <td>170</td>\n",
              "      <td>4.050000</td>\n",
              "      <td>3623840</td>\n",
              "      <td>140925107</td>\n",
              "      <td>12.00</td>\n",
              "      <td>0.120294</td>\n",
              "    </tr>\n",
              "    <tr>\n",
              "      <th>ART_AND_DESIGN</th>\n",
              "      <td>61</td>\n",
              "      <td>4.357377</td>\n",
              "      <td>1410046</td>\n",
              "      <td>113238100</td>\n",
              "      <td>9.20</td>\n",
              "      <td>0.097869</td>\n",
              "    </tr>\n",
              "    <tr>\n",
              "      <th>HOUSE_AND_HOME</th>\n",
              "      <td>73</td>\n",
              "      <td>4.167123</td>\n",
              "      <td>1929789</td>\n",
              "      <td>97202461</td>\n",
              "      <td>12.00</td>\n",
              "      <td>0.000000</td>\n",
              "    </tr>\n",
              "    <tr>\n",
              "      <th>AUTO_AND_VEHICLES</th>\n",
              "      <td>85</td>\n",
              "      <td>4.205882</td>\n",
              "      <td>1163666</td>\n",
              "      <td>53130211</td>\n",
              "      <td>12.00</td>\n",
              "      <td>0.158471</td>\n",
              "    </tr>\n",
              "    <tr>\n",
              "      <th>LIBRARIES_AND_DEMO</th>\n",
              "      <td>84</td>\n",
              "      <td>4.207143</td>\n",
              "      <td>906846</td>\n",
              "      <td>52995910</td>\n",
              "      <td>3.55</td>\n",
              "      <td>0.011786</td>\n",
              "    </tr>\n",
              "    <tr>\n",
              "      <th>COMICS</th>\n",
              "      <td>56</td>\n",
              "      <td>4.185714</td>\n",
              "      <td>2342399</td>\n",
              "      <td>44981150</td>\n",
              "      <td>12.00</td>\n",
              "      <td>0.000000</td>\n",
              "    </tr>\n",
              "    <tr>\n",
              "      <th>MEDICAL</th>\n",
              "      <td>396</td>\n",
              "      <td>4.204040</td>\n",
              "      <td>1287083</td>\n",
              "      <td>39203077</td>\n",
              "      <td>12.50</td>\n",
              "      <td>2.481591</td>\n",
              "    </tr>\n",
              "    <tr>\n",
              "      <th>PARENTING</th>\n",
              "      <td>60</td>\n",
              "      <td>4.300000</td>\n",
              "      <td>958331</td>\n",
              "      <td>31521110</td>\n",
              "      <td>12.00</td>\n",
              "      <td>0.159667</td>\n",
              "    </tr>\n",
              "    <tr>\n",
              "      <th>BEAUTY</th>\n",
              "      <td>53</td>\n",
              "      <td>4.283019</td>\n",
              "      <td>396240</td>\n",
              "      <td>27197050</td>\n",
              "      <td>12.00</td>\n",
              "      <td>0.000000</td>\n",
              "    </tr>\n",
              "    <tr>\n",
              "      <th>EVENTS</th>\n",
              "      <td>64</td>\n",
              "      <td>4.395313</td>\n",
              "      <td>161018</td>\n",
              "      <td>15973161</td>\n",
              "      <td>11.00</td>\n",
              "      <td>1.718594</td>\n",
              "    </tr>\n",
              "  </tbody>\n",
              "</table>\n",
              "</div>"
            ],
            "text/plain": [
              "                     Num_Apps  Avg. Ratings  ...  Avg_Size(MB)     Price\n",
              "Category                                     ...                        \n",
              "COMMUNICATION             316      4.154747  ...         12.00  0.263101\n",
              "GAME                      926      4.243305  ...         34.00  0.307030\n",
              "FAMILY                   1906      4.200367  ...         17.00  1.264344\n",
              "TOOLS                     829      4.074427  ...          5.20  0.322376\n",
              "PRODUCTIVITY              374      4.206150  ...         11.00  0.670936\n",
              "SOCIAL                    239      4.255230  ...         11.00  0.066820\n",
              "PHOTOGRAPHY               281      4.165125  ...         12.00  0.420925\n",
              "VIDEO_PLAYERS             163      4.066871  ...         12.00  0.064172\n",
              "TRAVEL_AND_LOCAL          219      4.103196  ...         13.00  0.228082\n",
              "NEWS_AND_MAGAZINES        254      4.156693  ...         12.00  0.015669\n",
              "BOOKS_AND_REFERENCE       222      4.334234  ...          8.75  0.539505\n",
              "PERSONALIZATION           376      4.325532  ...          7.70  0.400213\n",
              "SHOPPING                  202      4.238119  ...         12.00  0.027129\n",
              "SPORTS                    327      4.234862  ...         14.00  0.305810\n",
              "HEALTH_AND_FITNESS        287      4.250871  ...         12.00  0.224216\n",
              "ENTERTAINMENT              79      4.111392  ...         12.00  0.101013\n",
              "BUSINESS                  419      4.172792  ...         10.00  0.418353\n",
              "LIFESTYLE                 369      4.131436  ...         12.00  6.398022\n",
              "MAPS_AND_NAVIGATION       131      4.062595  ...         12.00  0.205725\n",
              "FINANCE                   345      4.138551  ...         12.00  8.408203\n",
              "WEATHER                    79      4.248101  ...         12.00  0.410380\n",
              "FOOD_AND_DRINK            112      4.191964  ...         13.00  0.075714\n",
              "EDUCATION                 102      4.350980  ...         12.00  0.078235\n",
              "DATING                    170      4.050000  ...         12.00  0.120294\n",
              "ART_AND_DESIGN             61      4.357377  ...          9.20  0.097869\n",
              "HOUSE_AND_HOME             73      4.167123  ...         12.00  0.000000\n",
              "AUTO_AND_VEHICLES          85      4.205882  ...         12.00  0.158471\n",
              "LIBRARIES_AND_DEMO         84      4.207143  ...          3.55  0.011786\n",
              "COMICS                     56      4.185714  ...         12.00  0.000000\n",
              "MEDICAL                   396      4.204040  ...         12.50  2.481591\n",
              "PARENTING                  60      4.300000  ...         12.00  0.159667\n",
              "BEAUTY                     53      4.283019  ...         12.00  0.000000\n",
              "EVENTS                     64      4.395313  ...         11.00  1.718594\n",
              "\n",
              "[33 rows x 6 columns]"
            ]
          },
          "metadata": {
            "tags": []
          },
          "execution_count": 39
        }
      ]
    },
    {
      "cell_type": "markdown",
      "metadata": {
        "id": "BLxcyrr2S6T6"
      },
      "source": [
        "### Checking categorization based on free/paid apps"
      ]
    },
    {
      "cell_type": "code",
      "metadata": {
        "id": "mUydEcCnG6gR"
      },
      "source": [
        "type_of_app_df = play_store.groupby('Type').agg({'App':\"count\",'Rating': \"mean\",'Reviews':\"median\",'Installs':\"mean\",'Size':\"median\"}).sort_values(by=['App','Rating','Reviews','Installs','Size'],ascending = [False,False,False,False,False]).rename(columns ={'App':'Num_Apps','Rating':'Avg. Ratings','Reviews':'Median_reviews','Installs':'Avg_installs','Size':'Avg_Size(MB)'})"
      ],
      "execution_count": 40,
      "outputs": []
    },
    {
      "cell_type": "code",
      "metadata": {
        "colab": {
          "base_uri": "https://localhost:8080/",
          "height": 142
        },
        "id": "h226NFA0G6zY",
        "outputId": "b088715f-1e7c-4059-b349-a07152adf7b6"
      },
      "source": [
        "type_of_app_df"
      ],
      "execution_count": 41,
      "outputs": [
        {
          "output_type": "execute_result",
          "data": {
            "text/html": [
              "<div>\n",
              "<style scoped>\n",
              "    .dataframe tbody tr th:only-of-type {\n",
              "        vertical-align: middle;\n",
              "    }\n",
              "\n",
              "    .dataframe tbody tr th {\n",
              "        vertical-align: top;\n",
              "    }\n",
              "\n",
              "    .dataframe thead th {\n",
              "        text-align: right;\n",
              "    }\n",
              "</style>\n",
              "<table border=\"1\" class=\"dataframe\">\n",
              "  <thead>\n",
              "    <tr style=\"text-align: right;\">\n",
              "      <th></th>\n",
              "      <th>Num_Apps</th>\n",
              "      <th>Avg. Ratings</th>\n",
              "      <th>Median_reviews</th>\n",
              "      <th>Avg_installs</th>\n",
              "      <th>Avg_Size(MB)</th>\n",
              "    </tr>\n",
              "    <tr>\n",
              "      <th>Type</th>\n",
              "      <th></th>\n",
              "      <th></th>\n",
              "      <th></th>\n",
              "      <th></th>\n",
              "      <th></th>\n",
              "    </tr>\n",
              "  </thead>\n",
              "  <tbody>\n",
              "    <tr>\n",
              "      <th>Free</th>\n",
              "      <td>8905</td>\n",
              "      <td>4.185873</td>\n",
              "      <td>1369.0</td>\n",
              "      <td>8.447757e+06</td>\n",
              "      <td>12.0</td>\n",
              "    </tr>\n",
              "    <tr>\n",
              "      <th>Paid</th>\n",
              "      <td>754</td>\n",
              "      <td>4.269761</td>\n",
              "      <td>88.5</td>\n",
              "      <td>7.607929e+04</td>\n",
              "      <td>12.0</td>\n",
              "    </tr>\n",
              "  </tbody>\n",
              "</table>\n",
              "</div>"
            ],
            "text/plain": [
              "      Num_Apps  Avg. Ratings  Median_reviews  Avg_installs  Avg_Size(MB)\n",
              "Type                                                                    \n",
              "Free      8905      4.185873          1369.0  8.447757e+06          12.0\n",
              "Paid       754      4.269761            88.5  7.607929e+04          12.0"
            ]
          },
          "metadata": {
            "tags": []
          },
          "execution_count": 41
        }
      ]
    },
    {
      "cell_type": "markdown",
      "metadata": {
        "id": "PWCIAsp9URZG"
      },
      "source": [
        "#### Distribution of app based on the Type"
      ]
    },
    {
      "cell_type": "code",
      "metadata": {
        "colab": {
          "base_uri": "https://localhost:8080/",
          "height": 264
        },
        "id": "zEQD-GzfQoAy",
        "outputId": "de3c7b1e-01df-4509-cdb5-6f7c022e1a49"
      },
      "source": [
        "labels = 'Free','Paid'\n",
        "my_colors = ['lightblue','lightsteelblue']\n",
        "my_explode = (0,0.1)\n",
        "plt.pie(type_of_app_df['Num_Apps'], labels=labels ,autopct='%1.1f%%', startangle =15, shadow =True, colors = my_colors, explode=my_explode )\n",
        "plt.title(\"Distribution based on Type of Apps\")\n",
        "plt.axis('equal')\n",
        "plt.show()"
      ],
      "execution_count": 42,
      "outputs": [
        {
          "output_type": "display_data",
          "data": {
            "image/png": "[encoded data removed]",
            "text/plain": [
              "<Figure size 432x288 with 1 Axes>"
            ]
          },
          "metadata": {
            "tags": []
          }
        }
      ]
    },
    {
      "cell_type": "markdown",
      "metadata": {
        "id": "hp4qN4YudMRn"
      },
      "source": [
        "### Understand Ratings Info based on Type using the categories"
      ]
    },
    {
      "cell_type": "code",
      "metadata": {
        "id": "f9lay0MSdM1F"
      },
      "source": [
        "rating_based_on_type = play_store.groupby(['Category','Type'])[['Rating']].mean().reset_index().rename(columns={'Rating':'Avg_Rating','index':'Rating'})\n"
      ],
      "execution_count": 133,
      "outputs": []
    },
    {
      "cell_type": "code",
      "metadata": {
        "colab": {
          "base_uri": "https://localhost:8080/",
          "height": 419
        },
        "id": "Y3fg4FBEdvKh",
        "outputId": "60f694d6-c905-45c5-bc43-559472cfccdf"
      },
      "source": [
        "rating_based_on_type"
      ],
      "execution_count": 134,
      "outputs": [
        {
          "output_type": "execute_result",
          "data": {
            "text/html": [
              "<div>\n",
              "<style scoped>\n",
              "    .dataframe tbody tr th:only-of-type {\n",
              "        vertical-align: middle;\n",
              "    }\n",
              "\n",
              "    .dataframe tbody tr th {\n",
              "        vertical-align: top;\n",
              "    }\n",
              "\n",
              "    .dataframe thead th {\n",
              "        text-align: right;\n",
              "    }\n",
              "</style>\n",
              "<table border=\"1\" class=\"dataframe\">\n",
              "  <thead>\n",
              "    <tr style=\"text-align: right;\">\n",
              "      <th></th>\n",
              "      <th>Category</th>\n",
              "      <th>Type</th>\n",
              "      <th>Avg_Rating</th>\n",
              "    </tr>\n",
              "  </thead>\n",
              "  <tbody>\n",
              "    <tr>\n",
              "      <th>0</th>\n",
              "      <td>ART_AND_DESIGN</td>\n",
              "      <td>Free</td>\n",
              "      <td>4.337931</td>\n",
              "    </tr>\n",
              "    <tr>\n",
              "      <th>1</th>\n",
              "      <td>ART_AND_DESIGN</td>\n",
              "      <td>Paid</td>\n",
              "      <td>4.733333</td>\n",
              "    </tr>\n",
              "    <tr>\n",
              "      <th>2</th>\n",
              "      <td>AUTO_AND_VEHICLES</td>\n",
              "      <td>Free</td>\n",
              "      <td>4.198780</td>\n",
              "    </tr>\n",
              "    <tr>\n",
              "      <th>3</th>\n",
              "      <td>AUTO_AND_VEHICLES</td>\n",
              "      <td>Paid</td>\n",
              "      <td>4.400000</td>\n",
              "    </tr>\n",
              "    <tr>\n",
              "      <th>4</th>\n",
              "      <td>BEAUTY</td>\n",
              "      <td>Free</td>\n",
              "      <td>4.283019</td>\n",
              "    </tr>\n",
              "    <tr>\n",
              "      <th>...</th>\n",
              "      <td>...</td>\n",
              "      <td>...</td>\n",
              "      <td>...</td>\n",
              "    </tr>\n",
              "    <tr>\n",
              "      <th>58</th>\n",
              "      <td>TRAVEL_AND_LOCAL</td>\n",
              "      <td>Paid</td>\n",
              "      <td>4.166667</td>\n",
              "    </tr>\n",
              "    <tr>\n",
              "      <th>59</th>\n",
              "      <td>VIDEO_PLAYERS</td>\n",
              "      <td>Free</td>\n",
              "      <td>4.066038</td>\n",
              "    </tr>\n",
              "    <tr>\n",
              "      <th>60</th>\n",
              "      <td>VIDEO_PLAYERS</td>\n",
              "      <td>Paid</td>\n",
              "      <td>4.100000</td>\n",
              "    </tr>\n",
              "    <tr>\n",
              "      <th>61</th>\n",
              "      <td>WEATHER</td>\n",
              "      <td>Free</td>\n",
              "      <td>4.235211</td>\n",
              "    </tr>\n",
              "    <tr>\n",
              "      <th>62</th>\n",
              "      <td>WEATHER</td>\n",
              "      <td>Paid</td>\n",
              "      <td>4.362500</td>\n",
              "    </tr>\n",
              "  </tbody>\n",
              "</table>\n",
              "<p>63 rows × 3 columns</p>\n",
              "</div>"
            ],
            "text/plain": [
              "             Category  Type  Avg_Rating\n",
              "0      ART_AND_DESIGN  Free    4.337931\n",
              "1      ART_AND_DESIGN  Paid    4.733333\n",
              "2   AUTO_AND_VEHICLES  Free    4.198780\n",
              "3   AUTO_AND_VEHICLES  Paid    4.400000\n",
              "4              BEAUTY  Free    4.283019\n",
              "..                ...   ...         ...\n",
              "58   TRAVEL_AND_LOCAL  Paid    4.166667\n",
              "59      VIDEO_PLAYERS  Free    4.066038\n",
              "60      VIDEO_PLAYERS  Paid    4.100000\n",
              "61            WEATHER  Free    4.235211\n",
              "62            WEATHER  Paid    4.362500\n",
              "\n",
              "[63 rows x 3 columns]"
            ]
          },
          "metadata": {
            "tags": []
          },
          "execution_count": 134
        }
      ]
    },
    {
      "cell_type": "code",
      "metadata": {
        "id": "gJ44Gn3Zdzgx"
      },
      "source": [
        "# Restructuring the data\n",
        "df_rating_based_on_type = rating_based_on_type.pivot('Category', 'Type', 'Avg_Rating').fillna(0).reset_index()"
      ],
      "execution_count": 135,
      "outputs": []
    },
    {
      "cell_type": "code",
      "metadata": {
        "colab": {
          "base_uri": "https://localhost:8080/",
          "height": 204
        },
        "id": "Bl98jdwweGRN",
        "outputId": "18de5981-3e7e-4f42-ea68-4ebd22531495"
      },
      "source": [
        "df_rating_based_on_type.sort_values('Paid', ascending = False).head()"
      ],
      "execution_count": 148,
      "outputs": [
        {
          "output_type": "execute_result",
          "data": {
            "text/html": [
              "<div>\n",
              "<style scoped>\n",
              "    .dataframe tbody tr th:only-of-type {\n",
              "        vertical-align: middle;\n",
              "    }\n",
              "\n",
              "    .dataframe tbody tr th {\n",
              "        vertical-align: top;\n",
              "    }\n",
              "\n",
              "    .dataframe thead th {\n",
              "        text-align: right;\n",
              "    }\n",
              "</style>\n",
              "<table border=\"1\" class=\"dataframe\">\n",
              "  <thead>\n",
              "    <tr style=\"text-align: right;\">\n",
              "      <th>Type</th>\n",
              "      <th>Category</th>\n",
              "      <th>Free</th>\n",
              "      <th>Paid</th>\n",
              "    </tr>\n",
              "  </thead>\n",
              "  <tbody>\n",
              "    <tr>\n",
              "      <th>21</th>\n",
              "      <td>NEWS_AND_MAGAZINES</td>\n",
              "      <td>4.151587</td>\n",
              "      <td>4.800000</td>\n",
              "    </tr>\n",
              "    <tr>\n",
              "      <th>8</th>\n",
              "      <td>EDUCATION</td>\n",
              "      <td>4.342000</td>\n",
              "      <td>4.800000</td>\n",
              "    </tr>\n",
              "    <tr>\n",
              "      <th>0</th>\n",
              "      <td>ART_AND_DESIGN</td>\n",
              "      <td>4.337931</td>\n",
              "      <td>4.733333</td>\n",
              "    </tr>\n",
              "    <tr>\n",
              "      <th>9</th>\n",
              "      <td>ENTERTAINMENT</td>\n",
              "      <td>4.098701</td>\n",
              "      <td>4.600000</td>\n",
              "    </tr>\n",
              "    <tr>\n",
              "      <th>26</th>\n",
              "      <td>SHOPPING</td>\n",
              "      <td>4.235500</td>\n",
              "      <td>4.500000</td>\n",
              "    </tr>\n",
              "  </tbody>\n",
              "</table>\n",
              "</div>"
            ],
            "text/plain": [
              "Type            Category      Free      Paid\n",
              "21    NEWS_AND_MAGAZINES  4.151587  4.800000\n",
              "8              EDUCATION  4.342000  4.800000\n",
              "0         ART_AND_DESIGN  4.337931  4.733333\n",
              "9          ENTERTAINMENT  4.098701  4.600000\n",
              "26              SHOPPING  4.235500  4.500000"
            ]
          },
          "metadata": {
            "tags": []
          },
          "execution_count": 148
        }
      ]
    },
    {
      "cell_type": "markdown",
      "metadata": {
        "id": "Rrv7clM4eQ9V"
      },
      "source": [
        "#### Graph representing this information"
      ]
    },
    {
      "cell_type": "code",
      "metadata": {
        "id": "TBWYaoXDeZ9m"
      },
      "source": [
        "df_rating_based_on_type_reshaped = df_rating_based_on_type.set_index('Category')"
      ],
      "execution_count": 138,
      "outputs": []
    },
    {
      "cell_type": "code",
      "metadata": {
        "colab": {
          "base_uri": "https://localhost:8080/",
          "height": 405
        },
        "id": "AO3WmUYTerzU",
        "outputId": "f629f946-9015-4f5f-9e4f-e3c8d4d0f938"
      },
      "source": [
        "df_rating_based_on_type_reshaped.plot(figsize=(12,6) , marker = 'o')\n",
        "plt.xlabel(\"Category\")\n",
        "plt.ylabel(\"Ratings\")\n",
        "plt.title(\"Spread of Ratings across categories\")\n",
        "plt.show()"
      ],
      "execution_count": 139,
      "outputs": [
        {
          "output_type": "display_data",
          "data": {
            "image/png": "[encoded data removed]",
            "text/plain": [
              "<Figure size 864x432 with 1 Axes>"
            ]
          },
          "metadata": {
            "tags": [],
            "needs_background": "light"
          }
        }
      ]
    },
    {
      "cell_type": "markdown",
      "metadata": {
        "id": "dakz24rl67pv"
      },
      "source": [
        "### Understand count based on type of app"
      ]
    },
    {
      "cell_type": "code",
      "metadata": {
        "id": "_QtBjhnP23Hp"
      },
      "source": [
        "app_count_based_on_type = play_store.groupby(['Category','Type'])[['App']].count().reset_index().rename(columns={'App':'Count','index':'App'})\n"
      ],
      "execution_count": 55,
      "outputs": []
    },
    {
      "cell_type": "code",
      "metadata": {
        "colab": {
          "base_uri": "https://localhost:8080/",
          "height": 419
        },
        "id": "lwL3qYZJ23Nd",
        "outputId": "fbd36c67-0312-4338-c9ea-8854876fe9dc"
      },
      "source": [
        "app_count_based_on_type"
      ],
      "execution_count": 56,
      "outputs": [
        {
          "output_type": "execute_result",
          "data": {
            "text/html": [
              "<div>\n",
              "<style scoped>\n",
              "    .dataframe tbody tr th:only-of-type {\n",
              "        vertical-align: middle;\n",
              "    }\n",
              "\n",
              "    .dataframe tbody tr th {\n",
              "        vertical-align: top;\n",
              "    }\n",
              "\n",
              "    .dataframe thead th {\n",
              "        text-align: right;\n",
              "    }\n",
              "</style>\n",
              "<table border=\"1\" class=\"dataframe\">\n",
              "  <thead>\n",
              "    <tr style=\"text-align: right;\">\n",
              "      <th></th>\n",
              "      <th>Category</th>\n",
              "      <th>Type</th>\n",
              "      <th>Count</th>\n",
              "    </tr>\n",
              "  </thead>\n",
              "  <tbody>\n",
              "    <tr>\n",
              "      <th>0</th>\n",
              "      <td>ART_AND_DESIGN</td>\n",
              "      <td>Free</td>\n",
              "      <td>58</td>\n",
              "    </tr>\n",
              "    <tr>\n",
              "      <th>1</th>\n",
              "      <td>ART_AND_DESIGN</td>\n",
              "      <td>Paid</td>\n",
              "      <td>3</td>\n",
              "    </tr>\n",
              "    <tr>\n",
              "      <th>2</th>\n",
              "      <td>AUTO_AND_VEHICLES</td>\n",
              "      <td>Free</td>\n",
              "      <td>82</td>\n",
              "    </tr>\n",
              "    <tr>\n",
              "      <th>3</th>\n",
              "      <td>AUTO_AND_VEHICLES</td>\n",
              "      <td>Paid</td>\n",
              "      <td>3</td>\n",
              "    </tr>\n",
              "    <tr>\n",
              "      <th>4</th>\n",
              "      <td>BEAUTY</td>\n",
              "      <td>Free</td>\n",
              "      <td>53</td>\n",
              "    </tr>\n",
              "    <tr>\n",
              "      <th>...</th>\n",
              "      <td>...</td>\n",
              "      <td>...</td>\n",
              "      <td>...</td>\n",
              "    </tr>\n",
              "    <tr>\n",
              "      <th>58</th>\n",
              "      <td>TRAVEL_AND_LOCAL</td>\n",
              "      <td>Paid</td>\n",
              "      <td>12</td>\n",
              "    </tr>\n",
              "    <tr>\n",
              "      <th>59</th>\n",
              "      <td>VIDEO_PLAYERS</td>\n",
              "      <td>Free</td>\n",
              "      <td>159</td>\n",
              "    </tr>\n",
              "    <tr>\n",
              "      <th>60</th>\n",
              "      <td>VIDEO_PLAYERS</td>\n",
              "      <td>Paid</td>\n",
              "      <td>4</td>\n",
              "    </tr>\n",
              "    <tr>\n",
              "      <th>61</th>\n",
              "      <td>WEATHER</td>\n",
              "      <td>Free</td>\n",
              "      <td>71</td>\n",
              "    </tr>\n",
              "    <tr>\n",
              "      <th>62</th>\n",
              "      <td>WEATHER</td>\n",
              "      <td>Paid</td>\n",
              "      <td>8</td>\n",
              "    </tr>\n",
              "  </tbody>\n",
              "</table>\n",
              "<p>63 rows × 3 columns</p>\n",
              "</div>"
            ],
            "text/plain": [
              "             Category  Type  Count\n",
              "0      ART_AND_DESIGN  Free     58\n",
              "1      ART_AND_DESIGN  Paid      3\n",
              "2   AUTO_AND_VEHICLES  Free     82\n",
              "3   AUTO_AND_VEHICLES  Paid      3\n",
              "4              BEAUTY  Free     53\n",
              "..                ...   ...    ...\n",
              "58   TRAVEL_AND_LOCAL  Paid     12\n",
              "59      VIDEO_PLAYERS  Free    159\n",
              "60      VIDEO_PLAYERS  Paid      4\n",
              "61            WEATHER  Free     71\n",
              "62            WEATHER  Paid      8\n",
              "\n",
              "[63 rows x 3 columns]"
            ]
          },
          "metadata": {
            "tags": []
          },
          "execution_count": 56
        }
      ]
    },
    {
      "cell_type": "code",
      "metadata": {
        "id": "b37H6t2W23Vu"
      },
      "source": [
        "# Restructuring the data\n",
        "df_app_count_by_type = app_count_based_on_type.pivot('Category', 'Type', 'Count').fillna(0).reset_index()\n"
      ],
      "execution_count": 62,
      "outputs": []
    },
    {
      "cell_type": "markdown",
      "metadata": {
        "id": "yEjLic4480KI"
      },
      "source": [
        "### Top 5 Categories with free apps"
      ]
    },
    {
      "cell_type": "code",
      "metadata": {
        "colab": {
          "base_uri": "https://localhost:8080/",
          "height": 204
        },
        "id": "jZ_gZsQ423b4",
        "outputId": "548263d9-9dae-4c7a-c0e9-dad35926f058"
      },
      "source": [
        "df_app_count_by_type.sort_values('Free',ascending = False ).head()"
      ],
      "execution_count": 101,
      "outputs": [
        {
          "output_type": "execute_result",
          "data": {
            "text/html": [
              "<div>\n",
              "<style scoped>\n",
              "    .dataframe tbody tr th:only-of-type {\n",
              "        vertical-align: middle;\n",
              "    }\n",
              "\n",
              "    .dataframe tbody tr th {\n",
              "        vertical-align: top;\n",
              "    }\n",
              "\n",
              "    .dataframe thead th {\n",
              "        text-align: right;\n",
              "    }\n",
              "</style>\n",
              "<table border=\"1\" class=\"dataframe\">\n",
              "  <thead>\n",
              "    <tr style=\"text-align: right;\">\n",
              "      <th>Type</th>\n",
              "      <th>Category</th>\n",
              "      <th>Free</th>\n",
              "      <th>Paid</th>\n",
              "    </tr>\n",
              "  </thead>\n",
              "  <tbody>\n",
              "    <tr>\n",
              "      <th>11</th>\n",
              "      <td>FAMILY</td>\n",
              "      <td>1721.0</td>\n",
              "      <td>185.0</td>\n",
              "    </tr>\n",
              "    <tr>\n",
              "      <th>14</th>\n",
              "      <td>GAME</td>\n",
              "      <td>844.0</td>\n",
              "      <td>82.0</td>\n",
              "    </tr>\n",
              "    <tr>\n",
              "      <th>29</th>\n",
              "      <td>TOOLS</td>\n",
              "      <td>751.0</td>\n",
              "      <td>78.0</td>\n",
              "    </tr>\n",
              "    <tr>\n",
              "      <th>4</th>\n",
              "      <td>BUSINESS</td>\n",
              "      <td>407.0</td>\n",
              "      <td>12.0</td>\n",
              "    </tr>\n",
              "    <tr>\n",
              "      <th>18</th>\n",
              "      <td>LIFESTYLE</td>\n",
              "      <td>350.0</td>\n",
              "      <td>19.0</td>\n",
              "    </tr>\n",
              "  </tbody>\n",
              "</table>\n",
              "</div>"
            ],
            "text/plain": [
              "Type   Category    Free   Paid\n",
              "11       FAMILY  1721.0  185.0\n",
              "14         GAME   844.0   82.0\n",
              "29        TOOLS   751.0   78.0\n",
              "4      BUSINESS   407.0   12.0\n",
              "18    LIFESTYLE   350.0   19.0"
            ]
          },
          "metadata": {
            "tags": []
          },
          "execution_count": 101
        }
      ]
    },
    {
      "cell_type": "markdown",
      "metadata": {
        "id": "PB3m_I5K86nv"
      },
      "source": [
        "### Top 5 Categories with paid apps"
      ]
    },
    {
      "cell_type": "code",
      "metadata": {
        "id": "DwwoQO3723h3"
      },
      "source": [
        "top_paid_apps_categories = df_app_count_by_type.sort_values('Paid',ascending = False )"
      ],
      "execution_count": 118,
      "outputs": []
    },
    {
      "cell_type": "code",
      "metadata": {
        "colab": {
          "base_uri": "https://localhost:8080/",
          "height": 204
        },
        "id": "sW55v74KAOUJ",
        "outputId": "824afdea-1714-4b54-b82e-da912607c3a0"
      },
      "source": [
        "top_paid_apps_categories.head(5)"
      ],
      "execution_count": 113,
      "outputs": [
        {
          "output_type": "execute_result",
          "data": {
            "text/html": [
              "<div>\n",
              "<style scoped>\n",
              "    .dataframe tbody tr th:only-of-type {\n",
              "        vertical-align: middle;\n",
              "    }\n",
              "\n",
              "    .dataframe tbody tr th {\n",
              "        vertical-align: top;\n",
              "    }\n",
              "\n",
              "    .dataframe thead th {\n",
              "        text-align: right;\n",
              "    }\n",
              "</style>\n",
              "<table border=\"1\" class=\"dataframe\">\n",
              "  <thead>\n",
              "    <tr style=\"text-align: right;\">\n",
              "      <th>Type</th>\n",
              "      <th>Category</th>\n",
              "      <th>Free</th>\n",
              "      <th>Paid</th>\n",
              "    </tr>\n",
              "  </thead>\n",
              "  <tbody>\n",
              "    <tr>\n",
              "      <th>11</th>\n",
              "      <td>FAMILY</td>\n",
              "      <td>1721.0</td>\n",
              "      <td>185.0</td>\n",
              "    </tr>\n",
              "    <tr>\n",
              "      <th>20</th>\n",
              "      <td>MEDICAL</td>\n",
              "      <td>314.0</td>\n",
              "      <td>82.0</td>\n",
              "    </tr>\n",
              "    <tr>\n",
              "      <th>14</th>\n",
              "      <td>GAME</td>\n",
              "      <td>844.0</td>\n",
              "      <td>82.0</td>\n",
              "    </tr>\n",
              "    <tr>\n",
              "      <th>23</th>\n",
              "      <td>PERSONALIZATION</td>\n",
              "      <td>295.0</td>\n",
              "      <td>81.0</td>\n",
              "    </tr>\n",
              "    <tr>\n",
              "      <th>29</th>\n",
              "      <td>TOOLS</td>\n",
              "      <td>751.0</td>\n",
              "      <td>78.0</td>\n",
              "    </tr>\n",
              "  </tbody>\n",
              "</table>\n",
              "</div>"
            ],
            "text/plain": [
              "Type         Category    Free   Paid\n",
              "11             FAMILY  1721.0  185.0\n",
              "20            MEDICAL   314.0   82.0\n",
              "14               GAME   844.0   82.0\n",
              "23    PERSONALIZATION   295.0   81.0\n",
              "29              TOOLS   751.0   78.0"
            ]
          },
          "metadata": {
            "tags": []
          },
          "execution_count": 113
        }
      ]
    },
    {
      "cell_type": "code",
      "metadata": {
        "id": "FmOQYyun-fb_"
      },
      "source": [
        "categ_graph = top_paid_apps_categories.set_index('Category')"
      ],
      "execution_count": 75,
      "outputs": []
    },
    {
      "cell_type": "markdown",
      "metadata": {
        "id": "xZGoc4g09Ex-"
      },
      "source": [
        "### Visualization of the above info"
      ]
    },
    {
      "cell_type": "code",
      "metadata": {
        "colab": {
          "base_uri": "https://localhost:8080/",
          "height": 520
        },
        "id": "BzZuaa_L23oD",
        "outputId": "56c4d908-ab9f-4d01-d9f7-8828c0edeaae"
      },
      "source": [
        "df_app_count_by_type.set_index('Category').plot(kind='bar', figsize=(12,6))\n",
        "plt.xlabel(\"Category\")\n",
        "plt.ylabel(\"Count\")\n",
        "plt.title(\"Count of Apps of based on their Type\")\n",
        "plt.show()"
      ],
      "execution_count": 65,
      "outputs": [
        {
          "output_type": "display_data",
          "data": {
            "image/png": "[encoded data removed]",
            "text/plain": [
              "<Figure size 864x432 with 1 Axes>"
            ]
          },
          "metadata": {
            "tags": [],
            "needs_background": "light"
          }
        }
      ]
    },
    {
      "cell_type": "code",
      "metadata": {
        "colab": {
          "base_uri": "https://localhost:8080/",
          "height": 487
        },
        "id": "PXfGl3_L23uB",
        "outputId": "8c6f76b9-0b9f-42c9-a287-2b206b41c747"
      },
      "source": [
        "categ_graph['Paid'].plot(kind='bar', figsize=(12,6) , color = 'darkkhaki')\n",
        "plt.xlabel(\"Category\")\n",
        "plt.ylabel(\"Count\")\n",
        "plt.title(\"Categories with most paid apps\")\n",
        "plt.show()"
      ],
      "execution_count": 132,
      "outputs": [
        {
          "output_type": "display_data",
          "data": {
            "image/png": "[encoded data removed]",
            "text/plain": [
              "<Figure size 864x432 with 1 Axes>"
            ]
          },
          "metadata": {
            "tags": [],
            "needs_background": "light"
          }
        }
      ]
    },
    {
      "cell_type": "markdown",
      "metadata": {
        "id": "T3-nzM8GDytX"
      },
      "source": [
        "### Understanding the Category wise pricing "
      ]
    },
    {
      "cell_type": "code",
      "metadata": {
        "id": "lXP8rnMW24Gy"
      },
      "source": [
        "category_wise_pricing = play_store.groupby(['Category'])[['Price']].sum().reset_index().rename(columns={'index':'App'})\n"
      ],
      "execution_count": 119,
      "outputs": []
    },
    {
      "cell_type": "code",
      "metadata": {
        "colab": {
          "base_uri": "https://localhost:8080/",
          "height": 235
        },
        "id": "kwHNqatFPu0f",
        "outputId": "9f9db837-4aa6-4060-f119-5c7a685e9d7c"
      },
      "source": [
        "category_wise_pricing.sort_values('Price', ascending = False).head(5)"
      ],
      "execution_count": 122,
      "outputs": [
        {
          "output_type": "execute_result",
          "data": {
            "text/html": [
              "<div>\n",
              "<style scoped>\n",
              "    .dataframe tbody tr th:only-of-type {\n",
              "        vertical-align: middle;\n",
              "    }\n",
              "\n",
              "    .dataframe tbody tr th {\n",
              "        vertical-align: top;\n",
              "    }\n",
              "\n",
              "    .dataframe thead th {\n",
              "        text-align: right;\n",
              "    }\n",
              "</style>\n",
              "<table border=\"1\" class=\"dataframe\">\n",
              "  <thead>\n",
              "    <tr style=\"text-align: right;\">\n",
              "      <th></th>\n",
              "      <th>Price</th>\n",
              "    </tr>\n",
              "    <tr>\n",
              "      <th>Category</th>\n",
              "      <th></th>\n",
              "    </tr>\n",
              "  </thead>\n",
              "  <tbody>\n",
              "    <tr>\n",
              "      <th>FINANCE</th>\n",
              "      <td>2900.83</td>\n",
              "    </tr>\n",
              "    <tr>\n",
              "      <th>FAMILY</th>\n",
              "      <td>2409.84</td>\n",
              "    </tr>\n",
              "    <tr>\n",
              "      <th>LIFESTYLE</th>\n",
              "      <td>2360.87</td>\n",
              "    </tr>\n",
              "    <tr>\n",
              "      <th>MEDICAL</th>\n",
              "      <td>982.71</td>\n",
              "    </tr>\n",
              "    <tr>\n",
              "      <th>GAME</th>\n",
              "      <td>284.31</td>\n",
              "    </tr>\n",
              "  </tbody>\n",
              "</table>\n",
              "</div>"
            ],
            "text/plain": [
              "             Price\n",
              "Category          \n",
              "FINANCE    2900.83\n",
              "FAMILY     2409.84\n",
              "LIFESTYLE  2360.87\n",
              "MEDICAL     982.71\n",
              "GAME        284.31"
            ]
          },
          "metadata": {
            "tags": []
          },
          "execution_count": 122
        }
      ]
    },
    {
      "cell_type": "code",
      "metadata": {
        "id": "pbnbzm-X24Ma"
      },
      "source": [
        "category_wise_pricing = category_wise_pricing.set_index('Category')"
      ],
      "execution_count": 120,
      "outputs": []
    },
    {
      "cell_type": "code",
      "metadata": {
        "colab": {
          "base_uri": "https://localhost:8080/",
          "height": 405
        },
        "id": "oW0bUold24SL",
        "outputId": "559269b7-c62f-4d0d-d902-95cf134d04aa"
      },
      "source": [
        "category_wise_pricing.plot(color = 'purple' ,marker = 'o', figsize=(18,6))\n",
        "plt.xlabel(\"Category\")\n",
        "plt.ylabel(\"Price Aggregate\")\n",
        "plt.title(\"Categories making most money\")\n",
        "plt.show()"
      ],
      "execution_count": 121,
      "outputs": [
        {
          "output_type": "display_data",
          "data": {
            "image/png": "[encoded data removed]",
            "text/plain": [
              "<Figure size 1296x432 with 1 Axes>"
            ]
          },
          "metadata": {
            "tags": [],
            "needs_background": "light"
          }
        }
      ]
    },
    {
      "cell_type": "code",
      "metadata": {
        "id": "HSMbdNdT24j4"
      },
      "source": [
        ""
      ],
      "execution_count": null,
      "outputs": []
    },
    {
      "cell_type": "code",
      "metadata": {
        "id": "P5iX5_rd241F"
      },
      "source": [
        ""
      ],
      "execution_count": null,
      "outputs": []
    },
    {
      "cell_type": "markdown",
      "metadata": {
        "id": "ek3jlyYkQErt"
      },
      "source": [
        "#### Top 5 Apps based on Ratings"
      ]
    },
    {
      "cell_type": "code",
      "metadata": {
        "colab": {
          "base_uri": "https://localhost:8080/",
          "height": 204
        },
        "id": "8oFMHF6CG64X",
        "outputId": "1da9aa63-5282-40a8-ac14-a5650196ac4d"
      },
      "source": [
        "play_store[['App','Category','Rating']].sort_values(by=['Rating'], ascending = False).head(5)"
      ],
      "execution_count": 43,
      "outputs": [
        {
          "output_type": "execute_result",
          "data": {
            "text/html": [
              "<div>\n",
              "<style scoped>\n",
              "    .dataframe tbody tr th:only-of-type {\n",
              "        vertical-align: middle;\n",
              "    }\n",
              "\n",
              "    .dataframe tbody tr th {\n",
              "        vertical-align: top;\n",
              "    }\n",
              "\n",
              "    .dataframe thead th {\n",
              "        text-align: right;\n",
              "    }\n",
              "</style>\n",
              "<table border=\"1\" class=\"dataframe\">\n",
              "  <thead>\n",
              "    <tr style=\"text-align: right;\">\n",
              "      <th></th>\n",
              "      <th>App</th>\n",
              "      <th>Category</th>\n",
              "      <th>Rating</th>\n",
              "    </tr>\n",
              "  </thead>\n",
              "  <tbody>\n",
              "    <tr>\n",
              "      <th>7405</th>\n",
              "      <td>Nur təfsiri 1-ci cild</td>\n",
              "      <td>LIBRARIES_AND_DEMO</td>\n",
              "      <td>5.0</td>\n",
              "    </tr>\n",
              "    <tr>\n",
              "      <th>7321</th>\n",
              "      <td>CG Jobs</td>\n",
              "      <td>FAMILY</td>\n",
              "      <td>5.0</td>\n",
              "    </tr>\n",
              "    <tr>\n",
              "      <th>9427</th>\n",
              "      <td>ei Calc</td>\n",
              "      <td>TOOLS</td>\n",
              "      <td>5.0</td>\n",
              "    </tr>\n",
              "    <tr>\n",
              "      <th>5776</th>\n",
              "      <td>Food-Aw - Order Food Online in Aruba</td>\n",
              "      <td>FOOD_AND_DRINK</td>\n",
              "      <td>5.0</td>\n",
              "    </tr>\n",
              "    <tr>\n",
              "      <th>7320</th>\n",
              "      <td>CG - Chemistry free</td>\n",
              "      <td>FAMILY</td>\n",
              "      <td>5.0</td>\n",
              "    </tr>\n",
              "  </tbody>\n",
              "</table>\n",
              "</div>"
            ],
            "text/plain": [
              "                                       App            Category  Rating\n",
              "7405                 Nur təfsiri 1-ci cild  LIBRARIES_AND_DEMO     5.0\n",
              "7321                               CG Jobs              FAMILY     5.0\n",
              "9427                               ei Calc               TOOLS     5.0\n",
              "5776  Food-Aw - Order Food Online in Aruba      FOOD_AND_DRINK     5.0\n",
              "7320                   CG - Chemistry free              FAMILY     5.0"
            ]
          },
          "metadata": {
            "tags": []
          },
          "execution_count": 43
        }
      ]
    },
    {
      "cell_type": "markdown",
      "metadata": {
        "id": "ptwQVNt8QFwH"
      },
      "source": [
        "#### Top 5 Apps based on Reviews"
      ]
    },
    {
      "cell_type": "code",
      "metadata": {
        "colab": {
          "base_uri": "https://localhost:8080/",
          "height": 204
        },
        "id": "6G64mGMRG69P",
        "outputId": "b833af24-a0f5-4d53-9c43-bbdb8224afba"
      },
      "source": [
        "play_store[['App','Category','Reviews']].sort_values(by=['Reviews'], ascending = False).head(5)"
      ],
      "execution_count": 44,
      "outputs": [
        {
          "output_type": "execute_result",
          "data": {
            "text/html": [
              "<div>\n",
              "<style scoped>\n",
              "    .dataframe tbody tr th:only-of-type {\n",
              "        vertical-align: middle;\n",
              "    }\n",
              "\n",
              "    .dataframe tbody tr th {\n",
              "        vertical-align: top;\n",
              "    }\n",
              "\n",
              "    .dataframe thead th {\n",
              "        text-align: right;\n",
              "    }\n",
              "</style>\n",
              "<table border=\"1\" class=\"dataframe\">\n",
              "  <thead>\n",
              "    <tr style=\"text-align: right;\">\n",
              "      <th></th>\n",
              "      <th>App</th>\n",
              "      <th>Category</th>\n",
              "      <th>Reviews</th>\n",
              "    </tr>\n",
              "  </thead>\n",
              "  <tbody>\n",
              "    <tr>\n",
              "      <th>3943</th>\n",
              "      <td>Facebook</td>\n",
              "      <td>SOCIAL</td>\n",
              "      <td>78128208</td>\n",
              "    </tr>\n",
              "    <tr>\n",
              "      <th>3904</th>\n",
              "      <td>WhatsApp Messenger</td>\n",
              "      <td>COMMUNICATION</td>\n",
              "      <td>69109672</td>\n",
              "    </tr>\n",
              "    <tr>\n",
              "      <th>3909</th>\n",
              "      <td>Instagram</td>\n",
              "      <td>SOCIAL</td>\n",
              "      <td>66509917</td>\n",
              "    </tr>\n",
              "    <tr>\n",
              "      <th>4104</th>\n",
              "      <td>Messenger – Text and Video Chat for Free</td>\n",
              "      <td>COMMUNICATION</td>\n",
              "      <td>56642847</td>\n",
              "    </tr>\n",
              "    <tr>\n",
              "      <th>3986</th>\n",
              "      <td>Clash of Clans</td>\n",
              "      <td>FAMILY</td>\n",
              "      <td>44881447</td>\n",
              "    </tr>\n",
              "  </tbody>\n",
              "</table>\n",
              "</div>"
            ],
            "text/plain": [
              "                                           App       Category   Reviews\n",
              "3943                                  Facebook         SOCIAL  78128208\n",
              "3904                        WhatsApp Messenger  COMMUNICATION  69109672\n",
              "3909                                 Instagram         SOCIAL  66509917\n",
              "4104  Messenger – Text and Video Chat for Free  COMMUNICATION  56642847\n",
              "3986                            Clash of Clans         FAMILY  44881447"
            ]
          },
          "metadata": {
            "tags": []
          },
          "execution_count": 44
        }
      ]
    },
    {
      "cell_type": "markdown",
      "metadata": {
        "id": "zcvrNgriQINu"
      },
      "source": [
        "#### Top 5 Apps based on Installations Done"
      ]
    },
    {
      "cell_type": "code",
      "metadata": {
        "colab": {
          "base_uri": "https://localhost:8080/",
          "height": 204
        },
        "id": "IV5luZ9xG7DH",
        "outputId": "2e99eb52-d192-4b7e-b347-a1152a47ef7e"
      },
      "source": [
        "play_store[['App','Category','Installs']].sort_values(by=['Installs'], ascending = False).head(5)"
      ],
      "execution_count": 45,
      "outputs": [
        {
          "output_type": "execute_result",
          "data": {
            "text/html": [
              "<div>\n",
              "<style scoped>\n",
              "    .dataframe tbody tr th:only-of-type {\n",
              "        vertical-align: middle;\n",
              "    }\n",
              "\n",
              "    .dataframe tbody tr th {\n",
              "        vertical-align: top;\n",
              "    }\n",
              "\n",
              "    .dataframe thead th {\n",
              "        text-align: right;\n",
              "    }\n",
              "</style>\n",
              "<table border=\"1\" class=\"dataframe\">\n",
              "  <thead>\n",
              "    <tr style=\"text-align: right;\">\n",
              "      <th></th>\n",
              "      <th>App</th>\n",
              "      <th>Category</th>\n",
              "      <th>Installs</th>\n",
              "    </tr>\n",
              "  </thead>\n",
              "  <tbody>\n",
              "    <tr>\n",
              "      <th>4153</th>\n",
              "      <td>Hangouts</td>\n",
              "      <td>COMMUNICATION</td>\n",
              "      <td>1000000000</td>\n",
              "    </tr>\n",
              "    <tr>\n",
              "      <th>9844</th>\n",
              "      <td>Google News</td>\n",
              "      <td>NEWS_AND_MAGAZINES</td>\n",
              "      <td>1000000000</td>\n",
              "    </tr>\n",
              "    <tr>\n",
              "      <th>4104</th>\n",
              "      <td>Messenger – Text and Video Chat for Free</td>\n",
              "      <td>COMMUNICATION</td>\n",
              "      <td>1000000000</td>\n",
              "    </tr>\n",
              "    <tr>\n",
              "      <th>4234</th>\n",
              "      <td>Skype - free IM &amp; video calls</td>\n",
              "      <td>COMMUNICATION</td>\n",
              "      <td>1000000000</td>\n",
              "    </tr>\n",
              "    <tr>\n",
              "      <th>3928</th>\n",
              "      <td>YouTube</td>\n",
              "      <td>VIDEO_PLAYERS</td>\n",
              "      <td>1000000000</td>\n",
              "    </tr>\n",
              "  </tbody>\n",
              "</table>\n",
              "</div>"
            ],
            "text/plain": [
              "                                           App            Category    Installs\n",
              "4153                                  Hangouts       COMMUNICATION  1000000000\n",
              "9844                               Google News  NEWS_AND_MAGAZINES  1000000000\n",
              "4104  Messenger – Text and Video Chat for Free       COMMUNICATION  1000000000\n",
              "4234             Skype - free IM & video calls       COMMUNICATION  1000000000\n",
              "3928                                   YouTube       VIDEO_PLAYERS  1000000000"
            ]
          },
          "metadata": {
            "tags": []
          },
          "execution_count": 45
        }
      ]
    },
    {
      "cell_type": "markdown",
      "metadata": {
        "id": "GdydJiVFL8g6"
      },
      "source": [
        "## Doing some visualizations based on the Analysis"
      ]
    },
    {
      "cell_type": "markdown",
      "metadata": {
        "id": "rS_TTf7TMN31"
      },
      "source": [
        "#### Plotting the count of apps based on categories\n",
        "\n",
        "\n",
        "\n"
      ]
    },
    {
      "cell_type": "code",
      "metadata": {
        "colab": {
          "base_uri": "https://localhost:8080/",
          "height": 782
        },
        "id": "NUTGUIHEMFiq",
        "outputId": "6403a8b0-88bd-4edb-8a3e-c72238683a07"
      },
      "source": [
        "ax = Category_df['Num_Apps'].plot(kind='bar', title =\"Count of Apps based on their categories\", figsize=(15, 10), legend=True, fontsize=12)\n",
        "ax.set_xlabel(\"Category\",fontsize=12)\n",
        "ax.set_ylabel(\"No of apps\",fontsize=12)"
      ],
      "execution_count": 46,
      "outputs": [
        {
          "output_type": "execute_result",
          "data": {
            "text/plain": [
              "Text(0, 0.5, 'No of apps')"
            ]
          },
          "metadata": {
            "tags": []
          },
          "execution_count": 46
        },
        {
          "output_type": "display_data",
          "data": {
            "image/png": "[encoded data removed]",
            "text/plain": [
              "<Figure size 1080x720 with 1 Axes>"
            ]
          },
          "metadata": {
            "tags": [],
            "needs_background": "light"
          }
        }
      ]
    },
    {
      "cell_type": "markdown",
      "metadata": {
        "id": "EFSxJ0ueNu05"
      },
      "source": [
        "#### Plotting the Apps based on installations in each categories\n"
      ]
    },
    {
      "cell_type": "code",
      "metadata": {
        "colab": {
          "base_uri": "https://localhost:8080/",
          "height": 782
        },
        "id": "nwo5vfQQN7jD",
        "outputId": "08f88b7f-f314-44e1-d06a-10e8ef9cc942"
      },
      "source": [
        "ax = Category_df['Total_installs'].plot(kind='bar', title =\"Installtion data of each category\", figsize=(15, 10), fontsize=12)\n",
        "ax.set_xlabel(\"Category\",fontsize=12)\n",
        "ax.set_ylabel(\"No of installations\",fontsize=12)"
      ],
      "execution_count": 47,
      "outputs": [
        {
          "output_type": "execute_result",
          "data": {
            "text/plain": [
              "Text(0, 0.5, 'No of installations')"
            ]
          },
          "metadata": {
            "tags": []
          },
          "execution_count": 47
        },
        {
          "output_type": "display_data",
          "data": {
            "image/png": "[encoded data removed]",
            "text/plain": [
              "<Figure size 1080x720 with 1 Axes>"
            ]
          },
          "metadata": {
            "tags": [],
            "needs_background": "light"
          }
        }
      ]
    },
    {
      "cell_type": "markdown",
      "metadata": {
        "id": "TuAqsG1yZXUR"
      },
      "source": [
        ""
      ]
    },
    {
      "cell_type": "code",
      "metadata": {
        "colab": {
          "base_uri": "https://localhost:8080/",
          "height": 645
        },
        "id": "q2lPI3rwZpcC",
        "outputId": "4f749131-9958-4352-9f65-f9356494b682"
      },
      "source": [
        "ax = Category_df['Avg_Size(MB)'].plot(kind='hist', title =\"The analysis of size of apps\", figsize=(15, 10), fontsize=12)\n",
        "ax.set_xlabel(\"Category\",fontsize=12)\n",
        "ax.set_ylabel(\"Size\",fontsize=12)\n"
      ],
      "execution_count": 48,
      "outputs": [
        {
          "output_type": "execute_result",
          "data": {
            "text/plain": [
              "Text(0, 0.5, 'Size')"
            ]
          },
          "metadata": {
            "tags": []
          },
          "execution_count": 48
        },
        {
          "output_type": "display_data",
          "data": {
            "image/png": "[encoded data removed]",
            "text/plain": [
              "<Figure size 1080x720 with 1 Axes>"
            ]
          },
          "metadata": {
            "tags": [],
            "needs_background": "light"
          }
        }
      ]
    },
    {
      "cell_type": "markdown",
      "metadata": {
        "id": "iac2KDx07Ptb"
      },
      "source": [
        "## Understanding the User Reviews Data"
      ]
    },
    {
      "cell_type": "code",
      "metadata": {
        "colab": {
          "base_uri": "https://localhost:8080/",
          "height": 204
        },
        "id": "M5jst7fPG7KI",
        "outputId": "6e55056b-8c53-4be2-8700-998d59570425"
      },
      "source": [
        "# User Review  Data\n",
        "user_reviews_df.head()"
      ],
      "execution_count": 49,
      "outputs": [
        {
          "output_type": "execute_result",
          "data": {
            "text/html": [
              "<div>\n",
              "<style scoped>\n",
              "    .dataframe tbody tr th:only-of-type {\n",
              "        vertical-align: middle;\n",
              "    }\n",
              "\n",
              "    .dataframe tbody tr th {\n",
              "        vertical-align: top;\n",
              "    }\n",
              "\n",
              "    .dataframe thead th {\n",
              "        text-align: right;\n",
              "    }\n",
              "</style>\n",
              "<table border=\"1\" class=\"dataframe\">\n",
              "  <thead>\n",
              "    <tr style=\"text-align: right;\">\n",
              "      <th></th>\n",
              "      <th>App</th>\n",
              "      <th>Translated_Review</th>\n",
              "      <th>Sentiment</th>\n",
              "      <th>Sentiment_Polarity</th>\n",
              "      <th>Sentiment_Subjectivity</th>\n",
              "    </tr>\n",
              "  </thead>\n",
              "  <tbody>\n",
              "    <tr>\n",
              "      <th>0</th>\n",
              "      <td>10 Best Foods for You</td>\n",
              "      <td>I like eat delicious food. That's I'm cooking ...</td>\n",
              "      <td>Positive</td>\n",
              "      <td>1.00</td>\n",
              "      <td>0.533333</td>\n",
              "    </tr>\n",
              "    <tr>\n",
              "      <th>1</th>\n",
              "      <td>10 Best Foods for You</td>\n",
              "      <td>This help eating healthy exercise regular basis</td>\n",
              "      <td>Positive</td>\n",
              "      <td>0.25</td>\n",
              "      <td>0.288462</td>\n",
              "    </tr>\n",
              "    <tr>\n",
              "      <th>2</th>\n",
              "      <td>10 Best Foods for You</td>\n",
              "      <td>NaN</td>\n",
              "      <td>NaN</td>\n",
              "      <td>NaN</td>\n",
              "      <td>NaN</td>\n",
              "    </tr>\n",
              "    <tr>\n",
              "      <th>3</th>\n",
              "      <td>10 Best Foods for You</td>\n",
              "      <td>Works great especially going grocery store</td>\n",
              "      <td>Positive</td>\n",
              "      <td>0.40</td>\n",
              "      <td>0.875000</td>\n",
              "    </tr>\n",
              "    <tr>\n",
              "      <th>4</th>\n",
              "      <td>10 Best Foods for You</td>\n",
              "      <td>Best idea us</td>\n",
              "      <td>Positive</td>\n",
              "      <td>1.00</td>\n",
              "      <td>0.300000</td>\n",
              "    </tr>\n",
              "  </tbody>\n",
              "</table>\n",
              "</div>"
            ],
            "text/plain": [
              "                     App  ... Sentiment_Subjectivity\n",
              "0  10 Best Foods for You  ...               0.533333\n",
              "1  10 Best Foods for You  ...               0.288462\n",
              "2  10 Best Foods for You  ...                    NaN\n",
              "3  10 Best Foods for You  ...               0.875000\n",
              "4  10 Best Foods for You  ...               0.300000\n",
              "\n",
              "[5 rows x 5 columns]"
            ]
          },
          "metadata": {
            "tags": []
          },
          "execution_count": 49
        }
      ]
    },
    {
      "cell_type": "code",
      "metadata": {
        "colab": {
          "base_uri": "https://localhost:8080/"
        },
        "id": "U-3TEmwnG7OY",
        "outputId": "ebc39534-06d7-4cb7-c324-0dc6860e4be4"
      },
      "source": [
        "user_reviews_df.info()"
      ],
      "execution_count": 50,
      "outputs": [
        {
          "output_type": "stream",
          "text": [
            "<class 'pandas.core.frame.DataFrame'>\n",
            "RangeIndex: 64295 entries, 0 to 64294\n",
            "Data columns (total 5 columns):\n",
            " #   Column                  Non-Null Count  Dtype  \n",
            "---  ------                  --------------  -----  \n",
            " 0   App                     64295 non-null  object \n",
            " 1   Translated_Review       37427 non-null  object \n",
            " 2   Sentiment               37432 non-null  object \n",
            " 3   Sentiment_Polarity      37432 non-null  float64\n",
            " 4   Sentiment_Subjectivity  37432 non-null  float64\n",
            "dtypes: float64(2), object(3)\n",
            "memory usage: 2.5+ MB\n"
          ],
          "name": "stdout"
        }
      ]
    },
    {
      "cell_type": "code",
      "metadata": {
        "colab": {
          "base_uri": "https://localhost:8080/",
          "height": 297
        },
        "id": "Lx8aqqyzG7Uw",
        "outputId": "f473f055-50ee-4daa-917b-36e119b36999"
      },
      "source": [
        "user_reviews_df.describe()"
      ],
      "execution_count": 51,
      "outputs": [
        {
          "output_type": "execute_result",
          "data": {
            "text/html": [
              "<div>\n",
              "<style scoped>\n",
              "    .dataframe tbody tr th:only-of-type {\n",
              "        vertical-align: middle;\n",
              "    }\n",
              "\n",
              "    .dataframe tbody tr th {\n",
              "        vertical-align: top;\n",
              "    }\n",
              "\n",
              "    .dataframe thead th {\n",
              "        text-align: right;\n",
              "    }\n",
              "</style>\n",
              "<table border=\"1\" class=\"dataframe\">\n",
              "  <thead>\n",
              "    <tr style=\"text-align: right;\">\n",
              "      <th></th>\n",
              "      <th>Sentiment_Polarity</th>\n",
              "      <th>Sentiment_Subjectivity</th>\n",
              "    </tr>\n",
              "  </thead>\n",
              "  <tbody>\n",
              "    <tr>\n",
              "      <th>count</th>\n",
              "      <td>37432.000000</td>\n",
              "      <td>37432.000000</td>\n",
              "    </tr>\n",
              "    <tr>\n",
              "      <th>mean</th>\n",
              "      <td>0.182146</td>\n",
              "      <td>0.492704</td>\n",
              "    </tr>\n",
              "    <tr>\n",
              "      <th>std</th>\n",
              "      <td>0.351301</td>\n",
              "      <td>0.259949</td>\n",
              "    </tr>\n",
              "    <tr>\n",
              "      <th>min</th>\n",
              "      <td>-1.000000</td>\n",
              "      <td>0.000000</td>\n",
              "    </tr>\n",
              "    <tr>\n",
              "      <th>25%</th>\n",
              "      <td>0.000000</td>\n",
              "      <td>0.357143</td>\n",
              "    </tr>\n",
              "    <tr>\n",
              "      <th>50%</th>\n",
              "      <td>0.150000</td>\n",
              "      <td>0.514286</td>\n",
              "    </tr>\n",
              "    <tr>\n",
              "      <th>75%</th>\n",
              "      <td>0.400000</td>\n",
              "      <td>0.650000</td>\n",
              "    </tr>\n",
              "    <tr>\n",
              "      <th>max</th>\n",
              "      <td>1.000000</td>\n",
              "      <td>1.000000</td>\n",
              "    </tr>\n",
              "  </tbody>\n",
              "</table>\n",
              "</div>"
            ],
            "text/plain": [
              "       Sentiment_Polarity  Sentiment_Subjectivity\n",
              "count        37432.000000            37432.000000\n",
              "mean             0.182146                0.492704\n",
              "std              0.351301                0.259949\n",
              "min             -1.000000                0.000000\n",
              "25%              0.000000                0.357143\n",
              "50%              0.150000                0.514286\n",
              "75%              0.400000                0.650000\n",
              "max              1.000000                1.000000"
            ]
          },
          "metadata": {
            "tags": []
          },
          "execution_count": 51
        }
      ]
    },
    {
      "cell_type": "code",
      "metadata": {
        "colab": {
          "base_uri": "https://localhost:8080/",
          "height": 35
        },
        "id": "r9AMtfpx9xN6",
        "outputId": "ba1a57c7-f554-471b-9c21-6e4b6047eb88"
      },
      "source": [
        "user_reviews_df.loc[0,'App']"
      ],
      "execution_count": 52,
      "outputs": [
        {
          "output_type": "execute_result",
          "data": {
            "application/vnd.google.colaboratory.intrinsic+json": {
              "type": "string"
            },
            "text/plain": [
              "'10 Best Foods for You'"
            ]
          },
          "metadata": {
            "tags": []
          },
          "execution_count": 52
        }
      ]
    },
    {
      "cell_type": "code",
      "metadata": {
        "colab": {
          "base_uri": "https://localhost:8080/",
          "height": 419
        },
        "id": "PaXOIFi1G7W1",
        "outputId": "cee0ba76-437d-4ea3-85ed-31152909dcf1"
      },
      "source": [
        "user_reviews_df[user_reviews_df['App'] == '10 Best Foods for You']"
      ],
      "execution_count": 53,
      "outputs": [
        {
          "output_type": "execute_result",
          "data": {
            "text/html": [
              "<div>\n",
              "<style scoped>\n",
              "    .dataframe tbody tr th:only-of-type {\n",
              "        vertical-align: middle;\n",
              "    }\n",
              "\n",
              "    .dataframe tbody tr th {\n",
              "        vertical-align: top;\n",
              "    }\n",
              "\n",
              "    .dataframe thead th {\n",
              "        text-align: right;\n",
              "    }\n",
              "</style>\n",
              "<table border=\"1\" class=\"dataframe\">\n",
              "  <thead>\n",
              "    <tr style=\"text-align: right;\">\n",
              "      <th></th>\n",
              "      <th>App</th>\n",
              "      <th>Translated_Review</th>\n",
              "      <th>Sentiment</th>\n",
              "      <th>Sentiment_Polarity</th>\n",
              "      <th>Sentiment_Subjectivity</th>\n",
              "    </tr>\n",
              "  </thead>\n",
              "  <tbody>\n",
              "    <tr>\n",
              "      <th>0</th>\n",
              "      <td>10 Best Foods for You</td>\n",
              "      <td>I like eat delicious food. That's I'm cooking ...</td>\n",
              "      <td>Positive</td>\n",
              "      <td>1.000000</td>\n",
              "      <td>0.533333</td>\n",
              "    </tr>\n",
              "    <tr>\n",
              "      <th>1</th>\n",
              "      <td>10 Best Foods for You</td>\n",
              "      <td>This help eating healthy exercise regular basis</td>\n",
              "      <td>Positive</td>\n",
              "      <td>0.250000</td>\n",
              "      <td>0.288462</td>\n",
              "    </tr>\n",
              "    <tr>\n",
              "      <th>2</th>\n",
              "      <td>10 Best Foods for You</td>\n",
              "      <td>NaN</td>\n",
              "      <td>NaN</td>\n",
              "      <td>NaN</td>\n",
              "      <td>NaN</td>\n",
              "    </tr>\n",
              "    <tr>\n",
              "      <th>3</th>\n",
              "      <td>10 Best Foods for You</td>\n",
              "      <td>Works great especially going grocery store</td>\n",
              "      <td>Positive</td>\n",
              "      <td>0.400000</td>\n",
              "      <td>0.875000</td>\n",
              "    </tr>\n",
              "    <tr>\n",
              "      <th>4</th>\n",
              "      <td>10 Best Foods for You</td>\n",
              "      <td>Best idea us</td>\n",
              "      <td>Positive</td>\n",
              "      <td>1.000000</td>\n",
              "      <td>0.300000</td>\n",
              "    </tr>\n",
              "    <tr>\n",
              "      <th>...</th>\n",
              "      <td>...</td>\n",
              "      <td>...</td>\n",
              "      <td>...</td>\n",
              "      <td>...</td>\n",
              "      <td>...</td>\n",
              "    </tr>\n",
              "    <tr>\n",
              "      <th>195</th>\n",
              "      <td>10 Best Foods for You</td>\n",
              "      <td>Boring. I thought actually just texts that's i...</td>\n",
              "      <td>Negative</td>\n",
              "      <td>-0.325000</td>\n",
              "      <td>0.475000</td>\n",
              "    </tr>\n",
              "    <tr>\n",
              "      <th>196</th>\n",
              "      <td>10 Best Foods for You</td>\n",
              "      <td>Love app. It gives way good idea I buying stor...</td>\n",
              "      <td>Positive</td>\n",
              "      <td>0.400000</td>\n",
              "      <td>0.400000</td>\n",
              "    </tr>\n",
              "    <tr>\n",
              "      <th>197</th>\n",
              "      <td>10 Best Foods for You</td>\n",
              "      <td>Great Its really best unique provides detailed...</td>\n",
              "      <td>Positive</td>\n",
              "      <td>0.579167</td>\n",
              "      <td>0.683333</td>\n",
              "    </tr>\n",
              "    <tr>\n",
              "      <th>198</th>\n",
              "      <td>10 Best Foods for You</td>\n",
              "      <td>Nothing special! Could find anything useful!</td>\n",
              "      <td>Positive</td>\n",
              "      <td>0.410714</td>\n",
              "      <td>0.285714</td>\n",
              "    </tr>\n",
              "    <tr>\n",
              "      <th>199</th>\n",
              "      <td>10 Best Foods for You</td>\n",
              "      <td>Its ok I love ok.</td>\n",
              "      <td>Positive</td>\n",
              "      <td>0.500000</td>\n",
              "      <td>0.533333</td>\n",
              "    </tr>\n",
              "  </tbody>\n",
              "</table>\n",
              "<p>200 rows × 5 columns</p>\n",
              "</div>"
            ],
            "text/plain": [
              "                       App  ... Sentiment_Subjectivity\n",
              "0    10 Best Foods for You  ...               0.533333\n",
              "1    10 Best Foods for You  ...               0.288462\n",
              "2    10 Best Foods for You  ...                    NaN\n",
              "3    10 Best Foods for You  ...               0.875000\n",
              "4    10 Best Foods for You  ...               0.300000\n",
              "..                     ...  ...                    ...\n",
              "195  10 Best Foods for You  ...               0.475000\n",
              "196  10 Best Foods for You  ...               0.400000\n",
              "197  10 Best Foods for You  ...               0.683333\n",
              "198  10 Best Foods for You  ...               0.285714\n",
              "199  10 Best Foods for You  ...               0.533333\n",
              "\n",
              "[200 rows x 5 columns]"
            ]
          },
          "metadata": {
            "tags": []
          },
          "execution_count": 53
        }
      ]
    },
    {
      "cell_type": "code",
      "metadata": {
        "colab": {
          "base_uri": "https://localhost:8080/"
        },
        "id": "lLt1mjjJG7eZ",
        "outputId": "0dfe8880-a0f0-4599-8611-6496dc1210b7"
      },
      "source": [
        "list(user_reviews_df['App'].unique())"
      ],
      "execution_count": 54,
      "outputs": [
        {
          "output_type": "execute_result",
          "data": {
            "text/plain": [
              "['10 Best Foods for You',\n",
              " '104 找工作 - 找工作 找打工 找兼職 履歷健檢 履歷診療室',\n",
              " '11st',\n",
              " '1800 Contacts - Lens Store',\n",
              " '1LINE – One Line with One Touch',\n",
              " '2018Emoji Keyboard 😂 Emoticons Lite -sticker&gif',\n",
              " '21-Day Meditation Experience',\n",
              " '2Date Dating App, Love and matching',\n",
              " '2GIS: directory & navigator',\n",
              " '2RedBeans',\n",
              " '2ndLine - Second Phone Number',\n",
              " '30 Day Fitness Challenge - Workout at Home',\n",
              " '365Scores - Live Scores',\n",
              " '3D Blue Glass Water Keyboard Theme',\n",
              " '3D Color Pixel by Number - Sandbox Art Coloring',\n",
              " '3D Live Neon Weed Launcher',\n",
              " '4 in a Row',\n",
              " '4K Wallpapers and Ultra HD Backgrounds',\n",
              " '591房屋交易-租屋、中古屋、新建案、實價登錄、別墅透天、公寓套房、捷運、買房賣房行情、房價房貸查詢',\n",
              " '591房屋交易-香港',\n",
              " '7 Cups: Anxiety & Stress Chat',\n",
              " '7 Day Food Journal Challenge',\n",
              " '7 Minute Workout',\n",
              " '7 Weeks - Habit & Goal Tracker',\n",
              " '8 Ball Pool',\n",
              " '850 Sports News Digest',\n",
              " '8fit Workouts & Meal Planner',\n",
              " '95Live -SG#1 Live Streaming App',\n",
              " 'A Call From Santa Claus!',\n",
              " 'A Manual of Acupuncture',\n",
              " 'A Word A Day',\n",
              " 'A&E - Watch Full Episodes of TV Shows',\n",
              " 'A+ Gallery - Photos & Videos',\n",
              " 'A+ Mobile',\n",
              " 'ABC Kids - Tracing & Phonics',\n",
              " 'ABC News - US & World News',\n",
              " 'ABC Preschool Free',\n",
              " 'ABCmouse.com',\n",
              " 'AC - Tips & News for Android™',\n",
              " 'ACE Elite',\n",
              " 'AD - Nieuws, Sport, Regio & Entertainment',\n",
              " 'ADP Mobile Solutions',\n",
              " 'ADW Launcher 2',\n",
              " 'AMC Theatres',\n",
              " 'ANA',\n",
              " 'AOL - News, Mail & Video',\n",
              " 'AP Mobile - Breaking News',\n",
              " 'APE Weather ( Live Forecast)',\n",
              " 'APUS Launcher - Theme, Wallpaper, Hide Apps',\n",
              " 'ARY NEWS',\n",
              " 'ARY NEWS URDU',\n",
              " 'ASOS',\n",
              " 'ASUS Calling Screen',\n",
              " 'ASUS Cover for ZenFone 2',\n",
              " 'ASUS Gallery',\n",
              " 'ASUS Quick Memo',\n",
              " 'ASUS Sound Recorder',\n",
              " 'ASUS SuperNote',\n",
              " 'AT&T Navigator: Maps, Traffic',\n",
              " 'AT&T Smart Wi-Fi',\n",
              " 'AT&T Visual Voicemail',\n",
              " 'AVG Cleaner – Speed, Battery & Memory Booster',\n",
              " 'Abs Training-Burn belly fat',\n",
              " 'Account Manager',\n",
              " 'Accounting App - Zoho Books',\n",
              " 'AccuWeather: Daily Forecast & Live Weather Reports',\n",
              " 'Acorn TV: World-class TV from Britain and Beyond',\n",
              " 'Acorns - Invest Spare Change',\n",
              " 'Acupuncture Assistant',\n",
              " 'AdWords Express',\n",
              " 'Ada - Your Health Guide',\n",
              " 'Add Text To Photo',\n",
              " 'Adobe Acrobat Reader',\n",
              " 'Adobe Photoshop Express:Photo Editor Collage Maker',\n",
              " 'Adult Dating - AdultFinder',\n",
              " 'Adult Glitter Color by Number Book - Sandbox Pages',\n",
              " 'Advanced Task Killer',\n",
              " 'Agar.io',\n",
              " 'Age Calculator',\n",
              " 'Agoda – Hotel Booking Deals',\n",
              " 'Air Traffic',\n",
              " 'AirAsia',\n",
              " 'AirBrush: Easy Photo Editor',\n",
              " 'Airbnb',\n",
              " 'Airport + Flight Tracker Radar',\n",
              " 'Airway Ex - Intubate. Anesthetize. Train.',\n",
              " 'Akinator',\n",
              " 'AlReader -any text book reader',\n",
              " 'Alarm Clock',\n",
              " 'Alarm Clock Free',\n",
              " 'Alfred Home Security Camera',\n",
              " 'AliExpress - Smarter Shopping, Better Living',\n",
              " 'All Email Providers',\n",
              " 'All Events in City',\n",
              " 'All Football - Latest News & Videos',\n",
              " 'All Football GO- Live Score, Games',\n",
              " 'All Language Translator Free',\n",
              " 'All Maths Formulas',\n",
              " 'All Mental disorders',\n",
              " 'All Social Networks',\n",
              " 'All Video Downloader 2018',\n",
              " 'All-In-One Toolbox: Cleaner, Booster, App Manager',\n",
              " 'All-in-One Mahjong 3 FREE',\n",
              " 'AllTrails: Hiking, Running & Mountain Bike Trails',\n",
              " 'Allegiant',\n",
              " 'Allrecipes Dinner Spinner',\n",
              " \"Alto's Adventure\",\n",
              " 'Amazon Drive',\n",
              " 'Amazon FreeTime – Kids’ Videos, Books, & TV shows',\n",
              " 'Amazon Kindle',\n",
              " 'Amazon Prime Video',\n",
              " 'Amazon Shopping',\n",
              " 'Amazon for Tablets',\n",
              " 'American Airlines',\n",
              " 'Amex Mobile',\n",
              " 'Amino: Communities and Chats',\n",
              " 'Amtrak',\n",
              " 'Anatomy Learning - 3D Atlas',\n",
              " 'Ancestry',\n",
              " 'AndroZip™ FREE File Manager',\n",
              " 'Android Auto - Maps, Media, Messaging & Voice',\n",
              " 'Android Messages',\n",
              " 'Anger of stick 5 : zombie',\n",
              " 'Angry Birds 2',\n",
              " 'Angry Birds Classic',\n",
              " 'Angry Birds Rio',\n",
              " 'Animal Jam - Play Wild!',\n",
              " 'Animal Planet GO',\n",
              " 'Animated Photo Editor',\n",
              " 'Anime Avatar Creator: Make Your Own Avatar',\n",
              " 'Anime Manga Coloring Book',\n",
              " 'Anthem Anywhere',\n",
              " 'Anthem BC Anywhere',\n",
              " 'Any.do: To-do list, Calendar, Reminders & Planner',\n",
              " 'Apartment Decorating Ideas',\n",
              " 'Apartment List: Housing, Apt, and Property Rentals',\n",
              " 'Apartment, Home Rental Search: Realtor.com Rentals',\n",
              " 'Apartments & Rentals - Zillow',\n",
              " 'Apartments.com Rental Search',\n",
              " 'Apex Launcher',\n",
              " 'Apk Installer',\n",
              " 'App vault',\n",
              " 'AppLock',\n",
              " 'AppLock - Fingerprint',\n",
              " 'Apple Daily 蘋果動新聞',\n",
              " 'Aprender inglés con Wlingua',\n",
              " 'Archos File Manager',\n",
              " 'Arrow.io',\n",
              " 'Asana: organize team projects',\n",
              " 'Ascape VR: 360° Virtual Travel',\n",
              " 'Asphalt 8: Airborne',\n",
              " 'Associated Credit Union Mobile',\n",
              " 'Asteroids 3D live wallpaper',\n",
              " 'Atlan3D Navigation: Korea navigator',\n",
              " 'AutoCAD - DWG Viewer & Editor',\n",
              " 'AutoScout24 Switzerland – Find your new car',\n",
              " 'Avakin Life - 3D virtual world',\n",
              " 'Aviary Effects: Classic',\n",
              " 'Aviary Stickers: Free Pack',\n",
              " 'Azar',\n",
              " 'Azpen eReader',\n",
              " 'B612 - Beauty & Filter Camera',\n",
              " 'BBC Media Player',\n",
              " 'BBC News',\n",
              " 'BBC Sport',\n",
              " 'BBM - Free Calls & Messages',\n",
              " 'BBVA Compass Banking',\n",
              " 'BBVA Spain',\n",
              " 'BBW Dating & Curvy Singles Chat- LargeFriends',\n",
              " 'BBW Dating & Plus Size Chat',\n",
              " 'BBWCupid - BBW Dating App',\n",
              " 'BELONG Beating Cancer Together',\n",
              " 'BEST CAR SOUNDS',\n",
              " 'BET NOW - Watch Shows',\n",
              " 'BEYBLADE BURST app',\n",
              " 'BIG Launcher',\n",
              " 'BLK - Swipe. Match. Chat.',\n",
              " 'BZWBK24 mobile',\n",
              " 'BaBe - Baca Berita',\n",
              " 'BaBe Lite - Baca Berita Hemat Kuota',\n",
              " 'BaBe+ - Berita Indonesia',\n",
              " 'Babbel – Learn Languages',\n",
              " 'Babbel – Learn Spanish',\n",
              " 'Baby ABC in box! Kids alphabet games for toddlers!',\n",
              " 'Baby Monitor',\n",
              " 'Baby Name Together',\n",
              " 'Baby Panda Care',\n",
              " 'Baby Panda Learns Shapes',\n",
              " 'Baby Panda Musical Genius',\n",
              " 'Baby Panda’s Juice Shop',\n",
              " 'Baby Sleep: White noise lullabies for newborns',\n",
              " 'Baby Tiger Care - My Cute Virtual Pet Friend',\n",
              " 'Baby puzzles',\n",
              " 'Baca- Berita Terbaru, Informasi, Gosip dan Politik',\n",
              " 'Backgrounds (HD Wallpapers)',\n",
              " 'Backgrounds HD (Wallpapers)',\n",
              " 'BaconReader for Reddit',\n",
              " 'Bad Piggies',\n",
              " 'Badoo - Free Chat & Dating App',\n",
              " 'Bagan - Myanmar Keyboard',\n",
              " 'Banco Itaú',\n",
              " 'Banco do Brasil',\n",
              " 'Bancomer móvil',\n",
              " 'Banfield Pet Health Tracker',\n",
              " 'Bangla Newspaper – Prothom Alo',\n",
              " 'Banjo',\n",
              " 'Bank of America Mobile Banking',\n",
              " 'BankMobile Vibe App',\n",
              " 'Banorte Movil',\n",
              " 'Banque Populaire',\n",
              " 'Barbie Life™',\n",
              " 'Barbie Magical Fashion',\n",
              " 'Barbie™ Fashion Closet',\n",
              " 'Barclays US for Android',\n",
              " 'Barcode Scanner',\n",
              " 'Baritastic - Bariatric Tracker',\n",
              " 'Baseball Boy!',\n",
              " 'Basketball FRVR - Shoot the Hoop and Slam Dunk!',\n",
              " 'Basketball Stars',\n",
              " 'Bathroom Decorating Ideas',\n",
              " 'Battlelands Royale',\n",
              " 'Be A Legend: Soccer',\n",
              " 'BeSoccer - Soccer Live Score',\n",
              " 'BeWild Free Dating & Chat App',\n",
              " 'Beautiful Design Birthday Cake',\n",
              " 'Beautiful Widgets Free',\n",
              " 'Beautiful Widgets Pro',\n",
              " 'Beauty Camera - Selfie Camera',\n",
              " 'Beauty Makeup Snappy Collage Photo Editor - Lidow',\n",
              " 'Beauty Makeup – Photo Makeover',\n",
              " 'Beauty Selfie Camera',\n",
              " 'BeautyPlus - Easy Photo Editor & Selfie Camera',\n",
              " 'Bed Time Fan - White Noise Sleep Sounds',\n",
              " 'Bedroom Decorating Ideas',\n",
              " 'Been Together (Ad) - D-day',\n",
              " 'Best Buy',\n",
              " 'Best Car Wallpapers',\n",
              " 'Best Fiends - Free Puzzle Game',\n",
              " 'Best New Ringtones 2018 Free 🔥 For Android™',\n",
              " 'Best Ovulation Tracker Fertility Calendar App Glow',\n",
              " 'Best Wallpapers Backgrounds(100,000+ 4K HD)',\n",
              " 'Best Wallpapers QHD',\n",
              " 'BestCam Selfie-selfie, beauty camera, photo editor',\n",
              " 'BetterMe: Weight Loss Workouts',\n",
              " 'Betterment',\n",
              " 'BeyondMenu Food Delivery',\n",
              " 'BeyondPod Podcast Manager',\n",
              " 'Bible',\n",
              " 'Big Days - Events Countdown',\n",
              " 'BigOven Recipes, Meal Planner, Grocery List & More',\n",
              " 'BiggerCity: Chat for gay bears, chubs & chasers',\n",
              " 'Bike Computer - GPS Cycling Tracker',\n",
              " 'Binaural Beats Meditation',\n",
              " 'Binaural Beats Therapy',\n",
              " 'BioLife Plasma Services',\n",
              " 'Birdays – Birthday reminder',\n",
              " 'Birds Sounds Ringtones & Wallpapers',\n",
              " 'Black People Meet Singles Date',\n",
              " 'Black Wallpaper, AMOLED, Dark Background: Darkify',\n",
              " 'Black White Interracial Dating - Interracial Match',\n",
              " \"Blackpink as if it's your last\",\n",
              " 'Bleacher Report: sports news, scores, & highlights',\n",
              " 'Blendr - Chat, Flirt & Meet',\n",
              " 'Blibli.com Belanja Online',\n",
              " 'Blidz - Hunt Free Deals On Trending Items!',\n",
              " 'Blinkist - Nonfiction Books',\n",
              " 'Blitzer.de',\n",
              " 'Block Craft 3D: Building Simulator Games For Free',\n",
              " 'Block Puzzle',\n",
              " 'Block Puzzle Classic Legend !',\n",
              " 'Blogaway for Android (Blogger)',\n",
              " 'Blogger',\n",
              " \"Bloglovin'\",\n",
              " 'Blood Donor',\n",
              " 'Blood Pressure',\n",
              " 'Blood Pressure Log - MyDiary',\n",
              " 'Blood Pressure(BP) Diary',\n",
              " 'Bloomberg Professional',\n",
              " 'Bloomberg: Market & Financial News',\n",
              " 'Blossom Blast Saga',\n",
              " 'BluTV',\n",
              " 'Blue CareOnDemand',\n",
              " 'BlueJeans for Android',\n",
              " 'Bluebird by American Express',\n",
              " 'Blur Image Background',\n",
              " 'Blur Image Background Editor (Blur Photo Editor)',\n",
              " 'Booking.com Travel Deals',\n",
              " 'Bowmasters',\n",
              " 'Box',\n",
              " 'Boxed Wholesale',\n",
              " \"Boys Photo Editor - Six Pack & Men's Suit\",\n",
              " 'Brain Waves - Binaural Beats',\n",
              " 'Branch',\n",
              " 'Brasileirão Pro 2018 - Série A e B',\n",
              " 'Breaking News, Local news, Attacks and Alerts Free',\n",
              " 'Breathing Zone',\n",
              " 'Bricks n Balls',\n",
              " 'Brightest Flashlight - LED Light',\n",
              " 'Brightest Flashlight Free ®',\n",
              " 'Brightest LED Flashlight',\n",
              " 'Brilliant',\n",
              " 'Brit + Co',\n",
              " 'British Airways',\n",
              " 'Browser 4G',\n",
              " 'Bualuang mBanking',\n",
              " 'Bubble Shooter',\n",
              " 'Bubble Shooter 2',\n",
              " 'Bubble Shooter Genies',\n",
              " 'Bubble Shooter Space',\n",
              " 'Bubble Witch 3 Saga',\n",
              " 'Buienradar - weer',\n",
              " 'Build a Bridge!',\n",
              " 'Bukalapak - Jual Beli Online',\n",
              " 'BukuBayi - Perkembangan Bayi',\n",
              " 'Burner - Free Phone Number',\n",
              " 'Bus Rush: Subway Edition',\n",
              " 'Buscapé - Ofertas e descontos',\n",
              " 'Business Calendar 2',\n",
              " 'Butterfly Live Wallpaper',\n",
              " 'Buzz Launcher-Smart&Free Theme',\n",
              " 'BuzzFeed: News, Tasty, Quizzes',\n",
              " 'BÁO MỚI - Đọc Báo, Tin Tức 24h',\n",
              " 'C Programming',\n",
              " 'C++ Programming',\n",
              " 'C++ Tutorials',\n",
              " 'CAIXA',\n",
              " 'CALCU™ Stylish Calculator Free',\n",
              " 'CATS: Crash Arena Turbo Stars',\n",
              " 'CBS - Full Episodes & Live TV',\n",
              " 'CBS News',\n",
              " 'CBS Sports App - Scores, News, Stats & Watch Live',\n",
              " 'CBS Sports Fantasy',\n",
              " 'CDL Practice Test 2018 Edition',\n",
              " 'CIA - Caller ID & Call Blocker',\n",
              " 'CM Browser - Ad Blocker , Fast Download , Privacy',\n",
              " 'CM FILE MANAGER HD',\n",
              " 'CM Flashlight (Compass, SOS)',\n",
              " 'CM Launcher 3D - Theme, Wallpapers, Efficient',\n",
              " 'CM Locker - Security Lockscreen',\n",
              " 'CMB Free Dating App',\n",
              " 'CNBC: Breaking Business News & Live Market Data',\n",
              " 'CNN Breaking US & World News',\n",
              " \"COOKING MAMA Let's Cook!\",\n",
              " 'CVS Caremark',\n",
              " 'CW Seed',\n",
              " 'CWT To Go',\n",
              " 'Cache Cleaner-DU Speed Booster (booster & cleaner)',\n",
              " 'Caf - Mon Compte',\n",
              " 'Calculator',\n",
              " 'Calculator ++',\n",
              " 'Calculator - free calculator ,multi calculator app',\n",
              " 'Calculator - free calculator, multi calculator app',\n",
              " 'Calculator - unit converter',\n",
              " 'Calculator Plus Free',\n",
              " 'Calculator with Percent (Free)',\n",
              " 'Calendar Widget Month + Agenda',\n",
              " 'Calendar+ Schedule Planner App',\n",
              " 'Call Blocker',\n",
              " 'Call Control - Call Blocker',\n",
              " 'Call Free – Free Call',\n",
              " 'Call of Duty:Black Ops Zombies',\n",
              " 'CallApp: Caller ID, Blocker & Phone Call Recorder',\n",
              " 'Caller ID +',\n",
              " 'Calls & Text by Mo+',\n",
              " 'Calls Blacklist - Call Blocker',\n",
              " 'Calm - Meditate, Sleep, Relax',\n",
              " 'Calorie Counter & Diet Tracker',\n",
              " 'Calorie Counter - EasyFit free',\n",
              " 'Calorie Counter - Macros',\n",
              " 'Calorie Counter - MyFitnessPal',\n",
              " 'Calorie Counter - MyNetDiary',\n",
              " 'Calorie Counter by FatSecret',\n",
              " 'Camera FV-5',\n",
              " 'Camera FV-5 Lite',\n",
              " 'Camera MX - Free Photo & Video Camera',\n",
              " 'Camera ZOOM FX - FREE',\n",
              " 'Camera for Android',\n",
              " 'Camera360 Lite - Selfie Camera',\n",
              " 'Camera360: Selfie Photo Editor with Funny Sticker',\n",
              " 'Camera51 - a smarter camera',\n",
              " 'Cameringo Lite. Filters Camera',\n",
              " 'Candy Bomb',\n",
              " 'Candy Camera - selfie, beauty camera, photo editor',\n",
              " 'Candy Crush Jelly Saga',\n",
              " 'Candy Crush Saga',\n",
              " 'Candy Crush Soda Saga',\n",
              " 'Candy Day',\n",
              " 'Candy Pop Story',\n",
              " 'Candy Smash',\n",
              " 'Candy selfie - photo editor, live filter camera',\n",
              " 'Canva: Poster, banner, card maker & graphic design',\n",
              " 'Canvas Student',\n",
              " 'Capital One® Mobile',\n",
              " 'Capitec Remote Banking',\n",
              " 'CarMax – Cars for Sale: Search Used Car Inventory',\n",
              " 'Card Wars - Adventure Time',\n",
              " 'Cardboard',\n",
              " 'CareZone',\n",
              " 'Carousell: Snap-Sell, Chat-Buy',\n",
              " 'Cars: Lightning League',\n",
              " 'Cartoon Network App',\n",
              " 'Cash App',\n",
              " 'Cash, Inc. Money Clicker Game & Business Adventure',\n",
              " 'Castle Clash: Heroes of the Empire US',\n",
              " 'Castlight Mobile',\n",
              " 'Casual Dating & Adult Singles - Joyride',\n",
              " 'Cat Sim Online: Play with Cats',\n",
              " 'Caviar - Food Delivery',\n",
              " 'Chakra Cleansing',\n",
              " 'Championat',\n",
              " 'Chapters: Interactive Stories',\n",
              " 'Chase Mobile',\n",
              " 'Chat Rooms, Avatars, Date - Galaxy',\n",
              " 'ChatVideo Meet new people',\n",
              " 'Cheap Flights & Hotels momondo',\n",
              " 'Cheap hotel deals and discounts — Hotellook',\n",
              " 'CheapTickets – Hotels, Flights & Travel Deals',\n",
              " 'Cheapflights – Flight Search',\n",
              " 'CheckPoints 🏆 Rewards App',\n",
              " 'Checkers ✔️',\n",
              " 'Checkout 51: Grocery coupons',\n",
              " 'ChefTap Recipes & Grocery List',\n",
              " 'Chefkoch - Rezepte & Kochen',\n",
              " 'Chegg Study - Homework Help',\n",
              " 'Chess Free',\n",
              " 'Chess PRO Free',\n",
              " 'Chess School for Beginners',\n",
              " 'Chess for Kids - Play & Learn',\n",
              " 'Chicago Tribune',\n",
              " 'Chick-fil-A',\n",
              " 'Chictopia',\n",
              " 'Chilindo',\n",
              " 'Chime - Mobile Banking',\n",
              " 'Chispa, the Dating App for Latino, Latina Singles',\n",
              " 'Choice Hotels',\n",
              " 'Choices: Stories You Play',\n",
              " 'Christian Dating For Free App',\n",
              " 'Chrome Beta',\n",
              " 'Chrome Dev',\n",
              " 'Cinemark Theatres',\n",
              " 'Cisco Webex Meetings',\n",
              " 'Cisco Webex Teams',\n",
              " 'Citi Mobile®',\n",
              " 'Citibanamex Movil',\n",
              " 'Citizens Bank Mobile Banking',\n",
              " 'CityMaps2Go Plan Trips Travel Guide Offline Maps',\n",
              " 'Claro',\n",
              " 'Clash Royale',\n",
              " 'Clash of Clans',\n",
              " 'ClassDojo',\n",
              " 'Classic Calculator',\n",
              " 'Classical music for baby',\n",
              " 'ClearCareGo Caregiver',\n",
              " 'ClickMeeting Webinars',\n",
              " 'Cloud Print',\n",
              " 'Clover Dating App',\n",
              " 'Club Factory Everything, Unbeaten Price',\n",
              " 'Clue',\n",
              " 'Collage&Add Stickers papelook',\n",
              " 'Color Call - Caller Screen, LED Flash',\n",
              " 'Color Flashlight',\n",
              " 'Color Road',\n",
              " 'Color Touch Effects',\n",
              " 'Color by Number - Draw Sandbox Pixel Art',\n",
              " 'Color by Number – New Coloring Book',\n",
              " 'ColorFil - Adult Coloring Book',\n",
              " 'ColorNote Notepad Notes',\n",
              " 'ColorSnap® Visualizer',\n",
              " 'Colorfit - Drawing & Coloring',\n",
              " 'Colorful Glitter Neon Butterfly Keyboard Theme',\n",
              " 'Colorfy: Coloring Book for Adults - Free',\n",
              " 'Coloring & Learn',\n",
              " 'Coloring book moana',\n",
              " 'Comedy Central',\n",
              " 'Common Core',\n",
              " 'CompTIA A+ Pocket Prep',\n",
              " 'CompTIA Exam Training',\n",
              " 'Compass',\n",
              " 'Comptia A+ 220-901 & 220-902',\n",
              " 'ConnectLine',\n",
              " 'Contacts',\n",
              " 'Contacts+',\n",
              " 'Content Transfer',\n",
              " 'ConvertPad - Unit Converter',\n",
              " 'Cookbook Recipes',\n",
              " 'Cooking Channel',\n",
              " 'Cooking Fever',\n",
              " \"Cooking Madness - A Chef's Restaurant Games\",\n",
              " 'Cookpad',\n",
              " 'Cool Popular Ringtones 2018 🔥',\n",
              " 'Cool Reader',\n",
              " 'Couch to 10K Running Trainer',\n",
              " 'Couch to 5K by RunDouble',\n",
              " 'Couchsurfing Travel App',\n",
              " 'Cougar Dating Life : Date Older Women Sugar Mummy',\n",
              " 'Couple - Relationship App',\n",
              " 'Coupon Sherpa',\n",
              " 'Coupons.com – Grocery Coupons & Cash Back Savings',\n",
              " 'Coursera: Online courses',\n",
              " 'Cover Fire: offline shooting games for free',\n",
              " 'Cozi Family Organizer',\n",
              " 'CppDroid - C/C++ IDE',\n",
              " 'Crackle - Free TV & Movies',\n",
              " 'Crazy Colors: Bubbles Matching',\n",
              " 'Create A Superhero HD',\n",
              " 'Creative Ideas - DIY & Craft',\n",
              " 'Credit Karma',\n",
              " 'Credit Sesame',\n",
              " 'CreditWise from Capital One',\n",
              " 'Crew - Free Messaging and Scheduling',\n",
              " 'Cricbuzz - Live Cricket Scores & News',\n",
              " 'Cricket Visual Voicemail',\n",
              " 'Crossy Road',\n",
              " 'Crunchyroll - Everything Anime',\n",
              " 'Current debit card and app made for teens',\n",
              " 'Curriculum vitae App CV Builder Free Resume Maker',\n",
              " 'Curso de Ingles Gratis',\n",
              " 'Cut the Rope 2',\n",
              " 'Cut the Rope FULL FREE',\n",
              " 'Cute Pet Puppies',\n",
              " 'Cute wallpapers & kawaii backgrounds images',\n",
              " 'Cycling - Bike Tracker',\n",
              " 'Cymera Camera- Photo Editor, Filter,Collage,Layout',\n",
              " 'Czech Public Transport IDOS',\n",
              " 'DC Comics',\n",
              " 'DC Super Hero Girls™',\n",
              " 'DEAD TARGET: FPS Zombie Apocalypse Survival Games',\n",
              " 'DEER HUNTER 2018',\n",
              " 'DELISH KITCHEN - 無料レシピ動画で料理を楽しく・簡単に！',\n",
              " 'DINO HUNTER: DEADLY SHORES',\n",
              " 'DIY Garden Ideas',\n",
              " 'DIY On A Budget',\n",
              " 'DMV Permit Practice Test 2018 Edition',\n",
              " 'DRAGON BALL LEGENDS',\n",
              " 'DSLR Camera Hd Ultra Professional',\n",
              " 'DStv Now',\n",
              " 'DU Browser—Browse fast & fun',\n",
              " 'DU Recorder – Screen Recorder, Video Editor, Live',\n",
              " 'DaBang - Rental Homes in Korea',\n",
              " 'Daily Mail Online',\n",
              " 'Daily Manga - Comic & Webtoon',\n",
              " 'Daily Workouts - Exercise Fitness Routine Trainer',\n",
              " 'Daily Yoga - Yoga Fitness Plans',\n",
              " 'Dailyhunt (Newshunt) - Latest News, Viral Videos',\n",
              " 'Dairy Queen',\n",
              " 'Daniel Tiger for Parents',\n",
              " 'DashClock Widget',\n",
              " 'Dashlane Free Password Manager',\n",
              " 'Dating App, Flirt & Chat : W-Match',\n",
              " 'Dating for 50 plus Mature Singles – FINALLY',\n",
              " 'Daum Mail - 다음 메일',\n",
              " \"Davis's Drug Guide\",\n",
              " \"Davis's Drug Guide for Nurses\",\n",
              " 'Debonairs Pizza',\n",
              " 'Deep Sleep and Relax Hypnosis',\n",
              " 'Delivery Club–Доставка еды:пицца,суши,бургер,салат',\n",
              " 'Delta Dental',\n",
              " 'Despegar.com Hoteles y Vuelos',\n",
              " 'Detector de Radares Gratis',\n",
              " 'Device Help',\n",
              " 'Diabetes & Diet Tracker',\n",
              " 'Diabetes:M',\n",
              " 'Diamond Zipper Lock Screen',\n",
              " 'Diary with lock',\n",
              " 'Diary with lock password',\n",
              " 'Dice With Buddies™ Free - The Fun Social Dice Game',\n",
              " 'Dictionary - Merriam-Webster',\n",
              " 'Die TK-App – alles im Griff',\n",
              " 'Digg',\n",
              " 'DigiCal Calendar Agenda',\n",
              " 'Digit Save Money Automatically',\n",
              " 'Digital Alarm Clock',\n",
              " 'Dil Mil',\n",
              " 'Dino War: Rise of Beasts',\n",
              " 'Dinosaur Simulator: Dino World',\n",
              " 'Discover Mobile',\n",
              " 'Disney Crossy Road',\n",
              " 'Disney Heroes: Battle Mode',\n",
              " 'Disney Magic Kingdoms: Build Your Own Magical Park',\n",
              " 'DisneyNOW – TV Shows & Games',\n",
              " 'Divar',\n",
              " 'Do It Later: Tasks & To-Dos',\n",
              " 'Docs To Go™ Free Office Suite',\n",
              " 'Doctor On Demand',\n",
              " 'Doctor Pets',\n",
              " 'Dog Licks Screen Wallpaper',\n",
              " 'Dog Run - Pet Dog Simulator',\n",
              " 'Dog Sim Online: Raise a Family',\n",
              " 'Dollhouse Decorating Games',\n",
              " 'Dolphin Browser - Fast, Private & Adblock🐬',\n",
              " 'Dolphins Live Wallpaper',\n",
              " \"Domino's Pizza USA\",\n",
              " 'Dominos Game ✔️',\n",
              " 'Domofond Недвижимость. Купить, снять квартиру.',\n",
              " 'Doodle Jump',\n",
              " 'Door Lock Screen',\n",
              " 'DoorDash - Food Delivery',\n",
              " 'Dosecast - Medication Reminder',\n",
              " 'Down Dog: Great Yoga Anywhere',\n",
              " 'Dr. Oetker Rezeptideen',\n",
              " \"Dr. Panda & Toto's Treehouse\",\n",
              " 'Dr. Panda Restaurant 3',\n",
              " 'Dr. Panda Town: Vacation',\n",
              " 'DraftKings - Daily Fantasy Sports',\n",
              " 'Dragon Hills',\n",
              " 'Dragon Sim Online: Be A Dragon',\n",
              " 'DramaFever: Stream Asian Drama Shows & Movies',\n",
              " 'Draw A Stickman',\n",
              " 'Draw In',\n",
              " 'Draw Your Game',\n",
              " 'Draw a Stickman: EPIC 2',\n",
              " 'Draw.ly - Color by Number Pixel Art Coloring',\n",
              " 'Drawing Clothes Fashion Ideas',\n",
              " 'Drawing for Kids Learning Games for Toddlers age 3',\n",
              " 'Dream League Soccer 2018',\n",
              " 'DreamMapper',\n",
              " 'DreamTrips',\n",
              " 'DreamWorks Friends',\n",
              " 'Dresses Ideas & Fashions +3000',\n",
              " 'Droid Zap by Motorola',\n",
              " 'DroidAdmin for Android - Advice',\n",
              " 'Dropbox',\n",
              " 'Drugs.com Medication Guide',\n",
              " 'Dude Perfect 2',\n",
              " 'Dumb Ways to Die 2: The Games',\n",
              " 'Dungeon Hunter Champions: Epic Online Action RPG',\n",
              " \"Dunkin' Donuts\",\n",
              " 'Duolingo: Learn Languages Free',\n",
              " 'DuraSpeed',\n",
              " 'E*TRADE Mobile',\n",
              " 'EMT Review Plus',\n",
              " 'EMT Tutor NREMT-B Study Guide',\n",
              " 'EMT-B Pocket Prep',\n",
              " 'ES File Explorer File Manager',\n",
              " 'ESPN',\n",
              " 'ESPN Fantasy Sports',\n",
              " 'Earn to Die 2',\n",
              " 'Easy - taxi, car, ridesharing',\n",
              " 'Easy Hair Style Design',\n",
              " 'Easy Healthy Recipes',\n",
              " 'Easy Installer - Apps On SD',\n",
              " 'Easy Makeup Tutorials',\n",
              " 'Easy Origami Ideas',\n",
              " 'Easy Recipes',\n",
              " 'Easy Voice Recorder',\n",
              " 'EasyBib: Citation Generator',\n",
              " 'Eat Fit - Diet and Health Free',\n",
              " 'Eat24 Food Delivery & Takeout',\n",
              " 'EatStreet Food Delivery App',\n",
              " 'Ebates: Cash Back, Coupons, Rewards & Savings',\n",
              " 'Ebook Reader',\n",
              " 'Ecobank Mobile Banking',\n",
              " 'Edmodo',\n",
              " 'Educational Games 4 Kids',\n",
              " 'Educational Games for Kids',\n",
              " 'El tiempo de AEMET',\n",
              " 'Elevate - Brain Training Games',\n",
              " 'EliteSingles – Dating for Single Professionals',\n",
              " 'Elmo Calls by Sesame Street',\n",
              " 'Email TypeApp - Mail App',\n",
              " 'Emmanuella Funny Videos 2018',\n",
              " 'Emoji Keyboard - Cute Emoji,GIF, Sticker, Emoticon',\n",
              " 'Emoji keyboard - Cute Emoticons, GIF, Stickers',\n",
              " 'Endless Numbers',\n",
              " 'Endomondo - Running & Walking',\n",
              " 'English Dictionary - Offline',\n",
              " 'English Grammar Complete Handbook',\n",
              " 'English Grammar Test',\n",
              " 'English Persian Dictionary',\n",
              " 'English to Urdu Dictionary',\n",
              " 'English with Lingualeo',\n",
              " 'English-Myanmar Dictionary',\n",
              " 'Entel',\n",
              " 'Enterprise Rent-A-Car',\n",
              " 'Episode - Choose Your Story',\n",
              " 'Epocrates Plus',\n",
              " 'Equestria Girls',\n",
              " 'Essential Anatomy 3',\n",
              " 'Essential Resources',\n",
              " 'Etsy: Handmade & Vintage Goods',\n",
              " 'Etta Homes',\n",
              " 'Eurosport',\n",
              " 'Eve Period Tracker - Love, Sex & Relationships App',\n",
              " 'Even - organize your money, get paid early',\n",
              " 'Events High - Meet Your City!',\n",
              " 'Ever After High™ Charmed Style',\n",
              " 'Everlance: Free Mileage Log',\n",
              " 'Evernote – Organizer, Planner for Notes & Memos',\n",
              " 'Evie Launcher',\n",
              " 'ExDialer - Dialer & Contacts',\n",
              " 'Expedia Hotels, Flights & Car Rental Travel Deals',\n",
              " 'Expense IQ Money Manager',\n",
              " 'Experian - Free Credit Report',\n",
              " 'Extreme Car Driving Simulator',\n",
              " 'Extreme Coupon Finder',\n",
              " 'Extreme Match',\n",
              " 'Extreme Racing 2 - Real driving RC cars game!',\n",
              " 'EyeCloud',\n",
              " 'EyeEm - Camera & Photo Filter',\n",
              " 'EzCalculator',\n",
              " 'FBReader: Favorite Book Reader',\n",
              " 'FERZU - Furries Social Network',\n",
              " 'FIFA - Tournaments, Soccer News & Live Scores',\n",
              " 'FINAL FANTASY BRAVE EXVIUS',\n",
              " 'FOSSIL Q: DESIGN YOUR DIAL',\n",
              " 'FOX',\n",
              " 'FOX NOW - On Demand & Live TV',\n",
              " 'FOX Sports: Live Streaming, Scores & News',\n",
              " 'FP Notebook',\n",
              " 'FREE LIVE TALK',\n",
              " 'FREE Stock Market Trading Tips',\n",
              " 'FREEDOME VPN Unlimited anonymous Wifi Security',\n",
              " 'FUN Keyboard – Emoji Keyboard, Sticker,Theme & GIF',\n",
              " 'Fabulous: Motivate Me! Meditate, Relax, Sleep',\n",
              " 'Face Filter, Selfie Editor - Sweet Camera',\n",
              " 'Facebook',\n",
              " 'Facebook Ads Manager',\n",
              " 'Facebook Lite',\n",
              " 'Facebook Local',\n",
              " 'Facebook Pages Manager',\n",
              " 'Facetune - Ad Free',\n",
              " 'Fair: A New Way To Own A Car',\n",
              " 'Fake Call - Fake Caller ID',\n",
              " 'Fallout Shelter',\n",
              " 'Family Album Mitene: Private Photo & Video Sharing',\n",
              " 'Family Dollar',\n",
              " 'Family GPS Tracker and Chat + Baby Monitor Online',\n",
              " 'Family GPS tracker KidControl + GPS by SMS Locator',\n",
              " 'Family Locator - GPS Tracker',\n",
              " 'FamilySearch Tree',\n",
              " 'FanDuel: Daily Fantasy Sports',\n",
              " 'Fancy',\n",
              " 'Fancy Widgets',\n",
              " 'Fandango Movies - Times + Tickets',\n",
              " 'Fantasy Football',\n",
              " 'Fantasy Football & NFL News',\n",
              " 'Fantasy Football Manager (FPL)',\n",
              " 'Farm Fruit Pop: Party Time',\n",
              " 'Farm Heroes Saga',\n",
              " 'FarmersOnly Dating',\n",
              " 'Farming Simulator 14',\n",
              " 'Farming Simulator 18',\n",
              " 'Fashion in Vogue',\n",
              " 'Fast News',\n",
              " 'Fast Scanner : Free PDF Scan',\n",
              " 'Fast Secure VPN',\n",
              " 'FastMeet: Chat, Dating, Love',\n",
              " 'Fat Burning Workout - Home Weight lose',\n",
              " 'Fate/Grand Order (English)',\n",
              " 'Faustop Sounds',\n",
              " 'Feed Baby - Baby Tracker',\n",
              " 'Fertility Friend Ovulation App',\n",
              " 'Fever',\n",
              " 'FidMe Loyalty Cards & Deals at Grocery Supermarket',\n",
              " 'File Browser by Astro (File Manager)',\n",
              " 'File Explorer',\n",
              " 'File Manager',\n",
              " 'File Manager -- Take Command of Your Files Easily',\n",
              " 'Files Go by Google: Free up space on your phone',\n",
              " 'FilterGrid - Cam&Photo Editor',\n",
              " 'Filters for B Live',\n",
              " 'Filters for Selfie',\n",
              " 'Final Fantasy XV: A New Empire',\n",
              " 'Financial Times',\n",
              " 'Find Dining Restaurant Finder',\n",
              " 'Find Real Love — YouLove Premium Dating',\n",
              " 'Find a Way: Addictive Puzzle',\n",
              " 'Find&Save - Local Shopping',\n",
              " 'FindShip',\n",
              " 'Firefox Browser fast & private',\n",
              " 'Firefox Focus: The privacy browser',\n",
              " 'Fishdom',\n",
              " 'Fitbit',\n",
              " 'Fitbit Coach',\n",
              " 'Flashlight',\n",
              " 'Flashlight & LED Torch',\n",
              " 'Flashlight - Torch LED Light',\n",
              " 'Flashlight HD LED',\n",
              " 'Flickr',\n",
              " 'Flight & Hotel Booking App - ixigo',\n",
              " 'Flightradar24 Flight Tracker',\n",
              " 'Flights',\n",
              " 'Flip the Gun - Simulator Game',\n",
              " 'FlipaClip - Cartoon animation',\n",
              " 'Flipboard: News For Our Time',\n",
              " 'Flipkart Online Shopping App',\n",
              " 'Flipp - Weekly Shopping',\n",
              " 'Flippy Campus - Buy & sell on campus at a discount',\n",
              " 'FlirtChat - ♥Free Dating/Flirting App♥',\n",
              " 'Floor Plan Creator',\n",
              " 'Flow Free',\n",
              " 'Flowers Live Wallpaper',\n",
              " 'Fly Delta',\n",
              " 'FollowMyHealth®',\n",
              " 'Font Studio- Photo Texts Image',\n",
              " 'Food Calorie Calculator',\n",
              " 'Food Network',\n",
              " 'Fooducate Healthy Weight Loss & Calorie Counter',\n",
              " 'Foot Mercato : transferts, résultats, news, live',\n",
              " 'Football Live Scores',\n",
              " 'ForecaWeather',\n",
              " 'Fortune City - A Finance App',\n",
              " 'FotMob - Live Soccer Scores',\n",
              " 'Fotor Photo Editor - Photo Collage & Photo Effects',\n",
              " 'Four In A Line',\n",
              " 'Four In A Line Free',\n",
              " 'Foursquare City Guide',\n",
              " 'Foursquare Swarm: Check In',\n",
              " 'Fox Business',\n",
              " 'Fox News – Breaking News, Live Video & News Alerts',\n",
              " 'Fraction Calculator Plus Free',\n",
              " 'Free & Premium VPN - FinchVPN',\n",
              " 'Free Book Reader',\n",
              " 'Free Books - Spirit Fanfiction and Stories',\n",
              " 'Free Dating & Flirt Chat - Choice of Love',\n",
              " 'Free Dating App & Flirt Chat - Cheers',\n",
              " 'Free Dating App & Flirt Chat - Match with Singles',\n",
              " 'Free Dating App - Meet Local Singles - Flirt Chat',\n",
              " 'Free Dating App - YoCutie - Flirt, Chat & Meet',\n",
              " 'Free Dating Hook Up Messenger',\n",
              " 'Free Foreclosure Real Estate Search by USHUD.com',\n",
              " 'Free Hypnosis',\n",
              " 'Free Live Talk-Video Call',\n",
              " 'Free Meditation - Take a Break',\n",
              " 'Free Messages, Video, Chat,Text for Messenger Plus',\n",
              " 'Free Panda Radio Music',\n",
              " 'Free Sports TV',\n",
              " 'Free TV Shows App:News, TV Series, Episode, Movies',\n",
              " 'Free VIN Report for Used Cars',\n",
              " 'Free live weather on screen',\n",
              " 'Free phone calls, free texting SMS on free number',\n",
              " 'FreePrints – Free Photos Delivered',\n",
              " 'Freeletics: Personal Trainer & Fitness Workouts',\n",
              " 'Freeme Launcher—Stylish Theme',\n",
              " 'Fresh EBT - Food Stamp Balance',\n",
              " 'FreshBooks Classic',\n",
              " 'Frontback - Social Photos',\n",
              " 'Frozen Free Fall',\n",
              " 'Fruit Block - Puzzle Legend',\n",
              " 'Fruit Boom',\n",
              " 'Fruit Cube Blast',\n",
              " 'Fruit Ninja®',\n",
              " 'Fruits Bomb',\n",
              " 'Fuelio: Gas log & costs',\n",
              " 'Full Screen Caller ID',\n",
              " 'Fun Kid Racing',\n",
              " 'Fun Kid Racing - Motocross',\n",
              " 'Funny Alarm Clock Ringtones',\n",
              " 'Funny Pics',\n",
              " 'Funny Quotes Free',\n",
              " 'Funny Ringtones',\n",
              " 'Futbol24',\n",
              " 'Fuzzy Seasons: Animal Forest',\n",
              " 'G Cloud Backup',\n",
              " 'GANMA! - オリジナル漫画が全話無料で読み放題',\n",
              " 'GCash - Buy Load, Pay Bills, Send Money',\n",
              " 'GMAT Math Flashcards',\n",
              " 'GMAT Question Bank',\n",
              " 'GMX Mail',\n",
              " 'GO Keyboard - Cute Emojis, Themes and GIFs',\n",
              " 'GO Keyboard - Emoticon keyboard, Free Theme, GIF',\n",
              " 'GO Notifier',\n",
              " 'GO SMS Pro - Messenger, Free Themes, Emoji',\n",
              " 'GO Weather - Widget, Theme, Wallpaper, Efficient',\n",
              " 'GPS Map Free',\n",
              " 'GPS Navigation & Offline Maps Sygic',\n",
              " 'GPS Speedometer - Trip Meter - Altimeter',\n",
              " 'GPS Speedometer and Odometer',\n",
              " 'GPS Speedometer, Distance Meter',\n",
              " 'GPS Status & Toolbox',\n",
              " 'GPS Traffic Speedcam Route Planner by ViaMichelin',\n",
              " 'GRE Flashcards',\n",
              " 'GRE Prep & Practice by Magoosh',\n",
              " 'GRE Tutor',\n",
              " 'GS SHOP',\n",
              " 'GUNSHIP BATTLE: Helicopter 3D',\n",
              " 'Galactic Core Free Wallpaper',\n",
              " 'Galaxy Attack: Alien Shooter',\n",
              " 'Galaxy Gift',\n",
              " 'Galaxy Live Wallpaper',\n",
              " \"Game for KIDS: KIDS match'em\",\n",
              " 'Game of Thrones: Conquest™',\n",
              " 'Gametime - Tickets to Sports, Concerts, Theater',\n",
              " 'Garden Coloring Book',\n",
              " 'Garden Fruit Legend',\n",
              " 'Garden Photo Frames - Garden Photo Editor',\n",
              " 'Gardenscapes',\n",
              " 'Garena Free Fire',\n",
              " 'Garmin Connect™',\n",
              " 'GasBuddy: Find Cheap Gas',\n",
              " 'Gay Sugar Daddy Dating & Hookup – Sudy Gay',\n",
              " 'Gboard - the Google Keyboard',\n",
              " 'Gems or jewels ?',\n",
              " 'Genius Scan - PDF Scanner',\n",
              " 'Geo Tracker - GPS tracker',\n",
              " 'Geocaching®',\n",
              " 'Geometry Dash World',\n",
              " 'Ghostery Privacy Browser',\n",
              " 'GialloZafferano: le Ricette',\n",
              " 'Girls Hairstyles',\n",
              " 'Girls Live Chat - Free Text & Video Chat',\n",
              " 'Girls Online Talk - Free Text and Video Chat',\n",
              " \"Girls' Frontline\",\n",
              " 'Girly Lock Screen Wallpaper with Quotes',\n",
              " 'Girly Wallpapers Backgrounds',\n",
              " 'Glam - Premium Dating App',\n",
              " 'GlassesOff',\n",
              " 'Glide - Video Chat Messenger',\n",
              " 'Glow Hockey',\n",
              " 'Glowing Flowers Live Wallpaper',\n",
              " 'Gmail',\n",
              " 'GoBank',\n",
              " 'GoPro (formerly Capture)',\n",
              " 'Goal Live Scores',\n",
              " 'Goibibo - Flight Hotel Bus Car IRCTC Booking App',\n",
              " 'Goku Wallpaper Art',\n",
              " 'Gold Butterfly Keyboard Theme',\n",
              " 'Golden Dictionary (EN-AR)',\n",
              " 'Golden Launcher',\n",
              " 'Goldstar: Live Event Tickets',\n",
              " 'Golf Channel',\n",
              " 'Golf GPS Rangefinder: Golf Pad',\n",
              " 'Golf GPS by SwingxSwing',\n",
              " 'GolfLogix GPS + Putt Breaks',\n",
              " 'GolfNow: Tee Time Deals at Golf Courses, Golf GPS',\n",
              " 'Golfshot Plus: Golf GPS',\n",
              " 'Golfshot: Golf GPS + Tee Times',\n",
              " 'GoodRx Drug Prices and Coupons',\n",
              " 'Google',\n",
              " 'Google Ads',\n",
              " 'Google Allo',\n",
              " 'Google Analytics',\n",
              " 'Google Assistant',\n",
              " 'Google Assistant Go',\n",
              " 'Google Calendar',\n",
              " 'Google Chrome: Fast & Secure',\n",
              " 'Google Classroom',\n",
              " 'Google Docs',\n",
              " 'Google Drive',\n",
              " 'Google Duo - High Quality Video Calls',\n",
              " 'Google Earth',\n",
              " 'Google Fit - Fitness Tracking',\n",
              " 'Google Handwriting Input',\n",
              " 'Google Keep',\n",
              " 'Google My Business',\n",
              " 'Google News',\n",
              " 'Google PDF Viewer',\n",
              " 'Google Pay',\n",
              " 'Google Photos',\n",
              " 'Google Play Books',\n",
              " 'Google Play Games',\n",
              " 'Google Play Movies & TV',\n",
              " 'Google Primer',\n",
              " 'Google Sheets',\n",
              " 'Google Slides',\n",
              " 'Google Street View',\n",
              " 'Google Translate',\n",
              " 'Google Trips - Travel Planner',\n",
              " 'Google Voice',\n",
              " 'Google+',\n",
              " 'Granny',\n",
              " 'Graphing Calculator',\n",
              " 'Grim Soul: Dark Fantasy Survival',\n",
              " 'Groovebook Photo Books & Gifts',\n",
              " 'GroupMe',\n",
              " 'Groupon - Shop Deals, Discounts & Coupons',\n",
              " 'Grubhub: Food Delivery',\n",
              " 'Guns of Glory',\n",
              " 'Gyft - Mobile Gift Card Wallet',\n",
              " 'H Pack',\n",
              " 'H TV',\n",
              " 'H&M',\n",
              " 'HBO GO: Stream with TV Package',\n",
              " 'HBO NOW: Stream TV & Movies',\n",
              " 'HD Camera',\n",
              " 'HD Camera - Best Cam with filters & panorama',\n",
              " 'HD Camera - Quick Snap Photo & Video',\n",
              " 'HD Camera Pro for Android',\n",
              " 'HD Camera Ultra',\n",
              " 'HD Camera for Android',\n",
              " 'HD Movie Video Player',\n",
              " 'HD Video Player',\n",
              " 'HD Widgets',\n",
              " 'HDFC Bank MobileBanking',\n",
              " 'HESI A2 Pocket Prep',\n",
              " 'HISTORY: Watch TV Show Full Episodes & Specials',\n",
              " 'HOTEL DEALS',\n",
              " 'HSL - Tickets, route planner and information',\n",
              " 'HTC Calendar',\n",
              " 'HTC File Manager',\n",
              " 'HTC Gallery',\n",
              " 'HTC Help',\n",
              " 'HTC Lock Screen',\n",
              " 'HTC Mail',\n",
              " 'HTC Sense Input',\n",
              " 'HTC Sense Input-AR',\n",
              " 'HTC Service － DLNA',\n",
              " 'HTC Service—Video Player',\n",
              " 'HTC Social Plugin - Facebook',\n",
              " 'HTC Speak',\n",
              " ...]"
            ]
          },
          "metadata": {
            "tags": []
          },
          "execution_count": 54
        }
      ]
    },
    {
      "cell_type": "code",
      "metadata": {
        "id": "_59l4VH-G7kq"
      },
      "source": [
        ""
      ],
      "execution_count": 54,
      "outputs": []
    },
    {
      "cell_type": "code",
      "metadata": {
        "id": "jJAhKdv7G7-x"
      },
      "source": [
        ""
      ],
      "execution_count": 54,
      "outputs": []
    },
    {
      "cell_type": "code",
      "metadata": {
        "id": "pDxKzqxsG8DW"
      },
      "source": [
        ""
      ],
      "execution_count": 54,
      "outputs": []
    },
    {
      "cell_type": "code",
      "metadata": {
        "id": "mtBIXXGGG8Ic"
      },
      "source": [
        ""
      ],
      "execution_count": 54,
      "outputs": []
    },
    {
      "cell_type": "code",
      "metadata": {
        "id": "30HZYgRuG8OI"
      },
      "source": [
        ""
      ],
      "execution_count": 54,
      "outputs": []
    },
    {
      "cell_type": "code",
      "metadata": {
        "id": "0_CEm7TRG8Vt"
      },
      "source": [
        ""
      ],
      "execution_count": 54,
      "outputs": []
    },
    {
      "cell_type": "code",
      "metadata": {
        "id": "rtQ1mm-BG8a9"
      },
      "source": [
        ""
      ],
      "execution_count": 54,
      "outputs": []
    },
    {
      "cell_type": "code",
      "metadata": {
        "id": "vEff-FKnG8id"
      },
      "source": [
        ""
      ],
      "execution_count": 54,
      "outputs": []
    },
    {
      "cell_type": "code",
      "metadata": {
        "id": "zBSlyIXFG8lg"
      },
      "source": [
        ""
      ],
      "execution_count": 54,
      "outputs": []
    },
    {
      "cell_type": "code",
      "metadata": {
        "id": "FgAkTUImG8t1"
      },
      "source": [
        ""
      ],
      "execution_count": 54,
      "outputs": []
    },
    {
      "cell_type": "code",
      "metadata": {
        "id": "DHvHCcURG8xC"
      },
      "source": [
        ""
      ],
      "execution_count": 54,
      "outputs": []
    },
    {
      "cell_type": "code",
      "metadata": {
        "id": "5pvI0t8TG83N"
      },
      "source": [
        ""
      ],
      "execution_count": 54,
      "outputs": []
    }
  ]
}